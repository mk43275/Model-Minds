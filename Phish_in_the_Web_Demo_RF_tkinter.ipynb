{
  "nbformat": 4,
  "nbformat_minor": 0,
  "metadata": {
    "colab": {
      "provenance": []
    },
    "kernelspec": {
      "name": "python3",
      "display_name": "Python 3"
    },
    "language_info": {
      "name": "python"
    },
    "widgets": {
      "application/vnd.jupyter.widget-state+json": {
        "d095a328279c4936b389e909f5c03a7c": {
          "model_module": "@jupyter-widgets/controls",
          "model_name": "TextModel",
          "model_module_version": "1.5.0",
          "state": {
            "_dom_classes": [],
            "_model_module": "@jupyter-widgets/controls",
            "_model_module_version": "1.5.0",
            "_model_name": "TextModel",
            "_view_count": null,
            "_view_module": "@jupyter-widgets/controls",
            "_view_module_version": "1.5.0",
            "_view_name": "TextView",
            "continuous_update": true,
            "description": "URL:",
            "description_tooltip": null,
            "disabled": false,
            "layout": "IPY_MODEL_28934c6523c7452286aabe99adc56ebc",
            "placeholder": "Enter URL",
            "style": "IPY_MODEL_13a83d984d1b451eaac440a655d95a60",
            "value": ""
          }
        },
        "28934c6523c7452286aabe99adc56ebc": {
          "model_module": "@jupyter-widgets/base",
          "model_name": "LayoutModel",
          "model_module_version": "1.2.0",
          "state": {
            "_model_module": "@jupyter-widgets/base",
            "_model_module_version": "1.2.0",
            "_model_name": "LayoutModel",
            "_view_count": null,
            "_view_module": "@jupyter-widgets/base",
            "_view_module_version": "1.2.0",
            "_view_name": "LayoutView",
            "align_content": null,
            "align_items": null,
            "align_self": null,
            "border": null,
            "bottom": null,
            "display": null,
            "flex": null,
            "flex_flow": null,
            "grid_area": null,
            "grid_auto_columns": null,
            "grid_auto_flow": null,
            "grid_auto_rows": null,
            "grid_column": null,
            "grid_gap": null,
            "grid_row": null,
            "grid_template_areas": null,
            "grid_template_columns": null,
            "grid_template_rows": null,
            "height": null,
            "justify_content": null,
            "justify_items": null,
            "left": null,
            "margin": null,
            "max_height": null,
            "max_width": null,
            "min_height": null,
            "min_width": null,
            "object_fit": null,
            "object_position": null,
            "order": null,
            "overflow": null,
            "overflow_x": null,
            "overflow_y": null,
            "padding": null,
            "right": null,
            "top": null,
            "visibility": null,
            "width": null
          }
        },
        "13a83d984d1b451eaac440a655d95a60": {
          "model_module": "@jupyter-widgets/controls",
          "model_name": "DescriptionStyleModel",
          "model_module_version": "1.5.0",
          "state": {
            "_model_module": "@jupyter-widgets/controls",
            "_model_module_version": "1.5.0",
            "_model_name": "DescriptionStyleModel",
            "_view_count": null,
            "_view_module": "@jupyter-widgets/base",
            "_view_module_version": "1.2.0",
            "_view_name": "StyleView",
            "description_width": ""
          }
        },
        "3100a9b7b6af4fdea0c357cc77d5e8aa": {
          "model_module": "@jupyter-widgets/controls",
          "model_name": "ButtonModel",
          "model_module_version": "1.5.0",
          "state": {
            "_dom_classes": [],
            "_model_module": "@jupyter-widgets/controls",
            "_model_module_version": "1.5.0",
            "_model_name": "ButtonModel",
            "_view_count": null,
            "_view_module": "@jupyter-widgets/controls",
            "_view_module_version": "1.5.0",
            "_view_name": "ButtonView",
            "button_style": "",
            "description": "Predict",
            "disabled": false,
            "icon": "",
            "layout": "IPY_MODEL_c78d8693d61d47b8932b9be83ab79384",
            "style": "IPY_MODEL_0740e369602b491b89a747cc957fe057",
            "tooltip": ""
          }
        },
        "c78d8693d61d47b8932b9be83ab79384": {
          "model_module": "@jupyter-widgets/base",
          "model_name": "LayoutModel",
          "model_module_version": "1.2.0",
          "state": {
            "_model_module": "@jupyter-widgets/base",
            "_model_module_version": "1.2.0",
            "_model_name": "LayoutModel",
            "_view_count": null,
            "_view_module": "@jupyter-widgets/base",
            "_view_module_version": "1.2.0",
            "_view_name": "LayoutView",
            "align_content": null,
            "align_items": null,
            "align_self": null,
            "border": null,
            "bottom": null,
            "display": null,
            "flex": null,
            "flex_flow": null,
            "grid_area": null,
            "grid_auto_columns": null,
            "grid_auto_flow": null,
            "grid_auto_rows": null,
            "grid_column": null,
            "grid_gap": null,
            "grid_row": null,
            "grid_template_areas": null,
            "grid_template_columns": null,
            "grid_template_rows": null,
            "height": null,
            "justify_content": null,
            "justify_items": null,
            "left": null,
            "margin": null,
            "max_height": null,
            "max_width": null,
            "min_height": null,
            "min_width": null,
            "object_fit": null,
            "object_position": null,
            "order": null,
            "overflow": null,
            "overflow_x": null,
            "overflow_y": null,
            "padding": null,
            "right": null,
            "top": null,
            "visibility": null,
            "width": null
          }
        },
        "0740e369602b491b89a747cc957fe057": {
          "model_module": "@jupyter-widgets/controls",
          "model_name": "ButtonStyleModel",
          "model_module_version": "1.5.0",
          "state": {
            "_model_module": "@jupyter-widgets/controls",
            "_model_module_version": "1.5.0",
            "_model_name": "ButtonStyleModel",
            "_view_count": null,
            "_view_module": "@jupyter-widgets/base",
            "_view_module_version": "1.2.0",
            "_view_name": "StyleView",
            "button_color": null,
            "font_weight": ""
          }
        },
        "7086d0991f3b4bffba0426a98f7cfcb7": {
          "model_module": "@jupyter-widgets/controls",
          "model_name": "LabelModel",
          "model_module_version": "1.5.0",
          "state": {
            "_dom_classes": [],
            "_model_module": "@jupyter-widgets/controls",
            "_model_module_version": "1.5.0",
            "_model_name": "LabelModel",
            "_view_count": null,
            "_view_module": "@jupyter-widgets/controls",
            "_view_module_version": "1.5.0",
            "_view_name": "LabelView",
            "description": "",
            "description_tooltip": null,
            "layout": "IPY_MODEL_8981c040fa2f4f84b9d3f98774026aa1",
            "placeholder": "​",
            "style": "IPY_MODEL_560447c26a7d46b38dd8facde7dcbe3f",
            "value": ""
          }
        },
        "8981c040fa2f4f84b9d3f98774026aa1": {
          "model_module": "@jupyter-widgets/base",
          "model_name": "LayoutModel",
          "model_module_version": "1.2.0",
          "state": {
            "_model_module": "@jupyter-widgets/base",
            "_model_module_version": "1.2.0",
            "_model_name": "LayoutModel",
            "_view_count": null,
            "_view_module": "@jupyter-widgets/base",
            "_view_module_version": "1.2.0",
            "_view_name": "LayoutView",
            "align_content": null,
            "align_items": null,
            "align_self": null,
            "border": null,
            "bottom": null,
            "display": null,
            "flex": null,
            "flex_flow": null,
            "grid_area": null,
            "grid_auto_columns": null,
            "grid_auto_flow": null,
            "grid_auto_rows": null,
            "grid_column": null,
            "grid_gap": null,
            "grid_row": null,
            "grid_template_areas": null,
            "grid_template_columns": null,
            "grid_template_rows": null,
            "height": null,
            "justify_content": null,
            "justify_items": null,
            "left": null,
            "margin": null,
            "max_height": null,
            "max_width": null,
            "min_height": null,
            "min_width": null,
            "object_fit": null,
            "object_position": null,
            "order": null,
            "overflow": null,
            "overflow_x": null,
            "overflow_y": null,
            "padding": null,
            "right": null,
            "top": null,
            "visibility": null,
            "width": null
          }
        },
        "560447c26a7d46b38dd8facde7dcbe3f": {
          "model_module": "@jupyter-widgets/controls",
          "model_name": "DescriptionStyleModel",
          "model_module_version": "1.5.0",
          "state": {
            "_model_module": "@jupyter-widgets/controls",
            "_model_module_version": "1.5.0",
            "_model_name": "DescriptionStyleModel",
            "_view_count": null,
            "_view_module": "@jupyter-widgets/base",
            "_view_module_version": "1.2.0",
            "_view_name": "StyleView",
            "description_width": ""
          }
        }
      }
    }
  },
  "cells": [
    {
      "cell_type": "markdown",
      "source": [
        "# **Phish in the Web**\n",
        "\n",
        "### **Demo with tkinter**"
      ],
      "metadata": {
        "id": "9bYAJOxMOA12"
      }
    },
    {
      "cell_type": "code",
      "source": [
        "#import necessary files\n",
        "import pandas as pd\n",
        "import pickle\n",
        "import ipywidgets as widgets\n",
        "from IPython.display import display\n",
        "import re\n",
        "from urllib.parse import urlparse  #for URL feature extraction\n"
      ],
      "metadata": {
        "id": "4NT8GhiuN_F8"
      },
      "execution_count": null,
      "outputs": []
    },
    {
      "cell_type": "markdown",
      "source": [
        "### **Load our RF Demo Trained Model**"
      ],
      "metadata": {
        "id": "Plv69p73OXH_"
      }
    },
    {
      "cell_type": "code",
      "source": [
        "#load the saved model\n",
        "with open(\"phishing_rf_model.saved\", \"rb\") as file:\n",
        "    rf_model = pickle.load(file)"
      ],
      "metadata": {
        "id": "fPrzHAe8OTQg"
      },
      "execution_count": null,
      "outputs": []
    },
    {
      "cell_type": "markdown",
      "source": [
        "### **Feature extraction for the DEMO**"
      ],
      "metadata": {
        "id": "dWy0W-yUOfrU"
      }
    },
    {
      "cell_type": "code",
      "source": [
        "#function to extract features from URL and perform prediction\n",
        "def predict_phishing(url):\n",
        "\n",
        "    try:\n",
        "        #extract features from URL\n",
        "        num_dots = url.count('.')\n",
        "        subdomain_level = url.count('//')\n",
        "        path_level = url.count('/') - 2  #subtract 2 for domain and protocol\n",
        "        url_length = len(url)\n",
        "        num_dash = url.count('-')\n",
        "        num_dash_in_hostname = url.split('/')[2].count('-')  #count dashes in hostname\n",
        "        at_symbol = 1 if '@' in url else 0\n",
        "        tilde_symbol = 1 if '~' in url else 0\n",
        "        num_underscore = url.count('_')\n",
        "        num_percent = url.count('%')\n",
        "        num_query_components = len(urlparse(url).query.split('&'))\n",
        "        num_ampersand = url.count('&')\n",
        "        num_hash = url.count('#')\n",
        "        num_numeric_chars = sum(c.isdigit() for c in url)\n",
        "        no_https = 0 if 'https' in url else 1\n",
        "        random_string = 1 if re.search(r'[0-9]{5}', url) else 0\n",
        "        ip_address = 1 if re.match(r'\\b\\d{1,3}\\.\\d{1,3}\\.\\d{1,3}\\.\\d{1,3}\\b', url) else 0\n",
        "        domain_in_subdomains = 1 if url.count('.') > 2 else 0\n",
        "        domain_in_paths = 1 if '/' + url.split('/')[2].replace('.', '/') + '/' in url else 0\n",
        "        https_in_hostname = 1 if 'https' in url.split('/')[2] else 0\n",
        "        hostname_length = len(urlparse(url).netloc)\n",
        "        path_length = len(urlparse(url).path)\n",
        "        query_length = len(urlparse(url).query)\n",
        "        double_slash_in_path = 1 if '//' in url else 0\n",
        "        num_sensitive_words = 1 if re.search(r'admin|login|password|user', url, re.IGNORECASE) else 0\n",
        "\n",
        "        #perform prediction\n",
        "        input_data = pd.DataFrame([[num_dots, subdomain_level, path_level, url_length, num_dash, num_dash_in_hostname, at_symbol,\n",
        "                       tilde_symbol, num_underscore, num_percent, num_query_components, num_ampersand, num_hash,\n",
        "                       num_numeric_chars, no_https, random_string, ip_address, domain_in_subdomains, domain_in_paths,\n",
        "                       https_in_hostname, hostname_length, path_length, query_length, double_slash_in_path,\n",
        "                       num_sensitive_words]])\n",
        "        prediction = rf_model.predict(input_data)\n",
        "\n",
        "        #return prediction result\n",
        "        if prediction[0] == 1:\n",
        "            return \"It's a PHISH! Proceed with caution...\"\n",
        "        else:\n",
        "            return \"No Phish! Swim freely :)\"\n",
        "    except IndexError:\n",
        "        return \"URL structure is not as expected. Re-enter!\""
      ],
      "metadata": {
        "id": "U1rwIyt5OfRv"
      },
      "execution_count": null,
      "outputs": []
    },
    {
      "cell_type": "markdown",
      "source": [
        "### **Text input & Output**\n",
        "\n",
        "The UI for the demo"
      ],
      "metadata": {
        "id": "Tx1ejhLaOyD5"
      }
    },
    {
      "cell_type": "code",
      "source": [
        "#text input for URL\n",
        "url_text_input = widgets.Text(placeholder='Enter URL', description='URL:')\n",
        "display(url_text_input)\n",
        "\n",
        "#button to trigger prediction\n",
        "predict_button = widgets.Button(description='Predict')\n",
        "display(predict_button)\n",
        "\n",
        "#output widget for displaying prediction result\n",
        "result_label = widgets.Label()\n",
        "display(result_label)\n",
        "\n",
        "#function to handle button click event\n",
        "def on_predict_button_clicked(b):\n",
        "    url = url_text_input.value.strip()\n",
        "    if url:\n",
        "        result_label.value = predict_phishing(url)\n",
        "    else:\n",
        "        result_label.value = \"Please enter a URL.\"\n",
        "\n",
        "#attach button click event\n",
        "predict_button.on_click(on_predict_button_clicked)"
      ],
      "metadata": {
        "colab": {
          "base_uri": "https://localhost:8080/",
          "height": 85,
          "referenced_widgets": [
            "d095a328279c4936b389e909f5c03a7c",
            "28934c6523c7452286aabe99adc56ebc",
            "13a83d984d1b451eaac440a655d95a60",
            "3100a9b7b6af4fdea0c357cc77d5e8aa",
            "c78d8693d61d47b8932b9be83ab79384",
            "0740e369602b491b89a747cc957fe057",
            "7086d0991f3b4bffba0426a98f7cfcb7",
            "8981c040fa2f4f84b9d3f98774026aa1",
            "560447c26a7d46b38dd8facde7dcbe3f"
          ]
        },
        "id": "PHtee2zNOxtC",
        "outputId": "9c0667e2-b2ce-4e36-c6d4-2b1be00c77ab"
      },
      "execution_count": null,
      "outputs": [
        {
          "output_type": "display_data",
          "data": {
            "text/plain": [
              "Text(value='', description='URL:', placeholder='Enter URL')"
            ],
            "application/vnd.jupyter.widget-view+json": {
              "version_major": 2,
              "version_minor": 0,
              "model_id": "d095a328279c4936b389e909f5c03a7c"
            }
          },
          "metadata": {}
        },
        {
          "output_type": "display_data",
          "data": {
            "text/plain": [
              "Button(description='Predict', style=ButtonStyle())"
            ],
            "application/vnd.jupyter.widget-view+json": {
              "version_major": 2,
              "version_minor": 0,
              "model_id": "3100a9b7b6af4fdea0c357cc77d5e8aa"
            }
          },
          "metadata": {}
        },
        {
          "output_type": "display_data",
          "data": {
            "text/plain": [
              "Label(value='')"
            ],
            "application/vnd.jupyter.widget-view+json": {
              "version_major": 2,
              "version_minor": 0,
              "model_id": "7086d0991f3b4bffba0426a98f7cfcb7"
            }
          },
          "metadata": {}
        }
      ]
    },
    {
      "cell_type": "markdown",
      "source": [
        "## **Examples:**\n",
        "\n",
        "1. http:// t-info.mail.adobe.com/r/?id=hc43f43t4a,afd67070,affc7349&p1=t.mid.accor-mail.com/r/?id=159593f159593159593,hde43e13b13,ecdfafef,ee5cfa06&p1=filepmgklf.com/victimemail @domain.com\n",
        "\n",
        "- this is phishing & is detected as phishing\n",
        "\n",
        "2. http://google.com-redirect@valimail.com\n",
        "\n",
        "- this is phishing, and is detected as phishing\n",
        "\n",
        "3. https://colab.research.google.com\n",
        "\n",
        "- not phishing & resulted in not phishing\n",
        "\n",
        "4. https://chat.openai.com/c/2118426e-f3a8-4b6a-8200-b6a2fd5a8072\n",
        "\n",
        "- not phishing, but resulted in phish\n",
        "\n",
        "\n",
        "**75% correct**"
      ],
      "metadata": {
        "id": "bKSiMHXNNrp-"
      }
    }
  ]
}