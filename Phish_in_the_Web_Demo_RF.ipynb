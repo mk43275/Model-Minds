{
  "nbformat": 4,
  "nbformat_minor": 0,
  "metadata": {
    "colab": {
      "provenance": []
    },
    "kernelspec": {
      "name": "python3",
      "display_name": "Python 3"
    },
    "language_info": {
      "name": "python"
    }
  },
  "cells": [
    {
      "cell_type": "markdown",
      "source": [
        "# **Phish in the Web**\n",
        "### **RF for Demo**\n",
        "\n",
        "Because of time constraints, we are not able to use replicate the code using Selenium WebDriver to extract webpage data. So with the code we have from **Phishing Dataset for Machine Learning** we will use internal features to train our Random Forest model for our demo, as we do not have access to third party services for the external features.\n",
        "\n",
        ".\n",
        "\n",
        "This has a high chance of lowering our accuracy, and we will jot down our insights below.\n",
        "\n"
      ],
      "metadata": {
        "id": "9tIaGxOWEu1u"
      }
    },
    {
      "cell_type": "markdown",
      "source": [
        "### **Preprocessing data**\n",
        "\n",
        "We will be using all the internal features"
      ],
      "metadata": {
        "id": "6vgVqXt4FZ3M"
      }
    },
    {
      "cell_type": "code",
      "source": [
        "#import libraries only ONCE\n",
        "import pandas as pd\n",
        "from sklearn.preprocessing import MinMaxScaler #no one hot // all columns numeric\n",
        "from sklearn.model_selection import train_test_split #data splitting"
      ],
      "metadata": {
        "id": "fKFhBR07Fnjk"
      },
      "execution_count": null,
      "outputs": []
    },
    {
      "cell_type": "code",
      "execution_count": null,
      "metadata": {
        "colab": {
          "base_uri": "https://localhost:8080/"
        },
        "id": "-6OSTanIEqMY",
        "outputId": "4e5235b5-983f-4ea5-96fb-82401d8d1293"
      },
      "outputs": [
        {
          "output_type": "execute_result",
          "data": {
            "text/plain": [
              "(10000, 50)"
            ]
          },
          "metadata": {},
          "execution_count": 14
        }
      ],
      "source": [
        "#read in data & check for shape\n",
        "phish_df = pd.read_csv(\"Phishing_Legitimate_full.csv\")\n",
        "phish_df.shape"
      ]
    },
    {
      "cell_type": "code",
      "source": [
        "#specifying the columns we want to keep\n",
        "selected_columns = ['NumDots', 'SubdomainLevel', 'PathLevel', 'UrlLength', 'NumDash',\n",
        "    'NumDashInHostname', 'AtSymbol','TildeSymbol', 'NumUnderscore','NumPercent',\n",
        "    'NumQueryComponents','NumAmpersand','NumHash','NumNumericChars','NoHttps',\n",
        "    'RandomString','IpAddress','DomainInSubdomains','DomainInPaths','HttpsInHostname','HostnameLength',\n",
        "    'PathLength','QueryLength','DoubleSlashInPath','NumSensitiveWords']\n",
        "\n",
        "#label\n",
        "label_column = ['CLASS_LABEL']"
      ],
      "metadata": {
        "id": "BPbhLFpqFpAV"
      },
      "execution_count": null,
      "outputs": []
    },
    {
      "cell_type": "code",
      "source": [
        "#features df\n",
        "phishing_features_df = phish_df[selected_columns]\n",
        "\n",
        "#label df\n",
        "phishing_label_df = phish_df[label_column]\n",
        "\n",
        "phishing_features_df.head()"
      ],
      "metadata": {
        "colab": {
          "base_uri": "https://localhost:8080/",
          "height": 256
        },
        "id": "TlEua7pFF3mH",
        "outputId": "c5a5ff6f-caa3-4ba3-a2c4-96bf588f1602"
      },
      "execution_count": null,
      "outputs": [
        {
          "output_type": "execute_result",
          "data": {
            "text/plain": [
              "   NumDots  SubdomainLevel  PathLevel  UrlLength  NumDash  NumDashInHostname  \\\n",
              "0        3               1          5         72        0                  0   \n",
              "1        3               1          3        144        0                  0   \n",
              "2        3               1          2         58        0                  0   \n",
              "3        3               1          6         79        1                  0   \n",
              "4        3               0          4         46        0                  0   \n",
              "\n",
              "   AtSymbol  TildeSymbol  NumUnderscore  NumPercent  ...  RandomString  \\\n",
              "0         0            0              0           0  ...             0   \n",
              "1         0            0              2           0  ...             0   \n",
              "2         0            0              0           0  ...             0   \n",
              "3         0            0              0           0  ...             0   \n",
              "4         0            0              0           0  ...             1   \n",
              "\n",
              "   IpAddress  DomainInSubdomains  DomainInPaths  HttpsInHostname  \\\n",
              "0          0                   0              0                0   \n",
              "1          0                   0              0                0   \n",
              "2          0                   0              0                0   \n",
              "3          0                   0              1                0   \n",
              "4          0                   0              1                0   \n",
              "\n",
              "   HostnameLength  PathLength  QueryLength  DoubleSlashInPath  \\\n",
              "0              21          44            0                  0   \n",
              "1              17          16          103                  0   \n",
              "2              27          24            0                  0   \n",
              "3              22          50            0                  0   \n",
              "4              10          29            0                  0   \n",
              "\n",
              "   NumSensitiveWords  \n",
              "0                  0  \n",
              "1                  1  \n",
              "2                  0  \n",
              "3                  0  \n",
              "4                  0  \n",
              "\n",
              "[5 rows x 25 columns]"
            ],
            "text/html": [
              "\n",
              "  <div id=\"df-a278b347-7467-43ac-a33c-f2172e0e5cb3\" class=\"colab-df-container\">\n",
              "    <div>\n",
              "<style scoped>\n",
              "    .dataframe tbody tr th:only-of-type {\n",
              "        vertical-align: middle;\n",
              "    }\n",
              "\n",
              "    .dataframe tbody tr th {\n",
              "        vertical-align: top;\n",
              "    }\n",
              "\n",
              "    .dataframe thead th {\n",
              "        text-align: right;\n",
              "    }\n",
              "</style>\n",
              "<table border=\"1\" class=\"dataframe\">\n",
              "  <thead>\n",
              "    <tr style=\"text-align: right;\">\n",
              "      <th></th>\n",
              "      <th>NumDots</th>\n",
              "      <th>SubdomainLevel</th>\n",
              "      <th>PathLevel</th>\n",
              "      <th>UrlLength</th>\n",
              "      <th>NumDash</th>\n",
              "      <th>NumDashInHostname</th>\n",
              "      <th>AtSymbol</th>\n",
              "      <th>TildeSymbol</th>\n",
              "      <th>NumUnderscore</th>\n",
              "      <th>NumPercent</th>\n",
              "      <th>...</th>\n",
              "      <th>RandomString</th>\n",
              "      <th>IpAddress</th>\n",
              "      <th>DomainInSubdomains</th>\n",
              "      <th>DomainInPaths</th>\n",
              "      <th>HttpsInHostname</th>\n",
              "      <th>HostnameLength</th>\n",
              "      <th>PathLength</th>\n",
              "      <th>QueryLength</th>\n",
              "      <th>DoubleSlashInPath</th>\n",
              "      <th>NumSensitiveWords</th>\n",
              "    </tr>\n",
              "  </thead>\n",
              "  <tbody>\n",
              "    <tr>\n",
              "      <th>0</th>\n",
              "      <td>3</td>\n",
              "      <td>1</td>\n",
              "      <td>5</td>\n",
              "      <td>72</td>\n",
              "      <td>0</td>\n",
              "      <td>0</td>\n",
              "      <td>0</td>\n",
              "      <td>0</td>\n",
              "      <td>0</td>\n",
              "      <td>0</td>\n",
              "      <td>...</td>\n",
              "      <td>0</td>\n",
              "      <td>0</td>\n",
              "      <td>0</td>\n",
              "      <td>0</td>\n",
              "      <td>0</td>\n",
              "      <td>21</td>\n",
              "      <td>44</td>\n",
              "      <td>0</td>\n",
              "      <td>0</td>\n",
              "      <td>0</td>\n",
              "    </tr>\n",
              "    <tr>\n",
              "      <th>1</th>\n",
              "      <td>3</td>\n",
              "      <td>1</td>\n",
              "      <td>3</td>\n",
              "      <td>144</td>\n",
              "      <td>0</td>\n",
              "      <td>0</td>\n",
              "      <td>0</td>\n",
              "      <td>0</td>\n",
              "      <td>2</td>\n",
              "      <td>0</td>\n",
              "      <td>...</td>\n",
              "      <td>0</td>\n",
              "      <td>0</td>\n",
              "      <td>0</td>\n",
              "      <td>0</td>\n",
              "      <td>0</td>\n",
              "      <td>17</td>\n",
              "      <td>16</td>\n",
              "      <td>103</td>\n",
              "      <td>0</td>\n",
              "      <td>1</td>\n",
              "    </tr>\n",
              "    <tr>\n",
              "      <th>2</th>\n",
              "      <td>3</td>\n",
              "      <td>1</td>\n",
              "      <td>2</td>\n",
              "      <td>58</td>\n",
              "      <td>0</td>\n",
              "      <td>0</td>\n",
              "      <td>0</td>\n",
              "      <td>0</td>\n",
              "      <td>0</td>\n",
              "      <td>0</td>\n",
              "      <td>...</td>\n",
              "      <td>0</td>\n",
              "      <td>0</td>\n",
              "      <td>0</td>\n",
              "      <td>0</td>\n",
              "      <td>0</td>\n",
              "      <td>27</td>\n",
              "      <td>24</td>\n",
              "      <td>0</td>\n",
              "      <td>0</td>\n",
              "      <td>0</td>\n",
              "    </tr>\n",
              "    <tr>\n",
              "      <th>3</th>\n",
              "      <td>3</td>\n",
              "      <td>1</td>\n",
              "      <td>6</td>\n",
              "      <td>79</td>\n",
              "      <td>1</td>\n",
              "      <td>0</td>\n",
              "      <td>0</td>\n",
              "      <td>0</td>\n",
              "      <td>0</td>\n",
              "      <td>0</td>\n",
              "      <td>...</td>\n",
              "      <td>0</td>\n",
              "      <td>0</td>\n",
              "      <td>0</td>\n",
              "      <td>1</td>\n",
              "      <td>0</td>\n",
              "      <td>22</td>\n",
              "      <td>50</td>\n",
              "      <td>0</td>\n",
              "      <td>0</td>\n",
              "      <td>0</td>\n",
              "    </tr>\n",
              "    <tr>\n",
              "      <th>4</th>\n",
              "      <td>3</td>\n",
              "      <td>0</td>\n",
              "      <td>4</td>\n",
              "      <td>46</td>\n",
              "      <td>0</td>\n",
              "      <td>0</td>\n",
              "      <td>0</td>\n",
              "      <td>0</td>\n",
              "      <td>0</td>\n",
              "      <td>0</td>\n",
              "      <td>...</td>\n",
              "      <td>1</td>\n",
              "      <td>0</td>\n",
              "      <td>0</td>\n",
              "      <td>1</td>\n",
              "      <td>0</td>\n",
              "      <td>10</td>\n",
              "      <td>29</td>\n",
              "      <td>0</td>\n",
              "      <td>0</td>\n",
              "      <td>0</td>\n",
              "    </tr>\n",
              "  </tbody>\n",
              "</table>\n",
              "<p>5 rows × 25 columns</p>\n",
              "</div>\n",
              "    <div class=\"colab-df-buttons\">\n",
              "\n",
              "  <div class=\"colab-df-container\">\n",
              "    <button class=\"colab-df-convert\" onclick=\"convertToInteractive('df-a278b347-7467-43ac-a33c-f2172e0e5cb3')\"\n",
              "            title=\"Convert this dataframe to an interactive table.\"\n",
              "            style=\"display:none;\">\n",
              "\n",
              "  <svg xmlns=\"http://www.w3.org/2000/svg\" height=\"24px\" viewBox=\"0 -960 960 960\">\n",
              "    <path d=\"M120-120v-720h720v720H120Zm60-500h600v-160H180v160Zm220 220h160v-160H400v160Zm0 220h160v-160H400v160ZM180-400h160v-160H180v160Zm440 0h160v-160H620v160ZM180-180h160v-160H180v160Zm440 0h160v-160H620v160Z\"/>\n",
              "  </svg>\n",
              "    </button>\n",
              "\n",
              "  <style>\n",
              "    .colab-df-container {\n",
              "      display:flex;\n",
              "      gap: 12px;\n",
              "    }\n",
              "\n",
              "    .colab-df-convert {\n",
              "      background-color: #E8F0FE;\n",
              "      border: none;\n",
              "      border-radius: 50%;\n",
              "      cursor: pointer;\n",
              "      display: none;\n",
              "      fill: #1967D2;\n",
              "      height: 32px;\n",
              "      padding: 0 0 0 0;\n",
              "      width: 32px;\n",
              "    }\n",
              "\n",
              "    .colab-df-convert:hover {\n",
              "      background-color: #E2EBFA;\n",
              "      box-shadow: 0px 1px 2px rgba(60, 64, 67, 0.3), 0px 1px 3px 1px rgba(60, 64, 67, 0.15);\n",
              "      fill: #174EA6;\n",
              "    }\n",
              "\n",
              "    .colab-df-buttons div {\n",
              "      margin-bottom: 4px;\n",
              "    }\n",
              "\n",
              "    [theme=dark] .colab-df-convert {\n",
              "      background-color: #3B4455;\n",
              "      fill: #D2E3FC;\n",
              "    }\n",
              "\n",
              "    [theme=dark] .colab-df-convert:hover {\n",
              "      background-color: #434B5C;\n",
              "      box-shadow: 0px 1px 3px 1px rgba(0, 0, 0, 0.15);\n",
              "      filter: drop-shadow(0px 1px 2px rgba(0, 0, 0, 0.3));\n",
              "      fill: #FFFFFF;\n",
              "    }\n",
              "  </style>\n",
              "\n",
              "    <script>\n",
              "      const buttonEl =\n",
              "        document.querySelector('#df-a278b347-7467-43ac-a33c-f2172e0e5cb3 button.colab-df-convert');\n",
              "      buttonEl.style.display =\n",
              "        google.colab.kernel.accessAllowed ? 'block' : 'none';\n",
              "\n",
              "      async function convertToInteractive(key) {\n",
              "        const element = document.querySelector('#df-a278b347-7467-43ac-a33c-f2172e0e5cb3');\n",
              "        const dataTable =\n",
              "          await google.colab.kernel.invokeFunction('convertToInteractive',\n",
              "                                                    [key], {});\n",
              "        if (!dataTable) return;\n",
              "\n",
              "        const docLinkHtml = 'Like what you see? Visit the ' +\n",
              "          '<a target=\"_blank\" href=https://colab.research.google.com/notebooks/data_table.ipynb>data table notebook</a>'\n",
              "          + ' to learn more about interactive tables.';\n",
              "        element.innerHTML = '';\n",
              "        dataTable['output_type'] = 'display_data';\n",
              "        await google.colab.output.renderOutput(dataTable, element);\n",
              "        const docLink = document.createElement('div');\n",
              "        docLink.innerHTML = docLinkHtml;\n",
              "        element.appendChild(docLink);\n",
              "      }\n",
              "    </script>\n",
              "  </div>\n",
              "\n",
              "\n",
              "<div id=\"df-37cde13b-f2cb-4f24-9e68-23952bf55981\">\n",
              "  <button class=\"colab-df-quickchart\" onclick=\"quickchart('df-37cde13b-f2cb-4f24-9e68-23952bf55981')\"\n",
              "            title=\"Suggest charts\"\n",
              "            style=\"display:none;\">\n",
              "\n",
              "<svg xmlns=\"http://www.w3.org/2000/svg\" height=\"24px\"viewBox=\"0 0 24 24\"\n",
              "     width=\"24px\">\n",
              "    <g>\n",
              "        <path d=\"M19 3H5c-1.1 0-2 .9-2 2v14c0 1.1.9 2 2 2h14c1.1 0 2-.9 2-2V5c0-1.1-.9-2-2-2zM9 17H7v-7h2v7zm4 0h-2V7h2v10zm4 0h-2v-4h2v4z\"/>\n",
              "    </g>\n",
              "</svg>\n",
              "  </button>\n",
              "\n",
              "<style>\n",
              "  .colab-df-quickchart {\n",
              "      --bg-color: #E8F0FE;\n",
              "      --fill-color: #1967D2;\n",
              "      --hover-bg-color: #E2EBFA;\n",
              "      --hover-fill-color: #174EA6;\n",
              "      --disabled-fill-color: #AAA;\n",
              "      --disabled-bg-color: #DDD;\n",
              "  }\n",
              "\n",
              "  [theme=dark] .colab-df-quickchart {\n",
              "      --bg-color: #3B4455;\n",
              "      --fill-color: #D2E3FC;\n",
              "      --hover-bg-color: #434B5C;\n",
              "      --hover-fill-color: #FFFFFF;\n",
              "      --disabled-bg-color: #3B4455;\n",
              "      --disabled-fill-color: #666;\n",
              "  }\n",
              "\n",
              "  .colab-df-quickchart {\n",
              "    background-color: var(--bg-color);\n",
              "    border: none;\n",
              "    border-radius: 50%;\n",
              "    cursor: pointer;\n",
              "    display: none;\n",
              "    fill: var(--fill-color);\n",
              "    height: 32px;\n",
              "    padding: 0;\n",
              "    width: 32px;\n",
              "  }\n",
              "\n",
              "  .colab-df-quickchart:hover {\n",
              "    background-color: var(--hover-bg-color);\n",
              "    box-shadow: 0 1px 2px rgba(60, 64, 67, 0.3), 0 1px 3px 1px rgba(60, 64, 67, 0.15);\n",
              "    fill: var(--button-hover-fill-color);\n",
              "  }\n",
              "\n",
              "  .colab-df-quickchart-complete:disabled,\n",
              "  .colab-df-quickchart-complete:disabled:hover {\n",
              "    background-color: var(--disabled-bg-color);\n",
              "    fill: var(--disabled-fill-color);\n",
              "    box-shadow: none;\n",
              "  }\n",
              "\n",
              "  .colab-df-spinner {\n",
              "    border: 2px solid var(--fill-color);\n",
              "    border-color: transparent;\n",
              "    border-bottom-color: var(--fill-color);\n",
              "    animation:\n",
              "      spin 1s steps(1) infinite;\n",
              "  }\n",
              "\n",
              "  @keyframes spin {\n",
              "    0% {\n",
              "      border-color: transparent;\n",
              "      border-bottom-color: var(--fill-color);\n",
              "      border-left-color: var(--fill-color);\n",
              "    }\n",
              "    20% {\n",
              "      border-color: transparent;\n",
              "      border-left-color: var(--fill-color);\n",
              "      border-top-color: var(--fill-color);\n",
              "    }\n",
              "    30% {\n",
              "      border-color: transparent;\n",
              "      border-left-color: var(--fill-color);\n",
              "      border-top-color: var(--fill-color);\n",
              "      border-right-color: var(--fill-color);\n",
              "    }\n",
              "    40% {\n",
              "      border-color: transparent;\n",
              "      border-right-color: var(--fill-color);\n",
              "      border-top-color: var(--fill-color);\n",
              "    }\n",
              "    60% {\n",
              "      border-color: transparent;\n",
              "      border-right-color: var(--fill-color);\n",
              "    }\n",
              "    80% {\n",
              "      border-color: transparent;\n",
              "      border-right-color: var(--fill-color);\n",
              "      border-bottom-color: var(--fill-color);\n",
              "    }\n",
              "    90% {\n",
              "      border-color: transparent;\n",
              "      border-bottom-color: var(--fill-color);\n",
              "    }\n",
              "  }\n",
              "</style>\n",
              "\n",
              "  <script>\n",
              "    async function quickchart(key) {\n",
              "      const quickchartButtonEl =\n",
              "        document.querySelector('#' + key + ' button');\n",
              "      quickchartButtonEl.disabled = true;  // To prevent multiple clicks.\n",
              "      quickchartButtonEl.classList.add('colab-df-spinner');\n",
              "      try {\n",
              "        const charts = await google.colab.kernel.invokeFunction(\n",
              "            'suggestCharts', [key], {});\n",
              "      } catch (error) {\n",
              "        console.error('Error during call to suggestCharts:', error);\n",
              "      }\n",
              "      quickchartButtonEl.classList.remove('colab-df-spinner');\n",
              "      quickchartButtonEl.classList.add('colab-df-quickchart-complete');\n",
              "    }\n",
              "    (() => {\n",
              "      let quickchartButtonEl =\n",
              "        document.querySelector('#df-37cde13b-f2cb-4f24-9e68-23952bf55981 button');\n",
              "      quickchartButtonEl.style.display =\n",
              "        google.colab.kernel.accessAllowed ? 'block' : 'none';\n",
              "    })();\n",
              "  </script>\n",
              "</div>\n",
              "    </div>\n",
              "  </div>\n"
            ],
            "application/vnd.google.colaboratory.intrinsic+json": {
              "type": "dataframe",
              "variable_name": "phishing_features_df"
            }
          },
          "metadata": {},
          "execution_count": 16
        }
      ]
    },
    {
      "cell_type": "code",
      "source": [
        "#initiate scaler\n",
        "min_scaler = MinMaxScaler()\n",
        "\n",
        "######## SCALE #########\n",
        "#scale five features\n",
        "phishing_features_df[selected_columns] = min_scaler.fit_transform(phishing_features_df[selected_columns])"
      ],
      "metadata": {
        "colab": {
          "base_uri": "https://localhost:8080/"
        },
        "id": "rvN5_H7XF_9J",
        "outputId": "24208236-5ad2-4093-f5af-7090432238d8"
      },
      "execution_count": null,
      "outputs": [
        {
          "output_type": "stream",
          "name": "stderr",
          "text": [
            "<ipython-input-17-2b1016fee27e>:6: SettingWithCopyWarning: \n",
            "A value is trying to be set on a copy of a slice from a DataFrame.\n",
            "Try using .loc[row_indexer,col_indexer] = value instead\n",
            "\n",
            "See the caveats in the documentation: https://pandas.pydata.org/pandas-docs/stable/user_guide/indexing.html#returning-a-view-versus-a-copy\n",
            "  phishing_features_df[selected_columns] = min_scaler.fit_transform(phishing_features_df[selected_columns])\n"
          ]
        }
      ]
    },
    {
      "cell_type": "code",
      "source": [
        "##### SPLIT DATA ####\n",
        "#split data\n",
        "x_train, x_temp, y_train, y_temp = train_test_split(phishing_features_df, phishing_label_df, test_size=0.3, random_state=42)\n",
        "x_val, x_test, y_val, y_test = train_test_split(x_temp, y_temp, test_size=0.7, random_state=42)\n"
      ],
      "metadata": {
        "id": "YrqknDHcGGXs"
      },
      "execution_count": null,
      "outputs": []
    },
    {
      "cell_type": "code",
      "source": [
        "#print training data shape and label's shape\n",
        "print(f\"Training: Features' shape [no. of examples * feature vector size] = {x_train.shape}\")\n",
        "print(f\"Training: Label's shape [no. of examples * 1] = {y_train.shape}\\n\")\n",
        "\n",
        "#print test data shape and label's shape\n",
        "print(f\"Test: Features' shape [no. of examples * feature vector size] = {x_test.shape}\")\n",
        "print(f\"Test: Label's shape [no. of examples * 1] = {y_test.shape}\\n\")\n",
        "\n",
        "#print validation data shape and label's shape\n",
        "print(f\"Validation: Features' shape [no. of examples * feature vector size] = {x_val.shape}\")\n",
        "print(f\"Validation: Label's shape [no. of examples * 1] = {y_val.shape}\\n\")\n"
      ],
      "metadata": {
        "colab": {
          "base_uri": "https://localhost:8080/"
        },
        "id": "TyHznlcqGLtv",
        "outputId": "efc24f3f-75e4-4b3e-a243-efdcab5dd084"
      },
      "execution_count": null,
      "outputs": [
        {
          "output_type": "stream",
          "name": "stdout",
          "text": [
            "Training: Features' shape [no. of examples * feature vector size] = (7000, 25)\n",
            "Training: Label's shape [no. of examples * 1] = (7000, 1)\n",
            "\n",
            "Test: Features' shape [no. of examples * feature vector size] = (2100, 25)\n",
            "Test: Label's shape [no. of examples * 1] = (2100, 1)\n",
            "\n",
            "Validation: Features' shape [no. of examples * feature vector size] = (900, 25)\n",
            "Validation: Label's shape [no. of examples * 1] = (900, 1)\n",
            "\n"
          ]
        }
      ]
    },
    {
      "cell_type": "markdown",
      "source": [
        "### **Training RF Model**"
      ],
      "metadata": {
        "id": "eGgOu-diGOv4"
      }
    },
    {
      "cell_type": "code",
      "source": [
        "#import necessary file once\n",
        "from sklearn.ensemble import RandomForestClassifier\n",
        "from sklearn.metrics import classification_report, roc_curve, roc_auc_score, confusion_matrix\n",
        "import matplotlib.pyplot as plt\n",
        "import seaborn as sns"
      ],
      "metadata": {
        "id": "7HOKOnIbGRRl"
      },
      "execution_count": null,
      "outputs": []
    },
    {
      "cell_type": "code",
      "source": [
        "#Random Forest\n",
        "rf_model = RandomForestClassifier(n_estimators=100, random_state=42)\n",
        "rf_model.fit(x_train, y_train.values.ravel())\n",
        "rf_predictions = rf_model.predict(x_test)\n",
        "\n",
        "print(\"\\nRandom Forest Classification Report:\")\n",
        "print(classification_report(y_test, rf_predictions))"
      ],
      "metadata": {
        "colab": {
          "base_uri": "https://localhost:8080/"
        },
        "id": "Jo6Z3AOsuRMo",
        "outputId": "0a47612b-56c7-4261-995d-d16997e5d67d"
      },
      "execution_count": null,
      "outputs": [
        {
          "output_type": "stream",
          "name": "stdout",
          "text": [
            "\n",
            "Random Forest Classification Report:\n",
            "              precision    recall  f1-score   support\n",
            "\n",
            "           0       0.91      0.90      0.91      1037\n",
            "           1       0.91      0.91      0.91      1063\n",
            "\n",
            "    accuracy                           0.91      2100\n",
            "   macro avg       0.91      0.91      0.91      2100\n",
            "weighted avg       0.91      0.91      0.91      2100\n",
            "\n"
          ]
        }
      ]
    },
    {
      "cell_type": "code",
      "source": [
        "from sklearn.metrics import accuracy_score\n",
        "\n",
        "#test accuracy\n",
        "rf_test_accuracy = accuracy_score(y_test, rf_predictions)\n",
        "print(f\"Random Forest Test Accuracy: {rf_test_accuracy:.2f}\")\n",
        "\n",
        "#validation accuracy\n",
        "rf_val_predictions = rf_model.predict(x_val)\n",
        "rf_val_accuracy = accuracy_score(y_val, rf_val_predictions)\n",
        "print(f\"Random Forest Validation Accuracy: {rf_val_accuracy:.2f}\")\n"
      ],
      "metadata": {
        "id": "Q9WeJANVhCNu",
        "outputId": "29475acf-0519-4b60-ee39-06736e9ae92f",
        "colab": {
          "base_uri": "https://localhost:8080/"
        }
      },
      "execution_count": null,
      "outputs": [
        {
          "output_type": "stream",
          "name": "stdout",
          "text": [
            "Random Forest Test Accuracy: 0.91\n",
            "Random Forest Validation Accuracy: 0.92\n"
          ]
        }
      ]
    },
    {
      "cell_type": "code",
      "source": [
        "#ROC Curve and ROC AUC Score\n",
        "rf_probs = rf_model.predict_proba(x_test)[:, 1]\n",
        "fpr, tpr, _ = roc_curve(y_test, rf_probs)\n",
        "roc_auc = roc_auc_score(y_test, rf_probs)\n",
        "\n",
        "plt.figure(figsize=(8, 6))\n",
        "plt.plot(fpr, tpr, color='blue', lw=2, label='ROC curve (AUC = %0.2f)' % roc_auc)\n",
        "plt.plot([0, 1], [0, 1], color='gray', linestyle='--')\n",
        "plt.xlim([0.0, 1.0])\n",
        "plt.ylim([0.0, 1.05])\n",
        "plt.xlabel('False Positive Rate')\n",
        "plt.ylabel('True Positive Rate')\n",
        "plt.title('Receiver Operating Characteristic (ROC) Curve')\n",
        "plt.legend(loc=\"lower right\")\n",
        "plt.show()\n",
        "\n",
        "#confusion Matrix\n",
        "conf_matrix = confusion_matrix(y_test, rf_predictions)\n",
        "plt.figure(figsize=(8, 6))\n",
        "sns.heatmap(conf_matrix, annot=True, fmt=\"d\", cmap=\"Blues\", cbar=False)\n",
        "plt.xlabel(\"Predicted labels\")\n",
        "plt.ylabel(\"True labels\")\n",
        "plt.title(\"Confusion Matrix\")\n",
        "plt.show()"
      ],
      "metadata": {
        "colab": {
          "base_uri": "https://localhost:8080/",
          "height": 1000
        },
        "id": "N-HETivQvc60",
        "outputId": "9511d2bc-62b0-4b13-a1d9-da57c60608d3"
      },
      "execution_count": null,
      "outputs": [
        {
          "output_type": "display_data",
          "data": {
            "text/plain": [
              "<Figure size 800x600 with 1 Axes>"
            ],
            "image/png": "[encoded data removed]"
          },
          "metadata": {}
        },
        {
          "output_type": "display_data",
          "data": {
            "text/plain": [
              "<Figure size 800x600 with 1 Axes>"
            ],
            "image/png": "[encoded data removed]"
          },
          "metadata": {}
        }
      ]
    },
    {
      "cell_type": "code",
      "source": [
        "#save best model\n",
        "import pickle\n",
        "\n",
        "#store model\n",
        "file_to_write = open(\"phishing_rf_model.saved\",\"wb\")\n",
        "pickle.dump(rf_model,file_to_write)\n",
        "file_to_write.close()\n",
        "\n",
        "#store our test data which we may need to use later\n",
        "file_to_write = open(\"rf_test_data.dat\",\"wb\")\n",
        "pickle.dump([x_test,y_test],file_to_write)\n",
        "file_to_write.close()"
      ],
      "metadata": {
        "id": "scnjRAaWGZrE"
      },
      "execution_count": null,
      "outputs": []
    },
    {
      "cell_type": "markdown",
      "source": [
        "### **Feature Importance**\n",
        "\n",
        "- we can still try to see which features are most prominent out of the internal features"
      ],
      "metadata": {
        "id": "UN8sYKQWPE6d"
      }
    },
    {
      "cell_type": "code",
      "source": [
        "feature_importances = rf_model.feature_importances_ #getting feature importances\n",
        "feature_names = x_train.columns # get feature names\n",
        "\n",
        "#associate features w their names\n",
        "feature_importance_dict = dict(zip(feature_names, feature_importances))\n",
        "\n",
        "#sort feature importance dictionary by values (importance scores) in descending order\n",
        "sorted_feature_importance = sorted(feature_importance_dict.items(), key=lambda x: x[1], reverse=True)\n",
        "\n",
        "#print them\n",
        "print(\"\\nFeature Importance:\")\n",
        "for feature, importance in sorted_feature_importance:\n",
        "    print(f\"{feature}: {importance}\")"
      ],
      "metadata": {
        "colab": {
          "base_uri": "https://localhost:8080/"
        },
        "id": "f3vIL-nat55u",
        "outputId": "5cd5b158-6b91-469b-a810-36ad612211ef"
      },
      "execution_count": null,
      "outputs": [
        {
          "output_type": "stream",
          "name": "stdout",
          "text": [
            "\n",
            "Feature Importance:\n",
            "NumDash: 0.15474009850255926\n",
            "NumNumericChars: 0.13723362769583275\n",
            "PathLength: 0.10760507857829726\n",
            "PathLevel: 0.09554914921662984\n",
            "UrlLength: 0.09475827116568405\n",
            "NumDots: 0.08504486831492929\n",
            "HostnameLength: 0.07317519496279212\n",
            "NumSensitiveWords: 0.03940815614693097\n",
            "SubdomainLevel: 0.03471037521921887\n",
            "QueryLength: 0.03302792398804586\n",
            "NumQueryComponents: 0.029603929869061345\n",
            "NumUnderscore: 0.02934628434068096\n",
            "NumDashInHostname: 0.021232131655121\n",
            "DomainInPaths: 0.016393245692492134\n",
            "RandomString: 0.0148922844431402\n",
            "NumAmpersand: 0.008602699152038781\n",
            "IpAddress: 0.007999792733657014\n",
            "NumPercent: 0.006850057324423594\n",
            "DomainInSubdomains: 0.0032260271496785268\n",
            "NoHttps: 0.0030180694416835478\n",
            "TildeSymbol: 0.003001964142845036\n",
            "NumHash: 0.00025136348363503577\n",
            "AtSymbol: 0.00022046351285790911\n",
            "DoubleSlashInPath: 0.00010894326776452197\n",
            "HttpsInHostname: 0.0\n"
          ]
        }
      ]
    },
    {
      "cell_type": "markdown",
      "source": [
        "# **Insight:**\n",
        "\n",
        "top 5 important features were:\n",
        "\n",
        "1. number of dashes\n",
        "\n",
        "2. number of numeric characters\n",
        "\n",
        "3. path length\n",
        "\n",
        "4. path level\n",
        "\n",
        "5. url length\n",
        "\n",
        "overall, https being in host name seems like it has no impact on the model."
      ],
      "metadata": {
        "id": "VZHuJftUuwnK"
      }
    }
  ]
}