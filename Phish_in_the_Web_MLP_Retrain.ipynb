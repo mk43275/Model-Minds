{
  "nbformat": 4,
  "nbformat_minor": 0,
  "metadata": {
    "colab": {
      "provenance": []
    },
    "kernelspec": {
      "name": "python3",
      "display_name": "Python 3"
    },
    "language_info": {
      "name": "python"
    }
  },
  "cells": [
    {
      "cell_type": "markdown",
      "source": [
        "# **Phish in the Web**\n",
        "### **MLP Retrain**\n",
        "\n",
        "**1. Data Preprocessing**\n"
      ],
      "metadata": {
        "id": "W4lbnApNU0iI"
      }
    },
    {
      "cell_type": "code",
      "execution_count": null,
      "metadata": {
        "id": "VROXYJZXUv01"
      },
      "outputs": [],
      "source": [
        "#import libraries only ONCE\n",
        "import pandas as pd\n",
        "import numpy as np\n",
        "from sklearn.preprocessing import MinMaxScaler #no one hot // all columns numeric\n",
        "from sklearn.model_selection import train_test_split #data splitting"
      ]
    },
    {
      "cell_type": "code",
      "source": [
        "#read in data & check for shape\n",
        "phish_df = pd.read_csv(\"Phishing_Legitimate_full.csv\")\n",
        "phish_df.shape"
      ],
      "metadata": {
        "colab": {
          "base_uri": "https://localhost:8080/"
        },
        "id": "5K4OY1G1U4O2",
        "outputId": "62e9a13c-6eee-4cbe-8e98-52d2a9ca4bd5"
      },
      "execution_count": null,
      "outputs": [
        {
          "output_type": "execute_result",
          "data": {
            "text/plain": [
              "(10000, 50)"
            ]
          },
          "metadata": {},
          "execution_count": 4
        }
      ]
    },
    {
      "cell_type": "code",
      "source": [
        "#specifying the columns we want to keep\n",
        "selected_columns = ['NumDots', 'SubdomainLevel', 'PathLevel', 'UrlLength', 'NumDash',\n",
        "    'NumDashInHostname', 'AtSymbol','TildeSymbol', 'NumUnderscore','NumPercent',\n",
        "    'NumQueryComponents','NumAmpersand','NumHash','NumNumericChars','NoHttps',\n",
        "    'RandomString','IpAddress','DomainInSubdomains','DomainInPaths','HttpsInHostname','HostnameLength',\n",
        "    'PathLength','QueryLength','DoubleSlashInPath','NumSensitiveWords','EmbeddedBrandName',\n",
        "    'PctExtHyperlinks','PctExtResourceUrls','ExtFavicon','InsecureForms','RelativeFormAction',\n",
        "    'ExtFormAction','AbnormalFormAction','PctNullSelfRedirectHyperlinks','FrequentDomainNameMismatch',\n",
        "    'FakeLinkInStatusBar','RightClickDisabled','PopUpWindow','SubmitInfoToEmail','IframeOrFrame',\n",
        "    'MissingTitle','ImagesOnlyInForm','SubdomainLevelRT','UrlLengthRT','PctExtResourceUrlsRT',\n",
        "    'AbnormalExtFormActionR','ExtMetaScriptLinkRT','PctExtNullSelfRedirectHyperlinksRT', 'CLASS_LABEL']\n",
        "\n",
        "#split the features into 5 - 10 - 15\n",
        "ten_features = ['PctExtHyperlinks', 'InsecureForms', 'FrequentDomainNameMismatch', 'NumPercent',\n",
        "                 'PctExtResourceUrls','ExtFavicon', 'NumSensitiveWords', 'NoHttps', 'NumDots', 'MissingTitle']\n",
        "\n",
        "twenty_features = ['PctExtHyperlinks', 'InsecureForms', 'FrequentDomainNameMismatch', 'NumPercent',\n",
        "                 'PctExtResourceUrls','ExtFavicon', 'NumSensitiveWords', 'NoHttps', 'NumDots', 'MissingTitle',\n",
        "                    'SubmitInfoToEmail', 'PopUpWindow', 'DoubleSlashInPath', 'IpAddress', 'NumNumericChars',\n",
        "                   'PctExtNullSelfRedirectHyperlinksRT', 'SubdomainLevelRT', 'NumQueryComponents',\n",
        "                   'NumUnderscore', 'SubdomainLevel']\n",
        "\n",
        "thirty_features = ['PctExtHyperlinks', 'InsecureForms', 'FrequentDomainNameMismatch', 'NumPercent',\n",
        "                 'PctExtResourceUrls','ExtFavicon', 'NumSensitiveWords', 'NoHttps', 'NumDots', 'MissingTitle',\n",
        "                    'SubmitInfoToEmail', 'PopUpWindow', 'DoubleSlashInPath', 'IpAddress', 'NumNumericChars',\n",
        "                   'PctExtNullSelfRedirectHyperlinksRT', 'SubdomainLevelRT', 'NumQueryComponents',\n",
        "                   'NumUnderscore', 'SubdomainLevel', 'DomainInSubdomains', 'NumAmpersand', 'AtSymbol',\n",
        "                    'ExtMetaScriptLinkRT', 'UrlLengthRT', 'IframeOrFrame', 'AbnormalFormAction', 'ExtFormAction',\n",
        "                   'PctExtResourceUrlsRT', 'PctNullSelfRedirectHyperlinks']\n",
        "\n",
        "\n",
        "#features\n",
        "#feature_columns = ['NumDots', 'SubdomainLevel', 'PathLevel', 'UrlLength', 'NumDash', 'NumDashInHostname', 'AtSymbol','TildeSymbol', 'NumUnderscore','NumPercent','NumQueryComponents','NumAmpersand','NumHash','NumNumericChars','NoHttps','RandomString','IpAddress','DomainInSubdomains','DomainInPaths','HttpsInHostname','HostnameLength','PathLength','QueryLength','DoubleSlashInPath','NumSensitiveWords','EmbeddedBrandName','PctExtHyperlinks','PctExtResourceUrls','ExtFavicon','InsecureForms','RelativeFormAction', 'ExtFormAction','AbnormalFormAction','PctNullSelfRedirectHyperlinks','FrequentDomainNameMismatch','FakeLinkInStatusBar','RightClickDisabled','PopUpWindow','SubmitInfoToEmail','IframeOrFrame','MissingTitle','ImagesOnlyInForm','SubdomainLevelRT','UrlLengthRT','PctExtResourceUrlsRT','AbnormalExtFormActionR','ExtMetaScriptLinkRT','PctExtNullSelfRedirectHyperlinksRT']\n",
        "\n",
        "#label\n",
        "label_column = ['CLASS_LABEL']"
      ],
      "metadata": {
        "id": "MlWvIopVU5Pn"
      },
      "execution_count": null,
      "outputs": []
    },
    {
      "cell_type": "code",
      "source": [
        "#initiate scaler\n",
        "min_scaler = MinMaxScaler()"
      ],
      "metadata": {
        "id": "dqioK10qU-eI"
      },
      "execution_count": null,
      "outputs": []
    },
    {
      "cell_type": "code",
      "source": [
        "#five features\n",
        "phishing_10_features_df = phish_df[ten_features]\n",
        "\n",
        "#ten features\n",
        "phishing_20_features_df = phish_df[twenty_features]\n",
        "\n",
        "#fifteen features\n",
        "phishing_30_features_df = phish_df[thirty_features]\n",
        "\n",
        "#label\n",
        "phishing_label_df = phish_df[label_column]\n",
        "\n",
        "#scale 10 features\n",
        "phishing_10_features_df[ten_features] = min_scaler.fit_transform(phishing_10_features_df[ten_features])\n",
        "\n",
        "#scale 20 features\n",
        "phishing_20_features_df[twenty_features] = min_scaler.fit_transform(phishing_20_features_df[twenty_features])\n",
        "\n",
        "#scale 30 features\n",
        "phishing_30_features_df[thirty_features] = min_scaler.fit_transform(phishing_30_features_df[thirty_features])\n",
        "\n",
        "#split data for 10 features into 70% train, 20% test, and 10% validation\n",
        "x10_train, x10_temp, y10_train, y10_temp = train_test_split(phishing_10_features_df, phishing_label_df, test_size=0.3, random_state=42)\n",
        "x10_val, x10_test, y10_val, y10_test = train_test_split(x10_temp, y10_temp, test_size=0.7, random_state=42)\n",
        "\n",
        "#split data for 20 features into 70% train, 20% test, and 10% validation\n",
        "x20_train, x20_temp, y20_train, y20_temp = train_test_split(phishing_20_features_df, phishing_label_df, test_size=0.3, random_state=42)\n",
        "x20_val, x20_test, y20_val, y20_test = train_test_split(x20_temp, y20_temp, test_size=0.7, random_state=42)\n",
        "\n",
        "#split data for 30 features into 70% train, 20% test, and 10% validation\n",
        "x30_train, x30_temp, y30_train, y30_temp = train_test_split(phishing_30_features_df, phishing_label_df, test_size=0.3, random_state=42)\n",
        "x30_val, x30_test, y30_val, y30_test = train_test_split(x30_temp, y30_temp, test_size=0.7, random_state=42)\n",
        "\n"
      ],
      "metadata": {
        "colab": {
          "base_uri": "https://localhost:8080/"
        },
        "id": "s_sN0ho_U6Ng",
        "outputId": "02e8b1bf-6542-433a-8e40-9f473c662c71"
      },
      "execution_count": null,
      "outputs": [
        {
          "output_type": "stream",
          "name": "stderr",
          "text": [
            "<ipython-input-7-28374ad56c76>:14: SettingWithCopyWarning: \n",
            "A value is trying to be set on a copy of a slice from a DataFrame.\n",
            "Try using .loc[row_indexer,col_indexer] = value instead\n",
            "\n",
            "See the caveats in the documentation: https://pandas.pydata.org/pandas-docs/stable/user_guide/indexing.html#returning-a-view-versus-a-copy\n",
            "  phishing_10_features_df[ten_features] = min_scaler.fit_transform(phishing_10_features_df[ten_features])\n",
            "<ipython-input-7-28374ad56c76>:17: SettingWithCopyWarning: \n",
            "A value is trying to be set on a copy of a slice from a DataFrame.\n",
            "Try using .loc[row_indexer,col_indexer] = value instead\n",
            "\n",
            "See the caveats in the documentation: https://pandas.pydata.org/pandas-docs/stable/user_guide/indexing.html#returning-a-view-versus-a-copy\n",
            "  phishing_20_features_df[twenty_features] = min_scaler.fit_transform(phishing_20_features_df[twenty_features])\n",
            "<ipython-input-7-28374ad56c76>:20: SettingWithCopyWarning: \n",
            "A value is trying to be set on a copy of a slice from a DataFrame.\n",
            "Try using .loc[row_indexer,col_indexer] = value instead\n",
            "\n",
            "See the caveats in the documentation: https://pandas.pydata.org/pandas-docs/stable/user_guide/indexing.html#returning-a-view-versus-a-copy\n",
            "  phishing_30_features_df[thirty_features] = min_scaler.fit_transform(phishing_30_features_df[thirty_features])\n"
          ]
        }
      ]
    },
    {
      "cell_type": "code",
      "source": [
        "#import necessary files\n",
        "from sklearn.neural_network import MLPClassifier\n",
        "from sklearn.metrics import classification_report #report\n",
        "from sklearn.metrics import roc_auc_score, confusion_matrix\n",
        "from sklearn.metrics import accuracy_score\n",
        "\n",
        "def print_evaluation_metrics(y_true, y_pred):\n",
        "    print(\"ROC AUC Score:\", roc_auc_score(y_true, y_pred))\n",
        "    print(\"Confusion Matrix:\\n\", confusion_matrix(y_true, y_pred))\n"
      ],
      "metadata": {
        "id": "sm3OE--4WyzZ"
      },
      "execution_count": null,
      "outputs": []
    },
    {
      "cell_type": "code",
      "source": [
        "#MLP (Multi-Layer Perceptron)\n",
        "mlp10_model = MLPClassifier(hidden_layer_sizes=(100,), max_iter=1000, random_state=42)\n",
        "mlp10_model.fit(x10_train, y10_train.values.ravel())\n",
        "mlp10_predictions = mlp10_model.predict(x10_test)\n",
        "\n",
        "print(\"\\nMLP Classification Report:\")\n",
        "print(classification_report(y10_test, mlp10_predictions))\n",
        "\n",
        "# Calculate ROC AUC score\n",
        "mlp10_roc_auc = roc_auc_score(y10_test, mlp10_predictions)\n",
        "print(\"\\nROC AUC Score:\", mlp10_roc_auc)\n",
        "\n",
        "# Print confusion matrix\n",
        "print(\"\\nConfusion Matrix:\")\n",
        "print(confusion_matrix(y10_test, mlp10_predictions))\n",
        "\n",
        "print()\n",
        "\n",
        "#model's prediction 10 features\n",
        "pred10 = mlp10_model.predict(x10_test)\n",
        "\n",
        "#test accuracy of our model // import in the beginning\n",
        "pred10_classes = np.round(pred10)\n",
        "accuracy10 = accuracy_score(y10_test,pred10_classes)\n",
        "accuracy10_perc = accuracy10 * 100\n",
        "print (f\"test accuracy = {accuracy10_perc:.2f}%\")"
      ],
      "metadata": {
        "colab": {
          "base_uri": "https://localhost:8080/"
        },
        "id": "DUmoFiCdV1jL",
        "outputId": "33ce4bec-9290-4b91-fc2f-fa6a454d0e7e"
      },
      "execution_count": null,
      "outputs": [
        {
          "output_type": "stream",
          "name": "stdout",
          "text": [
            "\n",
            "MLP Classification Report:\n",
            "              precision    recall  f1-score   support\n",
            "\n",
            "           0       0.91      0.95      0.93      1037\n",
            "           1       0.94      0.91      0.93      1063\n",
            "\n",
            "    accuracy                           0.93      2100\n",
            "   macro avg       0.93      0.93      0.93      2100\n",
            "weighted avg       0.93      0.93      0.93      2100\n",
            "\n",
            "\n",
            "ROC AUC Score: 0.92595055387175\n",
            "\n",
            "Confusion Matrix:\n",
            "[[980  57]\n",
            " [ 99 964]]\n",
            "\n",
            "test accuracy = 92.57%\n"
          ]
        }
      ]
    },
    {
      "cell_type": "code",
      "source": [
        "#MLP (Multi-Layer Perceptron)\n",
        "mlp20_model = MLPClassifier(hidden_layer_sizes=(100,), max_iter=1000, random_state=42)\n",
        "mlp20_model.fit(x20_train, y20_train.values.ravel())\n",
        "mlp20_predictions = mlp20_model.predict(x20_test)\n",
        "\n",
        "print(\"\\nMLP Classification Report:\")\n",
        "print(classification_report(y20_test, mlp20_predictions))\n",
        "\n",
        "# Calculate ROC AUC score\n",
        "mlp20_roc_auc = roc_auc_score(y20_test, mlp20_predictions)\n",
        "print(\"\\nROC AUC Score:\", mlp20_roc_auc)\n",
        "\n",
        "# Print confusion matrix\n",
        "print(\"\\nConfusion Matrix:\")\n",
        "print(confusion_matrix(y20_test, mlp20_predictions))\n",
        "\n",
        "print()\n",
        "\n",
        "#model's prediction 15 features\n",
        "pred20 = mlp20_model.predict(x20_test)\n",
        "\n",
        "#test accuracy of our model // import in the beginning\n",
        "pred20_classes = np.round(pred20)\n",
        "accuracy20 = accuracy_score(y20_test,pred20_classes)\n",
        "accuracy20_perc = accuracy20 * 100\n",
        "print (f\"test accuracy = {accuracy20_perc:.2f}%\")"
      ],
      "metadata": {
        "colab": {
          "base_uri": "https://localhost:8080/"
        },
        "id": "_0-PgdgVWMd0",
        "outputId": "8ee7969e-8568-4a5d-bfa0-d1e5bddcc023"
      },
      "execution_count": null,
      "outputs": [
        {
          "output_type": "stream",
          "name": "stdout",
          "text": [
            "\n",
            "MLP Classification Report:\n",
            "              precision    recall  f1-score   support\n",
            "\n",
            "           0       0.94      0.98      0.96      1037\n",
            "           1       0.98      0.94      0.96      1063\n",
            "\n",
            "    accuracy                           0.96      2100\n",
            "   macro avg       0.96      0.96      0.96      2100\n",
            "weighted avg       0.96      0.96      0.96      2100\n",
            "\n",
            "\n",
            "ROC AUC Score: 0.9597239849010869\n",
            "\n",
            "Confusion Matrix:\n",
            "[[1012   25]\n",
            " [  60 1003]]\n",
            "\n",
            "test accuracy = 95.95%\n"
          ]
        }
      ]
    },
    {
      "cell_type": "code",
      "source": [
        "#MLP (Multi-Layer Perceptron)\n",
        "mlp30_model = MLPClassifier(hidden_layer_sizes=(100,), max_iter=1000, random_state=42)\n",
        "mlp30_model.fit(x30_train, y30_train.values.ravel())\n",
        "mlp30_predictions = mlp30_model.predict(x30_test)\n",
        "\n",
        "print(\"\\nMLP Classification Report:\")\n",
        "print(classification_report(y30_test, mlp30_predictions))\n",
        "\n",
        "# Calculate ROC AUC score\n",
        "mlp30_roc_auc = roc_auc_score(y30_test, mlp30_predictions)\n",
        "print(\"\\nROC AUC Score:\", mlp30_roc_auc)\n",
        "\n",
        "# Print confusion matrix\n",
        "print(\"\\nConfusion Matrix:\")\n",
        "print(confusion_matrix(y30_test, mlp30_predictions))\n",
        "\n",
        "#model's prediction 15 features\n",
        "pred30 = mlp30_model.predict(x30_test)\n",
        "\n",
        "#test accuracy of our model // import in the beginning\n",
        "pred30_classes = np.round(pred30)\n",
        "accuracy30 = accuracy_score(y30_test,pred30_classes)\n",
        "accuracy30_perc = accuracy30 * 100\n",
        "print (f\"test accuracy = {accuracy30_perc:.2f}%\")"
      ],
      "metadata": {
        "colab": {
          "base_uri": "https://localhost:8080/"
        },
        "id": "Xp7925gUWRWu",
        "outputId": "bf743b58-1b30-4f6c-8b1c-41c7549b30b0"
      },
      "execution_count": null,
      "outputs": [
        {
          "output_type": "stream",
          "name": "stdout",
          "text": [
            "\n",
            "MLP Classification Report:\n",
            "              precision    recall  f1-score   support\n",
            "\n",
            "           0       0.98      0.97      0.97      1037\n",
            "           1       0.97      0.98      0.98      1063\n",
            "\n",
            "    accuracy                           0.98      2100\n",
            "   macro avg       0.98      0.98      0.98      2100\n",
            "weighted avg       0.98      0.98      0.98      2100\n",
            "\n",
            "\n",
            "ROC AUC Score: 0.9752225057627881\n",
            "\n",
            "Confusion Matrix:\n",
            "[[1010   27]\n",
            " [  25 1038]]\n",
            "test accuracy = 97.52%\n"
          ]
        }
      ]
    },
    {
      "cell_type": "code",
      "source": [
        "thirty1_features = ['PctExtHyperlinks', 'InsecureForms', 'FrequentDomainNameMismatch', 'NumPercent',\n",
        "                 'PctExtResourceUrls','ExtFavicon', 'NumSensitiveWords', 'NoHttps', 'NumDots', 'MissingTitle',\n",
        "                    'SubmitInfoToEmail', 'PopUpWindow', 'DoubleSlashInPath', 'IpAddress', 'NumNumericChars',\n",
        "                   'PctExtNullSelfRedirectHyperlinksRT', 'SubdomainLevelRT', 'NumQueryComponents',\n",
        "                   'NumUnderscore', 'SubdomainLevel', 'DomainInSubdomains', 'NumAmpersand', 'AtSymbol',\n",
        "                    'ExtMetaScriptLinkRT', 'UrlLengthRT', 'IframeOrFrame', 'AbnormalFormAction', 'ExtFormAction',\n",
        "                   'PctExtResourceUrlsRT', 'PctNullSelfRedirectHyperlinks', 'EmbeddedBrandName']\n",
        "\n",
        "#label\n",
        "label_column = ['CLASS_LABEL']\n",
        "\n",
        "#fifteen features\n",
        "phishing_31_features_df = phish_df[thirty1_features]\n",
        "\n",
        "#label\n",
        "phishing_label_df = phish_df[label_column]\n",
        "\n",
        "#scale 5 features\n",
        "phishing_31_features_df[thirty1_features] = min_scaler.fit_transform(phishing_31_features_df[thirty1_features])\n",
        "\n",
        "#split data!\n",
        "x31_train, x31_temp, y31_train, y31_temp = train_test_split(phishing_31_features_df, phishing_label_df, test_size=0.3, random_state=42)\n",
        "x31_val, x31_test, y31_val, y31_test = train_test_split(x31_temp, y31_temp, test_size=0.7, random_state=42)\n",
        "\n",
        "#MLP (Multi-Layer Perceptron)\n",
        "mlp31_model = MLPClassifier(hidden_layer_sizes=(100,), max_iter=1000, random_state=42)\n",
        "mlp31_model.fit(x31_train, y31_train.values.ravel())\n",
        "mlp31_predictions = mlp31_model.predict(x31_test)\n",
        "\n",
        "print(\"\\nMLP Classification Report:\")\n",
        "print(classification_report(y31_test, mlp31_predictions))\n",
        "\n",
        "# Calculate ROC AUC score\n",
        "mlp31_roc_auc = roc_auc_score(y31_test, mlp31_predictions)\n",
        "print(\"\\nROC AUC Score:\", mlp31_roc_auc)\n",
        "\n",
        "# Print confusion matrix\n",
        "print(\"\\nConfusion Matrix:\")\n",
        "print(confusion_matrix(y31_test, mlp31_predictions))\n",
        "\n",
        "#model's prediction 15 features\n",
        "pred31 = mlp31_model.predict(x31_test)\n",
        "\n",
        "#test accuracy of our model // import in the beginning\n",
        "pred31_classes = np.round(pred31)\n",
        "accuracy31 = accuracy_score(y31_test,pred31_classes)\n",
        "accuracy31_perc = accuracy31 * 100\n",
        "print (f\"test accuracy = {accuracy31_perc:.2f}%\")"
      ],
      "metadata": {
        "colab": {
          "base_uri": "https://localhost:8080/"
        },
        "id": "xInDeM0SWYtV",
        "outputId": "4e7ff9c3-e73a-430e-801e-e61a87a8402b"
      },
      "execution_count": null,
      "outputs": [
        {
          "output_type": "stream",
          "name": "stderr",
          "text": [
            "<ipython-input-12-536586222223>:19: SettingWithCopyWarning: \n",
            "A value is trying to be set on a copy of a slice from a DataFrame.\n",
            "Try using .loc[row_indexer,col_indexer] = value instead\n",
            "\n",
            "See the caveats in the documentation: https://pandas.pydata.org/pandas-docs/stable/user_guide/indexing.html#returning-a-view-versus-a-copy\n",
            "  phishing_31_features_df[thirty1_features] = min_scaler.fit_transform(phishing_31_features_df[thirty1_features])\n"
          ]
        },
        {
          "output_type": "stream",
          "name": "stdout",
          "text": [
            "\n",
            "MLP Classification Report:\n",
            "              precision    recall  f1-score   support\n",
            "\n",
            "           0       0.98      0.97      0.98      1037\n",
            "           1       0.97      0.98      0.98      1063\n",
            "\n",
            "    accuracy                           0.98      2100\n",
            "   macro avg       0.98      0.98      0.98      2100\n",
            "weighted avg       0.98      0.98      0.98      2100\n",
            "\n",
            "\n",
            "ROC AUC Score: 0.975681079457985\n",
            "\n",
            "Confusion Matrix:\n",
            "[[1009   28]\n",
            " [  23 1040]]\n",
            "test accuracy = 97.57%\n"
          ]
        }
      ]
    },
    {
      "cell_type": "code",
      "source": [
        "thirty2_features = ['PctExtHyperlinks', 'InsecureForms', 'FrequentDomainNameMismatch', 'NumPercent',\n",
        "                 'PctExtResourceUrls','ExtFavicon', 'NumSensitiveWords', 'NoHttps', 'NumDots', 'MissingTitle',\n",
        "                    'SubmitInfoToEmail', 'PopUpWindow', 'DoubleSlashInPath', 'IpAddress', 'NumNumericChars',\n",
        "                   'PctExtNullSelfRedirectHyperlinksRT', 'SubdomainLevelRT', 'NumQueryComponents',\n",
        "                   'NumUnderscore', 'SubdomainLevel', 'DomainInSubdomains', 'NumAmpersand', 'AtSymbol',\n",
        "                    'ExtMetaScriptLinkRT', 'UrlLengthRT', 'IframeOrFrame', 'AbnormalFormAction', 'ExtFormAction',\n",
        "                   'PctExtResourceUrlsRT', 'PctNullSelfRedirectHyperlinks', 'EmbeddedBrandName', 'DomainInPaths']\n",
        "\n",
        "#label\n",
        "label_column = ['CLASS_LABEL']\n",
        "\n",
        "#fifteen features\n",
        "phishing_32_features_df = phish_df[thirty2_features]\n",
        "\n",
        "#label\n",
        "phishing_label_df = phish_df[label_column]\n",
        "\n",
        "#scale 5 features\n",
        "phishing_32_features_df[thirty2_features] = min_scaler.fit_transform(phishing_32_features_df[thirty2_features])\n",
        "\n",
        "#split data!\n",
        "x32_train, x32_temp, y32_train, y32_temp = train_test_split(phishing_32_features_df, phishing_label_df, test_size=0.3, random_state=42)\n",
        "x32_val, x32_test, y32_val, y32_test = train_test_split(x32_temp, y32_temp, test_size=0.7, random_state=42)\n",
        "\n",
        "#MLP (Multi-Layer Perceptron)\n",
        "mlp32_model = MLPClassifier(hidden_layer_sizes=(100,), max_iter=1000, random_state=42)\n",
        "mlp32_model.fit(x32_train, y32_train.values.ravel())\n",
        "mlp32_predictions = mlp32_model.predict(x32_test)\n",
        "\n",
        "print(\"\\nMLP Classification Report:\")\n",
        "print(classification_report(y32_test, mlp32_predictions))\n",
        "\n",
        "# Calculate ROC AUC score\n",
        "mlp32_roc_auc = roc_auc_score(y32_test, mlp32_predictions)\n",
        "print(\"\\nROC AUC Score:\", mlp32_roc_auc)\n",
        "\n",
        "# Print confusion matrix\n",
        "print(\"\\nConfusion Matrix:\")\n",
        "print(confusion_matrix(y32_test, mlp32_predictions))\n",
        "\n",
        "#model's prediction 15 features\n",
        "pred32 = mlp32_model.predict(x32_test)\n",
        "\n",
        "#test accuracy of our model // import in the beginning\n",
        "pred32_classes = np.round(pred32)\n",
        "accuracy32 = accuracy_score(y32_test,pred32_classes)\n",
        "accuracy32_perc = accuracy32 * 100\n",
        "print (f\"test accuracy = {accuracy32_perc:.2f}%\")"
      ],
      "metadata": {
        "colab": {
          "base_uri": "https://localhost:8080/"
        },
        "id": "3is1qbRQWbXJ",
        "outputId": "00e955a2-4768-4d3f-86b9-879bc4c86726"
      },
      "execution_count": null,
      "outputs": [
        {
          "output_type": "stream",
          "name": "stderr",
          "text": [
            "<ipython-input-13-f0922bdf0864>:19: SettingWithCopyWarning: \n",
            "A value is trying to be set on a copy of a slice from a DataFrame.\n",
            "Try using .loc[row_indexer,col_indexer] = value instead\n",
            "\n",
            "See the caveats in the documentation: https://pandas.pydata.org/pandas-docs/stable/user_guide/indexing.html#returning-a-view-versus-a-copy\n",
            "  phishing_32_features_df[thirty2_features] = min_scaler.fit_transform(phishing_32_features_df[thirty2_features])\n"
          ]
        },
        {
          "output_type": "stream",
          "name": "stdout",
          "text": [
            "\n",
            "MLP Classification Report:\n",
            "              precision    recall  f1-score   support\n",
            "\n",
            "           0       0.97      0.98      0.97      1037\n",
            "           1       0.98      0.97      0.97      1063\n",
            "\n",
            "    accuracy                           0.97      2100\n",
            "   macro avg       0.97      0.97      0.97      2100\n",
            "weighted avg       0.97      0.97      0.97      2100\n",
            "\n",
            "\n",
            "ROC AUC Score: 0.9743171515633688\n",
            "\n",
            "Confusion Matrix:\n",
            "[[1013   24]\n",
            " [  30 1033]]\n",
            "test accuracy = 97.43%\n"
          ]
        }
      ]
    },
    {
      "cell_type": "code",
      "source": [
        "thirty3_features = ['PctExtHyperlinks', 'InsecureForms', 'FrequentDomainNameMismatch', 'NumPercent',\n",
        "                 'PctExtResourceUrls','ExtFavicon', 'NumSensitiveWords', 'NoHttps', 'NumDots', 'MissingTitle',\n",
        "                    'SubmitInfoToEmail', 'PopUpWindow', 'DoubleSlashInPath', 'IpAddress', 'NumNumericChars',\n",
        "                   'PctExtNullSelfRedirectHyperlinksRT', 'SubdomainLevelRT', 'NumQueryComponents',\n",
        "                   'NumUnderscore', 'SubdomainLevel', 'DomainInSubdomains', 'NumAmpersand', 'AtSymbol',\n",
        "                    'ExtMetaScriptLinkRT', 'UrlLengthRT', 'IframeOrFrame', 'AbnormalFormAction', 'ExtFormAction',\n",
        "                   'PctExtResourceUrlsRT', 'PctNullSelfRedirectHyperlinks', 'EmbeddedBrandName', 'DomainInPaths',\n",
        "                    'AbnormalExtFormActionR']\n",
        "\n",
        "#label\n",
        "label_column = ['CLASS_LABEL']\n",
        "\n",
        "#fifteen features\n",
        "phishing_33_features_df = phish_df[thirty3_features]\n",
        "\n",
        "#label\n",
        "phishing_label_df = phish_df[label_column]\n",
        "\n",
        "#scale 5 features\n",
        "phishing_33_features_df[thirty3_features] = min_scaler.fit_transform(phishing_33_features_df[thirty3_features])\n",
        "\n",
        "#split data!\n",
        "x33_train, x33_temp, y33_train, y33_temp = train_test_split(phishing_33_features_df, phishing_label_df, test_size=0.3, random_state=42)\n",
        "x33_val, x33_test, y33_val, y33_test = train_test_split(x33_temp, y33_temp, test_size=0.7, random_state=42)\n",
        "\n",
        "#MLP (Multi-Layer Perceptron)\n",
        "mlp33_model = MLPClassifier(hidden_layer_sizes=(100,), max_iter=1000, random_state=42)\n",
        "mlp33_model.fit(x33_train, y33_train.values.ravel())\n",
        "mlp33_predictions = mlp33_model.predict(x33_test)\n",
        "\n",
        "print(\"\\nMLP Classification Report:\")\n",
        "print(classification_report(y33_test, mlp33_predictions))\n",
        "\n",
        "#calculate ROC AUC score\n",
        "mlp33_roc_auc = roc_auc_score(y33_test, mlp33_predictions)\n",
        "print(\"\\nROC AUC Score:\", mlp33_roc_auc)\n",
        "\n",
        "#print confusion matrix\n",
        "print(\"\\nConfusion Matrix:\")\n",
        "print(confusion_matrix(y33_test, mlp33_predictions))\n",
        "\n",
        "#model's prediction 15 features\n",
        "pred33 = mlp33_model.predict(x33_test)\n",
        "\n",
        "#test accuracy of our model // import in the beginning\n",
        "pred33_classes = np.round(pred33)\n",
        "accuracy33 = accuracy_score(y33_test,pred33_classes)\n",
        "accuracy33_perc = accuracy33 * 100\n",
        "print (f\"test accuracy = {accuracy33_perc:.2f}%\")\n",
        "\n"
      ],
      "metadata": {
        "colab": {
          "base_uri": "https://localhost:8080/"
        },
        "id": "XmoE_A4ZWc6R",
        "outputId": "cff4875a-e0d0-45d7-d677-14011c40cd85"
      },
      "execution_count": null,
      "outputs": [
        {
          "output_type": "stream",
          "name": "stderr",
          "text": [
            "<ipython-input-14-12947fbac38d>:20: SettingWithCopyWarning: \n",
            "A value is trying to be set on a copy of a slice from a DataFrame.\n",
            "Try using .loc[row_indexer,col_indexer] = value instead\n",
            "\n",
            "See the caveats in the documentation: https://pandas.pydata.org/pandas-docs/stable/user_guide/indexing.html#returning-a-view-versus-a-copy\n",
            "  phishing_33_features_df[thirty3_features] = min_scaler.fit_transform(phishing_33_features_df[thirty3_features])\n"
          ]
        },
        {
          "output_type": "stream",
          "name": "stdout",
          "text": [
            "\n",
            "MLP Classification Report:\n",
            "              precision    recall  f1-score   support\n",
            "\n",
            "           0       0.97      0.98      0.98      1037\n",
            "           1       0.98      0.97      0.98      1063\n",
            "\n",
            "    accuracy                           0.98      2100\n",
            "   macro avg       0.98      0.98      0.98      2100\n",
            "weighted avg       0.98      0.98      0.98      2100\n",
            "\n",
            "\n",
            "ROC AUC Score: 0.976727951949097\n",
            "\n",
            "Confusion Matrix:\n",
            "[[1018   19]\n",
            " [  30 1033]]\n",
            "test accuracy = 97.67%\n"
          ]
        }
      ]
    },
    {
      "cell_type": "code",
      "source": [
        "#features list\n",
        "thirty4_features = ['PctExtHyperlinks', 'InsecureForms', 'FrequentDomainNameMismatch', 'NumPercent',\n",
        "                 'PctExtResourceUrls','ExtFavicon', 'NumSensitiveWords', 'NoHttps', 'NumDots', 'MissingTitle',\n",
        "                    'SubmitInfoToEmail', 'PopUpWindow', 'DoubleSlashInPath', 'IpAddress', 'NumNumericChars',\n",
        "                   'PctExtNullSelfRedirectHyperlinksRT', 'SubdomainLevelRT', 'NumQueryComponents',\n",
        "                   'NumUnderscore', 'SubdomainLevel', 'DomainInSubdomains', 'NumAmpersand', 'AtSymbol',\n",
        "                    'ExtMetaScriptLinkRT', 'UrlLengthRT', 'IframeOrFrame', 'AbnormalFormAction', 'ExtFormAction',\n",
        "                   'PctExtResourceUrlsRT', 'PctNullSelfRedirectHyperlinks', 'EmbeddedBrandName', 'DomainInPaths',\n",
        "                    'AbnormalExtFormActionR', 'ImagesOnlyInForm']\n",
        "\n",
        "#label\n",
        "label_column = ['CLASS_LABEL']\n",
        "\n",
        "#select 34 features\n",
        "phishing_34_features_df = phish_df[thirty4_features]\n",
        "\n",
        "#label\n",
        "phishing_label_df = phish_df[label_column]\n",
        "\n",
        "#scale 34 features\n",
        "phishing_34_features_df[thirty4_features] = min_scaler.fit_transform(phishing_34_features_df[thirty4_features])\n",
        "\n",
        "#split data\n",
        "x34_train, x34_temp, y34_train, y34_temp = train_test_split(phishing_34_features_df, phishing_label_df, test_size=0.3, random_state=42)\n",
        "x34_val, x34_test, y34_val, y34_test = train_test_split(x34_temp, y34_temp, test_size=0.7, random_state=42)\n",
        "\n",
        "#MLP (Multi-Layer Perceptron)\n",
        "mlp34_model = MLPClassifier(hidden_layer_sizes=(100,), max_iter=1000, random_state=42)\n",
        "mlp34_model.fit(x34_train, y34_train.values.ravel())\n",
        "mlp34_predictions = mlp34_model.predict(x34_test)\n",
        "\n",
        "print(\"\\nMLP Classification Report:\")\n",
        "print(classification_report(y34_test, mlp34_predictions))\n",
        "\n",
        "#calculate ROC AUC score\n",
        "mlp34_roc_auc = roc_auc_score(y34_test, mlp34_predictions)\n",
        "print(\"\\nROC AUC Score:\", mlp34_roc_auc)\n",
        "\n",
        "#print confusion matrix\n",
        "print(\"\\nConfusion Matrix:\")\n",
        "print(confusion_matrix(y34_test, mlp34_predictions))\n",
        "\n",
        "#model's prediction 34 features\n",
        "pred34 = mlp34_model.predict(x34_test)\n",
        "\n",
        "#test accuracy of our model\n",
        "pred34_classes = np.round(pred34)\n",
        "accuracy34 = accuracy_score(y34_test,pred34_classes)\n",
        "accuracy34_perc = accuracy34 * 100\n",
        "print (f\"Test accuracy = {accuracy34_perc:.2f}%\")\n"
      ],
      "metadata": {
        "colab": {
          "base_uri": "https://localhost:8080/"
        },
        "id": "FSKL0_72WekC",
        "outputId": "76560584-a110-4909-b316-8ed5079189a5"
      },
      "execution_count": null,
      "outputs": [
        {
          "output_type": "stream",
          "name": "stderr",
          "text": [
            "<ipython-input-15-36919535450d>:21: SettingWithCopyWarning: \n",
            "A value is trying to be set on a copy of a slice from a DataFrame.\n",
            "Try using .loc[row_indexer,col_indexer] = value instead\n",
            "\n",
            "See the caveats in the documentation: https://pandas.pydata.org/pandas-docs/stable/user_guide/indexing.html#returning-a-view-versus-a-copy\n",
            "  phishing_34_features_df[thirty4_features] = min_scaler.fit_transform(phishing_34_features_df[thirty4_features])\n"
          ]
        },
        {
          "output_type": "stream",
          "name": "stdout",
          "text": [
            "\n",
            "MLP Classification Report:\n",
            "              precision    recall  f1-score   support\n",
            "\n",
            "           0       0.98      0.98      0.98      1037\n",
            "           1       0.98      0.98      0.98      1063\n",
            "\n",
            "    accuracy                           0.98      2100\n",
            "   macro avg       0.98      0.98      0.98      2100\n",
            "weighted avg       0.98      0.98      0.98      2100\n",
            "\n",
            "\n",
            "ROC AUC Score: 0.9790679931889786\n",
            "\n",
            "Confusion Matrix:\n",
            "[[1017   20]\n",
            " [  24 1039]]\n",
            "Test accuracy = 97.90%\n"
          ]
        }
      ]
    },
    {
      "cell_type": "markdown",
      "source": [
        "**overfit/underfit**\n",
        "\n",
        " we chose 34 features as precision and recall both reached 98% accuracy on their predictions."
      ],
      "metadata": {
        "id": "E_jGHRMnW8C4"
      }
    },
    {
      "cell_type": "code",
      "source": [
        "#best # of features was 34\n",
        "mlp_val_predictions = mlp34_model.predict(x34_val)\n",
        "\n",
        "print(\"MLP Validation Classification Report:\")\n",
        "print(classification_report(y34_val, mlp_val_predictions))\n",
        "\n",
        "print(\"\\nMLP Validation Evaluation Metrics:\")\n",
        "print_evaluation_metrics(y34_val, mlp_val_predictions)\n"
      ],
      "metadata": {
        "colab": {
          "base_uri": "https://localhost:8080/"
        },
        "id": "h3clKhpfW7Ti",
        "outputId": "6d8cfd94-34b6-4c9d-8488-657cf4bcfb6f"
      },
      "execution_count": null,
      "outputs": [
        {
          "output_type": "stream",
          "name": "stdout",
          "text": [
            "MLP Validation Classification Report:\n",
            "              precision    recall  f1-score   support\n",
            "\n",
            "           0       0.97      0.98      0.98       426\n",
            "           1       0.99      0.98      0.98       474\n",
            "\n",
            "    accuracy                           0.98       900\n",
            "   macro avg       0.98      0.98      0.98       900\n",
            "weighted avg       0.98      0.98      0.98       900\n",
            "\n",
            "\n",
            "MLP Validation Evaluation Metrics:\n",
            "ROC AUC Score: 0.9801806620312592\n",
            "Confusion Matrix:\n",
            " [[419   7]\n",
            " [ 11 463]]\n"
          ]
        }
      ]
    }
  ]
}