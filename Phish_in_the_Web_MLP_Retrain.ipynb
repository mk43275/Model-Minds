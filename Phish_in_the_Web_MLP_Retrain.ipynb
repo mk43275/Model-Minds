{
  "nbformat": 4,
  "nbformat_minor": 0,
  "metadata": {
    "colab": {
      "provenance": []
    },
    "kernelspec": {
      "name": "python3",
      "display_name": "Python 3"
    },
    "language_info": {
      "name": "python"
    }
  },
  "cells": [
    {
      "cell_type": "markdown",
      "source": [
        "# **Phish in the Web**\n",
        "### **MLP Retrain**\n",
        "\n",
        "**Data Preprocessing**"
      ],
      "metadata": {
        "id": "kfioAUP06Ibq"
      }
    },
    {
      "cell_type": "code",
      "source": [
        "#import libraries only ONCE\n",
        "import pandas as pd\n",
        "from sklearn.preprocessing import MinMaxScaler #no one hot // all columns numeric\n",
        "from sklearn.model_selection import train_test_split #data splitting"
      ],
      "metadata": {
        "id": "t1w8RULR6Iol"
      },
      "execution_count": 1,
      "outputs": []
    },
    {
      "cell_type": "code",
      "execution_count": 2,
      "metadata": {
        "colab": {
          "base_uri": "https://localhost:8080/"
        },
        "id": "T-dn1Q9E6E-R",
        "outputId": "0a41570a-199c-4058-acb5-47602bd1c411"
      },
      "outputs": [
        {
          "output_type": "execute_result",
          "data": {
            "text/plain": [
              "(10000, 50)"
            ]
          },
          "metadata": {},
          "execution_count": 2
        }
      ],
      "source": [
        "#read in data & check for shape\n",
        "phish_df = pd.read_csv(\"Phishing_Legitimate_full.csv\")\n",
        "phish_df.shape"
      ]
    },
    {
      "cell_type": "code",
      "source": [
        "#specifying the columns we want to keep\n",
        "selected_columns = ['NumDots', 'SubdomainLevel', 'PathLevel', 'UrlLength', 'NumDash',\n",
        "    'NumDashInHostname', 'AtSymbol','TildeSymbol', 'NumUnderscore','NumPercent',\n",
        "    'NumQueryComponents','NumAmpersand','NumHash','NumNumericChars','NoHttps',\n",
        "    'RandomString','IpAddress','DomainInSubdomains','DomainInPaths','HttpsInHostname','HostnameLength',\n",
        "    'PathLength','QueryLength','DoubleSlashInPath','NumSensitiveWords','EmbeddedBrandName',\n",
        "    'PctExtHyperlinks','PctExtResourceUrls','ExtFavicon','InsecureForms','RelativeFormAction',\n",
        "    'ExtFormAction','AbnormalFormAction','PctNullSelfRedirectHyperlinks','FrequentDomainNameMismatch',\n",
        "    'FakeLinkInStatusBar','RightClickDisabled','PopUpWindow','SubmitInfoToEmail','IframeOrFrame',\n",
        "    'MissingTitle','ImagesOnlyInForm','SubdomainLevelRT','UrlLengthRT','PctExtResourceUrlsRT',\n",
        "    'AbnormalExtFormActionR','ExtMetaScriptLinkRT','PctExtNullSelfRedirectHyperlinksRT', 'CLASS_LABEL']\n",
        "\n",
        "#split the features into 5 - 10 - 15\n",
        "five_features = ['PctExtHyperlinks', 'InsecureForms', 'FrequentDomainNameMismatch', 'NumPercent',\n",
        "                 'PctExtResourceUrls']\n",
        "\n",
        "ten_features = ['PctExtHyperlinks', 'InsecureForms', 'FrequentDomainNameMismatch', 'NumPercent',\n",
        "                 'PctExtResourceUrls','ExtFavicon', 'NumSensitiveWords', 'NoHttps', 'NumDots', 'MissingTitle']\n",
        "\n",
        "fifteen_features = ['PctExtHyperlinks', 'InsecureForms', 'FrequentDomainNameMismatch', 'NumPercent',\n",
        "                 'PctExtResourceUrls','ExtFavicon', 'NumSensitiveWords', 'NoHttps', 'NumDots', 'MissingTitle',\n",
        "                    'SubmitInfoToEmail', 'PopUpWindow', 'DoubleSlashInPath', 'IpAddress', 'NumNumericChars']\n",
        "\n",
        "#features\n",
        "#feature_columns = ['NumDots', 'SubdomainLevel', 'PathLevel', 'UrlLength', 'NumDash', 'NumDashInHostname', 'AtSymbol','TildeSymbol', 'NumUnderscore','NumPercent','NumQueryComponents','NumAmpersand','NumHash','NumNumericChars','NoHttps','RandomString','IpAddress','DomainInSubdomains','DomainInPaths','HttpsInHostname','HostnameLength','PathLength','QueryLength','DoubleSlashInPath','NumSensitiveWords','EmbeddedBrandName','PctExtHyperlinks','PctExtResourceUrls','ExtFavicon','InsecureForms','RelativeFormAction', 'ExtFormAction','AbnormalFormAction','PctNullSelfRedirectHyperlinks','FrequentDomainNameMismatch','FakeLinkInStatusBar','RightClickDisabled','PopUpWindow','SubmitInfoToEmail','IframeOrFrame','MissingTitle','ImagesOnlyInForm','SubdomainLevelRT','UrlLengthRT','PctExtResourceUrlsRT','AbnormalExtFormActionR','ExtMetaScriptLinkRT','PctExtNullSelfRedirectHyperlinksRT']\n",
        "\n",
        "#label\n",
        "label_column = ['CLASS_LABEL']"
      ],
      "metadata": {
        "id": "VPq6Bwjj6Pma"
      },
      "execution_count": 3,
      "outputs": []
    },
    {
      "cell_type": "code",
      "source": [
        "#five features\n",
        "phishing_5_features_df = phish_df[five_features]\n",
        "\n",
        "#ten features\n",
        "phishing_10_features_df = phish_df[ten_features]\n",
        "\n",
        "#fifteen features\n",
        "phishing_15_features_df = phish_df[fifteen_features]\n",
        "\n",
        "#label\n",
        "phishing_label_df = phish_df[label_column]"
      ],
      "metadata": {
        "id": "MWKpnpj89wvB"
      },
      "execution_count": 4,
      "outputs": []
    },
    {
      "cell_type": "markdown",
      "source": [
        "### **feature engineering**"
      ],
      "metadata": {
        "id": "fpLt2CUT9y_B"
      }
    },
    {
      "cell_type": "code",
      "source": [
        "#initiate scaler\n",
        "min_scaler = MinMaxScaler()\n",
        "\n",
        "#scale 5 features\n",
        "phishing_5_features_df[five_features] = min_scaler.fit_transform(phishing_5_features_df[five_features])\n",
        "\n",
        "#scale 10 features\n",
        "phishing_10_features_df[ten_features] = min_scaler.fit_transform(phishing_10_features_df[ten_features])\n",
        "\n",
        "#scale 15 features\n",
        "phishing_15_features_df[fifteen_features] = min_scaler.fit_transform(phishing_15_features_df[fifteen_features])"
      ],
      "metadata": {
        "colab": {
          "base_uri": "https://localhost:8080/"
        },
        "id": "XhZSGWio9ymk",
        "outputId": "2c6e59ff-12a6-470b-9b21-c6b6f74bffbe"
      },
      "execution_count": 6,
      "outputs": [
        {
          "output_type": "stream",
          "name": "stderr",
          "text": [
            "<ipython-input-6-cc977474be56>:5: SettingWithCopyWarning: \n",
            "A value is trying to be set on a copy of a slice from a DataFrame.\n",
            "Try using .loc[row_indexer,col_indexer] = value instead\n",
            "\n",
            "See the caveats in the documentation: https://pandas.pydata.org/pandas-docs/stable/user_guide/indexing.html#returning-a-view-versus-a-copy\n",
            "  phishing_5_features_df[five_features] = min_scaler.fit_transform(phishing_5_features_df[five_features])\n",
            "<ipython-input-6-cc977474be56>:8: SettingWithCopyWarning: \n",
            "A value is trying to be set on a copy of a slice from a DataFrame.\n",
            "Try using .loc[row_indexer,col_indexer] = value instead\n",
            "\n",
            "See the caveats in the documentation: https://pandas.pydata.org/pandas-docs/stable/user_guide/indexing.html#returning-a-view-versus-a-copy\n",
            "  phishing_10_features_df[ten_features] = min_scaler.fit_transform(phishing_10_features_df[ten_features])\n",
            "<ipython-input-6-cc977474be56>:11: SettingWithCopyWarning: \n",
            "A value is trying to be set on a copy of a slice from a DataFrame.\n",
            "Try using .loc[row_indexer,col_indexer] = value instead\n",
            "\n",
            "See the caveats in the documentation: https://pandas.pydata.org/pandas-docs/stable/user_guide/indexing.html#returning-a-view-versus-a-copy\n",
            "  phishing_15_features_df[fifteen_features] = min_scaler.fit_transform(phishing_15_features_df[fifteen_features])\n"
          ]
        }
      ]
    },
    {
      "cell_type": "markdown",
      "source": [
        "### **data splitting**"
      ],
      "metadata": {
        "id": "TQa5mrMD92Et"
      }
    },
    {
      "cell_type": "code",
      "source": [
        "#data splitting\n",
        "\n",
        "#split data!\n",
        "x5_train, x5_test, y5_train, y5_test = train_test_split(phishing_5_features_df, phishing_label_df, test_size=0.2, random_state=42)\n",
        "\n",
        "#split data!\n",
        "x10_train, x10_test, y10_train, y10_test = train_test_split(phishing_10_features_df, phishing_label_df, test_size=0.2, random_state=42)\n",
        "\n",
        "#split data!\n",
        "x15_train, x15_test, y15_train, y15_test = train_test_split(phishing_15_features_df, phishing_label_df, test_size=0.2, random_state=42)"
      ],
      "metadata": {
        "id": "ZS-iWCc-908M"
      },
      "execution_count": 7,
      "outputs": []
    },
    {
      "cell_type": "code",
      "source": [
        "#print training data shape and label's shape (5 features)\n",
        "print (f\"Training: Features' shape [no. of examples * feature vector size] =  {x5_train.shape}\")\n",
        "print (f\"Training: Label's shape [no. of examples * 1] = {y5_train.shape}\\n\")\n",
        "\n",
        "#print test data shape and label's shape (5 features)\n",
        "print (f\"Test: Features' shape [no. of examples * feature vector size] =  {x5_test.shape}\")\n",
        "print (f\"Test: Label's shape [no. of examples * 1] = {y5_test.shape}\\n\")"
      ],
      "metadata": {
        "colab": {
          "base_uri": "https://localhost:8080/"
        },
        "id": "bxD9Ky6KJjAV",
        "outputId": "c97604e9-c390-48ee-838b-e0c6aa762aea"
      },
      "execution_count": 8,
      "outputs": [
        {
          "output_type": "stream",
          "name": "stdout",
          "text": [
            "Training: Features' shape [no. of examples * feature vector size] =  (8000, 5)\n",
            "Training: Label's shape [no. of examples * 1] = (8000, 1)\n",
            "\n",
            "Test: Features' shape [no. of examples * feature vector size] =  (2000, 5)\n",
            "Test: Label's shape [no. of examples * 1] = (2000, 1)\n",
            "\n"
          ]
        }
      ]
    },
    {
      "cell_type": "code",
      "source": [
        "#print training data shape and label's shape (10 features)\n",
        "print (f\"Training: Features' shape [no. of examples * feature vector size] =  {x10_train.shape}\")\n",
        "print (f\"Training: Label's shape [no. of examples * 1] = {y10_train.shape}\\n\")\n",
        "\n",
        "#print test data shape and label's shape (10 features)\n",
        "print (f\"Test: Features' shape [no. of examples * feature vector size] =  {x10_test.shape}\")\n",
        "print (f\"Test: Label's shape [no. of examples * 1] = {y10_test.shape}\\n\")"
      ],
      "metadata": {
        "colab": {
          "base_uri": "https://localhost:8080/"
        },
        "id": "QxeH4VoMJjfy",
        "outputId": "bdd0cc6d-0d6d-4e72-cb20-262d540bf62c"
      },
      "execution_count": 9,
      "outputs": [
        {
          "output_type": "stream",
          "name": "stdout",
          "text": [
            "Training: Features' shape [no. of examples * feature vector size] =  (8000, 10)\n",
            "Training: Label's shape [no. of examples * 1] = (8000, 1)\n",
            "\n",
            "Test: Features' shape [no. of examples * feature vector size] =  (2000, 10)\n",
            "Test: Label's shape [no. of examples * 1] = (2000, 1)\n",
            "\n"
          ]
        }
      ]
    },
    {
      "cell_type": "code",
      "source": [
        "#print training data shape and label's shape (15 features)\n",
        "print (f\"Training: Features' shape [no. of examples * feature vector size] =  {x15_train.shape}\")\n",
        "print (f\"Training: Label's shape [no. of examples * 1] = {y15_train.shape}\\n\")\n",
        "\n",
        "#print test data shape and label's shape (15 features)\n",
        "print (f\"Test: Features' shape [no. of examples * feature vector size] =  {x15_test.shape}\")\n",
        "print (f\"Test: Label's shape [no. of examples * 1] = {y15_test.shape}\\n\")"
      ],
      "metadata": {
        "colab": {
          "base_uri": "https://localhost:8080/"
        },
        "id": "ZhHR9bllJj58",
        "outputId": "c3d9eb7b-8406-44aa-d8d3-20dbe6693a38"
      },
      "execution_count": 10,
      "outputs": [
        {
          "output_type": "stream",
          "name": "stdout",
          "text": [
            "Training: Features' shape [no. of examples * feature vector size] =  (8000, 15)\n",
            "Training: Label's shape [no. of examples * 1] = (8000, 1)\n",
            "\n",
            "Test: Features' shape [no. of examples * feature vector size] =  (2000, 15)\n",
            "Test: Label's shape [no. of examples * 1] = (2000, 1)\n",
            "\n"
          ]
        }
      ]
    },
    {
      "cell_type": "markdown",
      "source": [
        "### **train mlp**"
      ],
      "metadata": {
        "id": "zrLV4wLs9676"
      }
    },
    {
      "cell_type": "code",
      "source": [
        "#import necessary files\n",
        "from sklearn.neural_network import MLPClassifier\n",
        "from sklearn.metrics import classification_report #report\n",
        "from sklearn.metrics import roc_auc_score, confusion_matrix\n"
      ],
      "metadata": {
        "id": "6sR0Izp5J1hS"
      },
      "execution_count": 11,
      "outputs": []
    },
    {
      "cell_type": "code",
      "source": [
        "#MLP (Multi-Layer Perceptron)\n",
        "mlp5_model = MLPClassifier(hidden_layer_sizes=(100,), max_iter=1000, random_state=42)\n",
        "mlp5_model.fit(x5_train, y5_train.values.ravel())\n",
        "mlp5_predictions = mlp5_model.predict(x5_test)\n",
        "\n",
        "print(\"\\nMLP Classification Report:\")\n",
        "print(classification_report(y5_test, mlp5_predictions))\n",
        "\n",
        "# Calculate ROC AUC score\n",
        "mlp5_roc_auc = roc_auc_score(y5_test, mlp5_predictions)\n",
        "print(\"\\nROC AUC Score:\", mlp5_roc_auc)\n",
        "\n",
        "# Print confusion matrix\n",
        "print(\"\\nConfusion Matrix:\")\n",
        "print(confusion_matrix(y5_test, mlp5_predictions))"
      ],
      "metadata": {
        "colab": {
          "base_uri": "https://localhost:8080/"
        },
        "id": "g2Mo3eXC954o",
        "outputId": "9211b710-a442-4c0e-eeb9-09490a6787ca"
      },
      "execution_count": 12,
      "outputs": [
        {
          "output_type": "stream",
          "name": "stdout",
          "text": [
            "\n",
            "MLP Classification Report:\n",
            "              precision    recall  f1-score   support\n",
            "\n",
            "           0       0.93      0.88      0.91       988\n",
            "           1       0.89      0.94      0.91      1012\n",
            "\n",
            "    accuracy                           0.91      2000\n",
            "   macro avg       0.91      0.91      0.91      2000\n",
            "weighted avg       0.91      0.91      0.91      2000\n",
            "\n",
            "\n",
            "ROC AUC Score: 0.9101570626170169\n",
            "\n",
            "Confusion Matrix:\n",
            "[[871 117]\n",
            " [ 62 950]]\n"
          ]
        }
      ]
    },
    {
      "cell_type": "code",
      "source": [
        "#MLP (Multi-Layer Perceptron)\n",
        "mlp10_model = MLPClassifier(hidden_layer_sizes=(100,), max_iter=1000, random_state=42)\n",
        "mlp10_model.fit(x10_train, y10_train.values.ravel())\n",
        "mlp10_predictions = mlp10_model.predict(x10_test)\n",
        "\n",
        "print(\"\\nMLP Classification Report:\")\n",
        "print(classification_report(y10_test, mlp10_predictions))\n",
        "\n",
        "# Calculate ROC AUC score\n",
        "mlp10_roc_auc = roc_auc_score(y10_test, mlp10_predictions)\n",
        "print(\"\\nROC AUC Score:\", mlp10_roc_auc)\n",
        "\n",
        "# Print confusion matrix\n",
        "print(\"\\nConfusion Matrix:\")\n",
        "print(confusion_matrix(y10_test, mlp10_predictions))"
      ],
      "metadata": {
        "colab": {
          "base_uri": "https://localhost:8080/"
        },
        "id": "4OCsDt5FJxbV",
        "outputId": "16458ea9-ce78-4e38-9b96-c553c7798c7d"
      },
      "execution_count": 13,
      "outputs": [
        {
          "output_type": "stream",
          "name": "stdout",
          "text": [
            "\n",
            "MLP Classification Report:\n",
            "              precision    recall  f1-score   support\n",
            "\n",
            "           0       0.94      0.95      0.94       988\n",
            "           1       0.95      0.94      0.94      1012\n",
            "\n",
            "    accuracy                           0.94      2000\n",
            "   macro avg       0.94      0.94      0.94      2000\n",
            "weighted avg       0.94      0.94      0.94      2000\n",
            "\n",
            "\n",
            "ROC AUC Score: 0.943063801187371\n",
            "\n",
            "Confusion Matrix:\n",
            "[[937  51]\n",
            " [ 63 949]]\n"
          ]
        }
      ]
    },
    {
      "cell_type": "code",
      "source": [
        "#MLP (Multi-Layer Perceptron)\n",
        "mlp15_model = MLPClassifier(hidden_layer_sizes=(100,), max_iter=1000, random_state=42)\n",
        "mlp15_model.fit(x15_train, y15_train.values.ravel())\n",
        "mlp15_predictions = mlp15_model.predict(x15_test)\n",
        "\n",
        "print(\"\\nMLP Classification Report:\")\n",
        "print(classification_report(y15_test, mlp15_predictions))\n",
        "\n",
        "# Calculate ROC AUC score\n",
        "mlp15_roc_auc = roc_auc_score(y15_test, mlp15_predictions)\n",
        "print(\"\\nROC AUC Score:\", mlp15_roc_auc)\n",
        "\n",
        "# Print confusion matrix\n",
        "print(\"\\nConfusion Matrix:\")\n",
        "print(confusion_matrix(y15_test, mlp15_predictions))"
      ],
      "metadata": {
        "colab": {
          "base_uri": "https://localhost:8080/"
        },
        "id": "Dx2XmUP6JyCB",
        "outputId": "a1a82865-9137-4839-e17e-8606cdcbf37f"
      },
      "execution_count": 14,
      "outputs": [
        {
          "output_type": "stream",
          "name": "stdout",
          "text": [
            "\n",
            "MLP Classification Report:\n",
            "              precision    recall  f1-score   support\n",
            "\n",
            "           0       0.95      0.95      0.95       988\n",
            "           1       0.95      0.95      0.95      1012\n",
            "\n",
            "    accuracy                           0.95      2000\n",
            "   macro avg       0.95      0.95      0.95      2000\n",
            "weighted avg       0.95      0.95      0.95      2000\n",
            "\n",
            "\n",
            "ROC AUC Score: 0.9525111616072715\n",
            "\n",
            "Confusion Matrix:\n",
            "[[942  46]\n",
            " [ 49 963]]\n"
          ]
        }
      ]
    },
    {
      "cell_type": "markdown",
      "source": [
        "### **model evaluation**"
      ],
      "metadata": {
        "id": "SHBN5s7K-fEc"
      }
    },
    {
      "cell_type": "code",
      "source": [
        "#import necessary files\n",
        "from sklearn.metrics import accuracy_score\n",
        "import numpy as np\n"
      ],
      "metadata": {
        "id": "kQDEqxWHKaAG"
      },
      "execution_count": 15,
      "outputs": []
    },
    {
      "cell_type": "code",
      "source": [
        "#model's prediction 5 features\n",
        "pred5 = mlp5_model.predict(x5_test)\n",
        "\n",
        "#test accuracy of our model // import in the beginning\n",
        "pred5_classes = np.round(pred5)\n",
        "accuracy5 = accuracy_score(y5_test,pred5_classes)\n",
        "accuracy5_perc = accuracy5 * 100\n",
        "print (f\"test accuracy = {accuracy5_perc:.2f}%\")"
      ],
      "metadata": {
        "colab": {
          "base_uri": "https://localhost:8080/"
        },
        "id": "YLVxp5JN-HQ2",
        "outputId": "06f85dc1-359d-4d3e-c0b8-fa6156b7aada"
      },
      "execution_count": 16,
      "outputs": [
        {
          "output_type": "stream",
          "name": "stdout",
          "text": [
            "test accuracy = 91.05%\n"
          ]
        }
      ]
    },
    {
      "cell_type": "code",
      "source": [
        "#model's prediction 10 features\n",
        "pred10 = mlp10_model.predict(x10_test)\n",
        "\n",
        "#test accuracy of our model // import in the beginning\n",
        "pred10_classes = np.round(pred10)\n",
        "accuracy10 = accuracy_score(y10_test,pred10_classes)\n",
        "accuracy10_perc = accuracy10 * 100\n",
        "print (f\"test accuracy = {accuracy10_perc:.2f}%\")"
      ],
      "metadata": {
        "colab": {
          "base_uri": "https://localhost:8080/"
        },
        "id": "8EctrgRQ_WST",
        "outputId": "df6d0a74-8ef2-4c34-cbf8-092c7ff8b9dd"
      },
      "execution_count": 17,
      "outputs": [
        {
          "output_type": "stream",
          "name": "stdout",
          "text": [
            "test accuracy = 94.30%\n"
          ]
        }
      ]
    },
    {
      "cell_type": "code",
      "source": [
        "#model's prediction 15 features\n",
        "pred15 = mlp15_model.predict(x15_test)\n",
        "\n",
        "#test accuracy of our model // import in the beginning\n",
        "pred15_classes = np.round(pred15)\n",
        "accuracy15 = accuracy_score(y15_test,pred15_classes)\n",
        "accuracy15_perc = accuracy15 * 100\n",
        "print (f\"test accuracy = {accuracy15_perc:.2f}%\")"
      ],
      "metadata": {
        "colab": {
          "base_uri": "https://localhost:8080/"
        },
        "id": "OSecqxKDKeam",
        "outputId": "9b9581c9-d6eb-4134-c3b9-935791f1a3a5"
      },
      "execution_count": 18,
      "outputs": [
        {
          "output_type": "stream",
          "name": "stdout",
          "text": [
            "test accuracy = 95.25%\n"
          ]
        }
      ]
    },
    {
      "cell_type": "markdown",
      "source": [
        "### **Insights**\n",
        "\n",
        "- [input here]\n",
        "\n",
        "- I will be testing with more features to see where adding features will not improve accuracy"
      ],
      "metadata": {
        "id": "iN6J7Y_eLrNF"
      }
    },
    {
      "cell_type": "code",
      "source": [
        "twenty_features = ['PctExtHyperlinks', 'InsecureForms', 'FrequentDomainNameMismatch', 'NumPercent',\n",
        "                 'PctExtResourceUrls','ExtFavicon', 'NumSensitiveWords', 'NoHttps', 'NumDots', 'MissingTitle',\n",
        "                    'SubmitInfoToEmail', 'PopUpWindow', 'DoubleSlashInPath', 'IpAddress', 'NumNumericChars',\n",
        "                   'PctExtNullSelfRedirectHyperlinksRT', 'SubdomainLevelRT', 'NumQueryComponents',\n",
        "                   'NumUnderscore', 'SubdomainLevel']\n",
        "\n",
        "#label\n",
        "label_column = ['CLASS_LABEL']\n",
        "\n",
        "#fifteen features\n",
        "phishing_20_features_df = phish_df[twenty_features]\n",
        "\n",
        "#label\n",
        "phishing_label_df = phish_df[label_column]\n",
        "\n",
        "#scale 5 features\n",
        "phishing_20_features_df[twenty_features] = min_scaler.fit_transform(phishing_20_features_df[twenty_features])\n",
        "\n",
        "#split data!\n",
        "x20_train, x20_test, y20_train, y20_test = train_test_split(phishing_20_features_df, phishing_label_df, test_size=0.2, random_state=42)\n"
      ],
      "metadata": {
        "colab": {
          "base_uri": "https://localhost:8080/"
        },
        "id": "XmoC2uWjLs22",
        "outputId": "53ddd5d0-3814-4ca8-96d6-7ab561570ae5"
      },
      "execution_count": 19,
      "outputs": [
        {
          "output_type": "stream",
          "name": "stderr",
          "text": [
            "<ipython-input-19-d083b2bcf043>:17: SettingWithCopyWarning: \n",
            "A value is trying to be set on a copy of a slice from a DataFrame.\n",
            "Try using .loc[row_indexer,col_indexer] = value instead\n",
            "\n",
            "See the caveats in the documentation: https://pandas.pydata.org/pandas-docs/stable/user_guide/indexing.html#returning-a-view-versus-a-copy\n",
            "  phishing_20_features_df[twenty_features] = min_scaler.fit_transform(phishing_20_features_df[twenty_features])\n"
          ]
        }
      ]
    },
    {
      "cell_type": "code",
      "source": [
        "#MLP (Multi-Layer Perceptron)\n",
        "mlp20_model = MLPClassifier(hidden_layer_sizes=(100,), max_iter=1000, random_state=42)\n",
        "mlp20_model.fit(x20_train, y20_train.values.ravel())\n",
        "mlp20_predictions = mlp20_model.predict(x20_test)\n",
        "\n",
        "print(\"\\nMLP Classification Report:\")\n",
        "print(classification_report(y20_test, mlp20_predictions))\n",
        "\n",
        "# Calculate ROC AUC score\n",
        "mlp20_roc_auc = roc_auc_score(y20_test, mlp20_predictions)\n",
        "print(\"\\nROC AUC Score:\", mlp20_roc_auc)\n",
        "\n",
        "# Print confusion matrix\n",
        "print(\"\\nConfusion Matrix:\")\n",
        "print(confusion_matrix(y20_test, mlp20_predictions))"
      ],
      "metadata": {
        "colab": {
          "base_uri": "https://localhost:8080/"
        },
        "id": "qDnmhruYMpNs",
        "outputId": "915966ec-e462-4523-d3b9-61d30e03f353"
      },
      "execution_count": 20,
      "outputs": [
        {
          "output_type": "stream",
          "name": "stdout",
          "text": [
            "\n",
            "MLP Classification Report:\n",
            "              precision    recall  f1-score   support\n",
            "\n",
            "           0       0.97      0.97      0.97       988\n",
            "           1       0.97      0.97      0.97      1012\n",
            "\n",
            "    accuracy                           0.97      2000\n",
            "   macro avg       0.97      0.97      0.97      2000\n",
            "weighted avg       0.97      0.97      0.97      2000\n",
            "\n",
            "\n",
            "ROC AUC Score: 0.9699956793778304\n",
            "\n",
            "Confusion Matrix:\n",
            "[[958  30]\n",
            " [ 30 982]]\n"
          ]
        }
      ]
    },
    {
      "cell_type": "code",
      "source": [
        "#model's prediction 15 features\n",
        "pred20 = mlp20_model.predict(x20_test)\n",
        "\n",
        "#test accuracy of our model // import in the beginning\n",
        "pred20_classes = np.round(pred20)\n",
        "accuracy20 = accuracy_score(y20_test,pred20_classes)\n",
        "accuracy20_perc = accuracy20 * 100\n",
        "print (f\"test accuracy = {accuracy20_perc:.2f}%\")"
      ],
      "metadata": {
        "colab": {
          "base_uri": "https://localhost:8080/"
        },
        "id": "v9MgTsjiNBLk",
        "outputId": "b74b42bf-de80-429b-8764-b72ba6bafa34"
      },
      "execution_count": 21,
      "outputs": [
        {
          "output_type": "stream",
          "name": "stdout",
          "text": [
            "test accuracy = 97.00%\n"
          ]
        }
      ]
    },
    {
      "cell_type": "markdown",
      "source": [
        "**25 features**"
      ],
      "metadata": {
        "id": "-bZO70btNVEB"
      }
    },
    {
      "cell_type": "code",
      "source": [
        "twenty5_features = ['PctExtHyperlinks', 'InsecureForms', 'FrequentDomainNameMismatch', 'NumPercent',\n",
        "                 'PctExtResourceUrls','ExtFavicon', 'NumSensitiveWords', 'NoHttps', 'NumDots', 'MissingTitle',\n",
        "                    'SubmitInfoToEmail', 'PopUpWindow', 'DoubleSlashInPath', 'IpAddress', 'NumNumericChars',\n",
        "                   'PctExtNullSelfRedirectHyperlinksRT', 'SubdomainLevelRT', 'NumQueryComponents',\n",
        "                   'NumUnderscore', 'SubdomainLevel', 'DomainInSubdomains', 'NumAmpersand', 'AtSymbol',\n",
        "                    'ExtMetaScriptLinkRT', 'UrlLengthRT']\n",
        "\n",
        "#label\n",
        "label_column = ['CLASS_LABEL']\n",
        "\n",
        "#fifteen features\n",
        "phishing_25_features_df = phish_df[twenty5_features]\n",
        "\n",
        "#label\n",
        "phishing_label_df = phish_df[label_column]\n",
        "\n",
        "#scale 5 features\n",
        "phishing_25_features_df[twenty5_features] = min_scaler.fit_transform(phishing_25_features_df[twenty5_features])\n",
        "\n",
        "#split data!\n",
        "x25_train, x25_test, y25_train, y25_test = train_test_split(phishing_25_features_df, phishing_label_df, test_size=0.2, random_state=42)\n"
      ],
      "metadata": {
        "colab": {
          "base_uri": "https://localhost:8080/"
        },
        "id": "Tl9eNioINWaR",
        "outputId": "584c23ca-9c0a-4caa-b907-5e785204e01f"
      },
      "execution_count": 22,
      "outputs": [
        {
          "output_type": "stream",
          "name": "stderr",
          "text": [
            "<ipython-input-22-c378d5eb4567>:18: SettingWithCopyWarning: \n",
            "A value is trying to be set on a copy of a slice from a DataFrame.\n",
            "Try using .loc[row_indexer,col_indexer] = value instead\n",
            "\n",
            "See the caveats in the documentation: https://pandas.pydata.org/pandas-docs/stable/user_guide/indexing.html#returning-a-view-versus-a-copy\n",
            "  phishing_25_features_df[twenty5_features] = min_scaler.fit_transform(phishing_25_features_df[twenty5_features])\n"
          ]
        }
      ]
    },
    {
      "cell_type": "code",
      "source": [
        "#MLP (Multi-Layer Perceptron)\n",
        "mlp25_model = MLPClassifier(hidden_layer_sizes=(100,), max_iter=1000, random_state=42)\n",
        "mlp25_model.fit(x25_train, y25_train.values.ravel())\n",
        "mlp25_predictions = mlp25_model.predict(x25_test)\n",
        "\n",
        "print(\"\\nMLP Classification Report:\")\n",
        "print(classification_report(y25_test, mlp25_predictions))\n",
        "\n",
        "# Calculate ROC AUC score\n",
        "mlp25_roc_auc = roc_auc_score(y25_test, mlp25_predictions)\n",
        "print(\"\\nROC AUC Score:\", mlp25_roc_auc)\n",
        "\n",
        "# Print confusion matrix\n",
        "print(\"\\nConfusion Matrix:\")\n",
        "print(confusion_matrix(y25_test, mlp25_predictions))"
      ],
      "metadata": {
        "colab": {
          "base_uri": "https://localhost:8080/"
        },
        "id": "E-bPU1ZHNYNe",
        "outputId": "af817258-ffb1-4265-8efd-f9e848024b93"
      },
      "execution_count": 23,
      "outputs": [
        {
          "output_type": "stream",
          "name": "stdout",
          "text": [
            "\n",
            "MLP Classification Report:\n",
            "              precision    recall  f1-score   support\n",
            "\n",
            "           0       0.96      0.98      0.97       988\n",
            "           1       0.98      0.97      0.97      1012\n",
            "\n",
            "    accuracy                           0.97      2000\n",
            "   macro avg       0.97      0.97      0.97      2000\n",
            "weighted avg       0.97      0.97      0.97      2000\n",
            "\n",
            "\n",
            "ROC AUC Score: 0.9705617608935686\n",
            "\n",
            "Confusion Matrix:\n",
            "[[964  24]\n",
            " [ 35 977]]\n"
          ]
        }
      ]
    },
    {
      "cell_type": "code",
      "source": [
        "#model's prediction 15 features\n",
        "pred25 = mlp25_model.predict(x25_test)\n",
        "\n",
        "#test accuracy of our model // import in the beginning\n",
        "pred25_classes = np.round(pred25)\n",
        "accuracy25 = accuracy_score(y25_test,pred25_classes)\n",
        "accuracy25_perc = accuracy25 * 100\n",
        "print (f\"test accuracy = {accuracy25_perc:.2f}%\")"
      ],
      "metadata": {
        "colab": {
          "base_uri": "https://localhost:8080/"
        },
        "id": "aFoTks8uNZzU",
        "outputId": "26b2ef63-32d6-478a-e411-2ad5f6c8cb9a"
      },
      "execution_count": 24,
      "outputs": [
        {
          "output_type": "stream",
          "name": "stdout",
          "text": [
            "test accuracy = 97.05%\n"
          ]
        }
      ]
    },
    {
      "cell_type": "markdown",
      "source": [
        "**30 features**"
      ],
      "metadata": {
        "id": "g9K_17q6OB61"
      }
    },
    {
      "cell_type": "code",
      "source": [
        "thirty_features = ['PctExtHyperlinks', 'InsecureForms', 'FrequentDomainNameMismatch', 'NumPercent',\n",
        "                 'PctExtResourceUrls','ExtFavicon', 'NumSensitiveWords', 'NoHttps', 'NumDots', 'MissingTitle',\n",
        "                    'SubmitInfoToEmail', 'PopUpWindow', 'DoubleSlashInPath', 'IpAddress', 'NumNumericChars',\n",
        "                   'PctExtNullSelfRedirectHyperlinksRT', 'SubdomainLevelRT', 'NumQueryComponents',\n",
        "                   'NumUnderscore', 'SubdomainLevel', 'DomainInSubdomains', 'NumAmpersand', 'AtSymbol',\n",
        "                    'ExtMetaScriptLinkRT', 'UrlLengthRT', 'IframeOrFrame', 'AbnormalFormAction', 'ExtFormAction',\n",
        "                   'PctExtResourceUrlsRT', 'PctNullSelfRedirectHyperlinks']\n",
        "\n",
        "#label\n",
        "label_column = ['CLASS_LABEL']\n",
        "\n",
        "#fifteen features\n",
        "phishing_30_features_df = phish_df[thirty_features]\n",
        "\n",
        "#label\n",
        "phishing_label_df = phish_df[label_column]\n",
        "\n",
        "#scale 5 features\n",
        "phishing_30_features_df[thirty_features] = min_scaler.fit_transform(phishing_30_features_df[thirty_features])\n",
        "\n",
        "#split data!\n",
        "x30_train, x30_test, y30_train, y30_test = train_test_split(phishing_30_features_df, phishing_label_df, test_size=0.2, random_state=42)\n",
        "\n",
        "#MLP (Multi-Layer Perceptron)\n",
        "mlp30_model = MLPClassifier(hidden_layer_sizes=(100,), max_iter=1000, random_state=42)\n",
        "mlp30_model.fit(x30_train, y30_train.values.ravel())\n",
        "mlp30_predictions = mlp30_model.predict(x30_test)\n",
        "\n",
        "print(\"\\nMLP Classification Report:\")\n",
        "print(classification_report(y30_test, mlp30_predictions))\n",
        "\n",
        "# Calculate ROC AUC score\n",
        "mlp30_roc_auc = roc_auc_score(y30_test, mlp30_predictions)\n",
        "print(\"\\nROC AUC Score:\", mlp30_roc_auc)\n",
        "\n",
        "# Print confusion matrix\n",
        "print(\"\\nConfusion Matrix:\")\n",
        "print(confusion_matrix(y30_test, mlp30_predictions))\n",
        "\n",
        "#model's prediction 15 features\n",
        "pred30 = mlp30_model.predict(x30_test)\n",
        "\n",
        "#test accuracy of our model // import in the beginning\n",
        "pred30_classes = np.round(pred30)\n",
        "accuracy30 = accuracy_score(y30_test,pred30_classes)\n",
        "accuracy30_perc = accuracy30 * 100\n",
        "print (f\"test accuracy = {accuracy30_perc:.2f}%\")"
      ],
      "metadata": {
        "colab": {
          "base_uri": "https://localhost:8080/"
        },
        "id": "aTIKE2jzOBiC",
        "outputId": "b26897d2-5194-4b93-d08d-63e95e196802"
      },
      "execution_count": 26,
      "outputs": [
        {
          "output_type": "stream",
          "name": "stderr",
          "text": [
            "<ipython-input-26-800497a135fe>:19: SettingWithCopyWarning: \n",
            "A value is trying to be set on a copy of a slice from a DataFrame.\n",
            "Try using .loc[row_indexer,col_indexer] = value instead\n",
            "\n",
            "See the caveats in the documentation: https://pandas.pydata.org/pandas-docs/stable/user_guide/indexing.html#returning-a-view-versus-a-copy\n",
            "  phishing_30_features_df[thirty_features] = min_scaler.fit_transform(phishing_30_features_df[thirty_features])\n"
          ]
        },
        {
          "output_type": "stream",
          "name": "stdout",
          "text": [
            "\n",
            "MLP Classification Report:\n",
            "              precision    recall  f1-score   support\n",
            "\n",
            "           0       0.98      0.97      0.97       988\n",
            "           1       0.97      0.98      0.98      1012\n",
            "\n",
            "    accuracy                           0.97      2000\n",
            "   macro avg       0.98      0.97      0.97      2000\n",
            "weighted avg       0.98      0.97      0.97      2000\n",
            "\n",
            "\n",
            "ROC AUC Score: 0.974936390840281\n",
            "\n",
            "Confusion Matrix:\n",
            "[[958  30]\n",
            " [ 20 992]]\n",
            "test accuracy = 97.50%\n"
          ]
        }
      ]
    },
    {
      "cell_type": "markdown",
      "source": [
        "**checking for 29, 31 features - where does it stop going up in accuracy?**"
      ],
      "metadata": {
        "id": "AnmARtkjO35n"
      }
    },
    {
      "cell_type": "code",
      "source": [
        "twenty9_features = ['PctExtHyperlinks', 'InsecureForms', 'FrequentDomainNameMismatch', 'NumPercent',\n",
        "                 'PctExtResourceUrls','ExtFavicon', 'NumSensitiveWords', 'NoHttps', 'NumDots', 'MissingTitle',\n",
        "                    'SubmitInfoToEmail', 'PopUpWindow', 'DoubleSlashInPath', 'IpAddress', 'NumNumericChars',\n",
        "                   'PctExtNullSelfRedirectHyperlinksRT', 'SubdomainLevelRT', 'NumQueryComponents',\n",
        "                   'NumUnderscore', 'SubdomainLevel', 'DomainInSubdomains', 'NumAmpersand', 'AtSymbol',\n",
        "                    'ExtMetaScriptLinkRT', 'UrlLengthRT', 'IframeOrFrame', 'AbnormalFormAction', 'ExtFormAction',\n",
        "                   'PctExtResourceUrlsRT', 'PctNullSelfRedirectHyperlinks']\n",
        "\n",
        "#label\n",
        "label_column = ['CLASS_LABEL']\n",
        "\n",
        "#fifteen features\n",
        "phishing_29_features_df = phish_df[twenty9_features]\n",
        "\n",
        "#label\n",
        "phishing_label_df = phish_df[label_column]\n",
        "\n",
        "#scale 5 features\n",
        "phishing_29_features_df[twenty9_features] = min_scaler.fit_transform(phishing_29_features_df[twenty9_features])\n",
        "\n",
        "#split data!\n",
        "x29_train, x29_test, y29_train, y29_test = train_test_split(phishing_29_features_df, phishing_label_df, test_size=0.2, random_state=42)\n",
        "\n",
        "#MLP (Multi-Layer Perceptron)\n",
        "mlp29_model = MLPClassifier(hidden_layer_sizes=(100,), max_iter=1000, random_state=42)\n",
        "mlp29_model.fit(x29_train, y29_train.values.ravel())\n",
        "mlp29_predictions = mlp29_model.predict(x29_test)\n",
        "\n",
        "print(\"\\nMLP Classification Report:\")\n",
        "print(classification_report(y29_test, mlp29_predictions))\n",
        "\n",
        "# Calculate ROC AUC score\n",
        "mlp29_roc_auc = roc_auc_score(y29_test, mlp20_predictions)\n",
        "print(\"\\nROC AUC Score:\", mlp29_roc_auc)\n",
        "\n",
        "# Print confusion matrix\n",
        "print(\"\\nConfusion Matrix:\")\n",
        "print(confusion_matrix(y29_test, mlp29_predictions))\n",
        "\n",
        "#model's prediction 15 features\n",
        "pred29 = mlp29_model.predict(x29_test)\n",
        "\n",
        "#test accuracy of our model // import in the beginning\n",
        "pred29_classes = np.round(pred29)\n",
        "accuracy29 = accuracy_score(y29_test,pred29_classes)\n",
        "accuracy29_perc = accuracy29 * 100\n",
        "print (f\"test accuracy = {accuracy29_perc:.2f}%\")"
      ],
      "metadata": {
        "colab": {
          "base_uri": "https://localhost:8080/"
        },
        "id": "TrY9pE0ZO-99",
        "outputId": "f6267d76-488b-49ef-82a7-c1bc4f593a03"
      },
      "execution_count": 31,
      "outputs": [
        {
          "output_type": "stream",
          "name": "stderr",
          "text": [
            "<ipython-input-31-6254aa786d4a>:19: SettingWithCopyWarning: \n",
            "A value is trying to be set on a copy of a slice from a DataFrame.\n",
            "Try using .loc[row_indexer,col_indexer] = value instead\n",
            "\n",
            "See the caveats in the documentation: https://pandas.pydata.org/pandas-docs/stable/user_guide/indexing.html#returning-a-view-versus-a-copy\n",
            "  phishing_29_features_df[twenty9_features] = min_scaler.fit_transform(phishing_29_features_df[twenty9_features])\n"
          ]
        },
        {
          "output_type": "stream",
          "name": "stdout",
          "text": [
            "\n",
            "MLP Classification Report:\n",
            "              precision    recall  f1-score   support\n",
            "\n",
            "           0       0.98      0.97      0.97       988\n",
            "           1       0.97      0.98      0.98      1012\n",
            "\n",
            "    accuracy                           0.97      2000\n",
            "   macro avg       0.98      0.97      0.97      2000\n",
            "weighted avg       0.98      0.97      0.97      2000\n",
            "\n",
            "\n",
            "ROC AUC Score: 0.9699956793778304\n",
            "\n",
            "Confusion Matrix:\n",
            "[[958  30]\n",
            " [ 20 992]]\n",
            "test accuracy = 97.50%\n"
          ]
        }
      ]
    },
    {
      "cell_type": "code",
      "source": [
        "thirty1_features = ['PctExtHyperlinks', 'InsecureForms', 'FrequentDomainNameMismatch', 'NumPercent',\n",
        "                 'PctExtResourceUrls','ExtFavicon', 'NumSensitiveWords', 'NoHttps', 'NumDots', 'MissingTitle',\n",
        "                    'SubmitInfoToEmail', 'PopUpWindow', 'DoubleSlashInPath', 'IpAddress', 'NumNumericChars',\n",
        "                   'PctExtNullSelfRedirectHyperlinksRT', 'SubdomainLevelRT', 'NumQueryComponents',\n",
        "                   'NumUnderscore', 'SubdomainLevel', 'DomainInSubdomains', 'NumAmpersand', 'AtSymbol',\n",
        "                    'ExtMetaScriptLinkRT', 'UrlLengthRT', 'IframeOrFrame', 'AbnormalFormAction', 'ExtFormAction',\n",
        "                   'PctExtResourceUrlsRT', 'PctNullSelfRedirectHyperlinks', 'EmbeddedBrandName']\n",
        "\n",
        "#label\n",
        "label_column = ['CLASS_LABEL']\n",
        "\n",
        "#fifteen features\n",
        "phishing_31_features_df = phish_df[thirty1_features]\n",
        "\n",
        "#label\n",
        "phishing_label_df = phish_df[label_column]\n",
        "\n",
        "#scale 5 features\n",
        "phishing_31_features_df[thirty1_features] = min_scaler.fit_transform(phishing_31_features_df[thirty1_features])\n",
        "\n",
        "#split data!\n",
        "x31_train, x31_test, y31_train, y31_test = train_test_split(phishing_31_features_df, phishing_label_df, test_size=0.2, random_state=42)\n",
        "\n",
        "#MLP (Multi-Layer Perceptron)\n",
        "mlp31_model = MLPClassifier(hidden_layer_sizes=(100,), max_iter=1000, random_state=42)\n",
        "mlp31_model.fit(x31_train, y31_train.values.ravel())\n",
        "mlp31_predictions = mlp31_model.predict(x31_test)\n",
        "\n",
        "print(\"\\nMLP Classification Report:\")\n",
        "print(classification_report(y31_test, mlp31_predictions))\n",
        "\n",
        "# Calculate ROC AUC score\n",
        "mlp31_roc_auc = roc_auc_score(y31_test, mlp31_predictions)\n",
        "print(\"\\nROC AUC Score:\", mlp31_roc_auc)\n",
        "\n",
        "# Print confusion matrix\n",
        "print(\"\\nConfusion Matrix:\")\n",
        "print(confusion_matrix(y31_test, mlp31_predictions))\n",
        "\n",
        "#model's prediction 15 features\n",
        "pred31 = mlp31_model.predict(x31_test)\n",
        "\n",
        "#test accuracy of our model // import in the beginning\n",
        "pred31_classes = np.round(pred31)\n",
        "accuracy31 = accuracy_score(y31_test,pred31_classes)\n",
        "accuracy31_perc = accuracy31 * 100\n",
        "print (f\"test accuracy = {accuracy31_perc:.2f}%\")"
      ],
      "metadata": {
        "colab": {
          "base_uri": "https://localhost:8080/"
        },
        "id": "PgQAI1OvO3nH",
        "outputId": "3562647a-f1be-42b6-bf8c-d7ba50b39f81"
      },
      "execution_count": 30,
      "outputs": [
        {
          "output_type": "stream",
          "name": "stderr",
          "text": [
            "<ipython-input-30-abf092d6cd0c>:19: SettingWithCopyWarning: \n",
            "A value is trying to be set on a copy of a slice from a DataFrame.\n",
            "Try using .loc[row_indexer,col_indexer] = value instead\n",
            "\n",
            "See the caveats in the documentation: https://pandas.pydata.org/pandas-docs/stable/user_guide/indexing.html#returning-a-view-versus-a-copy\n",
            "  phishing_31_features_df[thirty1_features] = min_scaler.fit_transform(phishing_31_features_df[thirty1_features])\n"
          ]
        },
        {
          "output_type": "stream",
          "name": "stdout",
          "text": [
            "\n",
            "MLP Classification Report:\n",
            "              precision    recall  f1-score   support\n",
            "\n",
            "           0       0.98      0.97      0.98       988\n",
            "           1       0.98      0.98      0.98      1012\n",
            "\n",
            "    accuracy                           0.98      2000\n",
            "   macro avg       0.98      0.98      0.98      2000\n",
            "weighted avg       0.98      0.98      0.98      2000\n",
            "\n",
            "\n",
            "ROC AUC Score: 0.9754904706277704\n",
            "\n",
            "Confusion Matrix:\n",
            "[[963  25]\n",
            " [ 24 988]]\n",
            "test accuracy = 97.55%\n"
          ]
        }
      ]
    },
    {
      "cell_type": "code",
      "source": [
        "thirty2_features = ['PctExtHyperlinks', 'InsecureForms', 'FrequentDomainNameMismatch', 'NumPercent',\n",
        "                 'PctExtResourceUrls','ExtFavicon', 'NumSensitiveWords', 'NoHttps', 'NumDots', 'MissingTitle',\n",
        "                    'SubmitInfoToEmail', 'PopUpWindow', 'DoubleSlashInPath', 'IpAddress', 'NumNumericChars',\n",
        "                   'PctExtNullSelfRedirectHyperlinksRT', 'SubdomainLevelRT', 'NumQueryComponents',\n",
        "                   'NumUnderscore', 'SubdomainLevel', 'DomainInSubdomains', 'NumAmpersand', 'AtSymbol',\n",
        "                    'ExtMetaScriptLinkRT', 'UrlLengthRT', 'IframeOrFrame', 'AbnormalFormAction', 'ExtFormAction',\n",
        "                   'PctExtResourceUrlsRT', 'PctNullSelfRedirectHyperlinks', 'EmbeddedBrandName', 'DomainInPaths']\n",
        "\n",
        "#label\n",
        "label_column = ['CLASS_LABEL']\n",
        "\n",
        "#fifteen features\n",
        "phishing_32_features_df = phish_df[thirty2_features]\n",
        "\n",
        "#label\n",
        "phishing_label_df = phish_df[label_column]\n",
        "\n",
        "#scale 5 features\n",
        "phishing_32_features_df[thirty2_features] = min_scaler.fit_transform(phishing_32_features_df[thirty2_features])\n",
        "\n",
        "#split data!\n",
        "x32_train, x32_test, y32_train, y32_test = train_test_split(phishing_32_features_df, phishing_label_df, test_size=0.2, random_state=42)\n",
        "\n",
        "#MLP (Multi-Layer Perceptron)\n",
        "mlp32_model = MLPClassifier(hidden_layer_sizes=(100,), max_iter=1000, random_state=42)\n",
        "mlp32_model.fit(x32_train, y32_train.values.ravel())\n",
        "mlp32_predictions = mlp32_model.predict(x32_test)\n",
        "\n",
        "print(\"\\nMLP Classification Report:\")\n",
        "print(classification_report(y32_test, mlp32_predictions))\n",
        "\n",
        "# Calculate ROC AUC score\n",
        "mlp32_roc_auc = roc_auc_score(y32_test, mlp32_predictions)\n",
        "print(\"\\nROC AUC Score:\", mlp32_roc_auc)\n",
        "\n",
        "# Print confusion matrix\n",
        "print(\"\\nConfusion Matrix:\")\n",
        "print(confusion_matrix(y32_test, mlp32_predictions))\n",
        "\n",
        "#model's prediction 15 features\n",
        "pred32 = mlp32_model.predict(x32_test)\n",
        "\n",
        "#test accuracy of our model // import in the beginning\n",
        "pred32_classes = np.round(pred32)\n",
        "accuracy32 = accuracy_score(y32_test,pred32_classes)\n",
        "accuracy32_perc = accuracy32 * 100\n",
        "print (f\"test accuracy = {accuracy32_perc:.2f}%\")"
      ],
      "metadata": {
        "colab": {
          "base_uri": "https://localhost:8080/"
        },
        "id": "iThQyoewQFmP",
        "outputId": "a2d82e7b-440d-4d15-d3db-23f4017f3abb"
      },
      "execution_count": 32,
      "outputs": [
        {
          "output_type": "stream",
          "name": "stderr",
          "text": [
            "<ipython-input-32-705c9bac4e4f>:19: SettingWithCopyWarning: \n",
            "A value is trying to be set on a copy of a slice from a DataFrame.\n",
            "Try using .loc[row_indexer,col_indexer] = value instead\n",
            "\n",
            "See the caveats in the documentation: https://pandas.pydata.org/pandas-docs/stable/user_guide/indexing.html#returning-a-view-versus-a-copy\n",
            "  phishing_32_features_df[thirty2_features] = min_scaler.fit_transform(phishing_32_features_df[thirty2_features])\n"
          ]
        },
        {
          "output_type": "stream",
          "name": "stdout",
          "text": [
            "\n",
            "MLP Classification Report:\n",
            "              precision    recall  f1-score   support\n",
            "\n",
            "           0       0.98      0.98      0.98       988\n",
            "           1       0.98      0.98      0.98      1012\n",
            "\n",
            "    accuracy                           0.98      2000\n",
            "   macro avg       0.98      0.98      0.98      2000\n",
            "weighted avg       0.98      0.98      0.98      2000\n",
            "\n",
            "\n",
            "ROC AUC Score: 0.9789729721079836\n",
            "\n",
            "Confusion Matrix:\n",
            "[[965  23]\n",
            " [ 19 993]]\n",
            "test accuracy = 97.90%\n"
          ]
        }
      ]
    },
    {
      "cell_type": "code",
      "source": [
        "thirty3_features = ['PctExtHyperlinks', 'InsecureForms', 'FrequentDomainNameMismatch', 'NumPercent',\n",
        "                 'PctExtResourceUrls','ExtFavicon', 'NumSensitiveWords', 'NoHttps', 'NumDots', 'MissingTitle',\n",
        "                    'SubmitInfoToEmail', 'PopUpWindow', 'DoubleSlashInPath', 'IpAddress', 'NumNumericChars',\n",
        "                   'PctExtNullSelfRedirectHyperlinksRT', 'SubdomainLevelRT', 'NumQueryComponents',\n",
        "                   'NumUnderscore', 'SubdomainLevel', 'DomainInSubdomains', 'NumAmpersand', 'AtSymbol',\n",
        "                    'ExtMetaScriptLinkRT', 'UrlLengthRT', 'IframeOrFrame', 'AbnormalFormAction', 'ExtFormAction',\n",
        "                   'PctExtResourceUrlsRT', 'PctNullSelfRedirectHyperlinks', 'EmbeddedBrandName', 'DomainInPaths',\n",
        "                    'AbnormalExtFormActionR']\n",
        "\n",
        "#label\n",
        "label_column = ['CLASS_LABEL']\n",
        "\n",
        "#fifteen features\n",
        "phishing_33_features_df = phish_df[thirty3_features]\n",
        "\n",
        "#label\n",
        "phishing_label_df = phish_df[label_column]\n",
        "\n",
        "#scale 5 features\n",
        "phishing_33_features_df[thirty3_features] = min_scaler.fit_transform(phishing_33_features_df[thirty3_features])\n",
        "\n",
        "#split data!\n",
        "x33_train, x33_test, y33_train, y33_test = train_test_split(phishing_33_features_df, phishing_label_df, test_size=0.2, random_state=42)\n",
        "\n",
        "#MLP (Multi-Layer Perceptron)\n",
        "mlp33_model = MLPClassifier(hidden_layer_sizes=(100,), max_iter=1000, random_state=42)\n",
        "mlp33_model.fit(x33_train, y33_train.values.ravel())\n",
        "mlp33_predictions = mlp33_model.predict(x33_test)\n",
        "\n",
        "print(\"\\nMLP Classification Report:\")\n",
        "print(classification_report(y33_test, mlp33_predictions))\n",
        "\n",
        "# Calculate ROC AUC score\n",
        "mlp33_roc_auc = roc_auc_score(y33_test, mlp33_predictions)\n",
        "print(\"\\nROC AUC Score:\", mlp33_roc_auc)\n",
        "\n",
        "# Print confusion matrix\n",
        "print(\"\\nConfusion Matrix:\")\n",
        "print(confusion_matrix(y33_test, mlp33_predictions))\n",
        "\n",
        "#model's prediction 15 features\n",
        "pred33 = mlp33_model.predict(x33_test)\n",
        "\n",
        "#test accuracy of our model // import in the beginning\n",
        "pred33_classes = np.round(pred33)\n",
        "accuracy33 = accuracy_score(y33_test,pred33_classes)\n",
        "accuracy33_perc = accuracy33 * 100\n",
        "print (f\"test accuracy = {accuracy33_perc:.2f}%\")"
      ],
      "metadata": {
        "colab": {
          "base_uri": "https://localhost:8080/"
        },
        "id": "4l48ZJ1jQF_t",
        "outputId": "5206599b-fcd5-4d19-c88b-d1c05a57e6f9"
      },
      "execution_count": 33,
      "outputs": [
        {
          "output_type": "stream",
          "name": "stderr",
          "text": [
            "<ipython-input-33-e74347c9fac8>:20: SettingWithCopyWarning: \n",
            "A value is trying to be set on a copy of a slice from a DataFrame.\n",
            "Try using .loc[row_indexer,col_indexer] = value instead\n",
            "\n",
            "See the caveats in the documentation: https://pandas.pydata.org/pandas-docs/stable/user_guide/indexing.html#returning-a-view-versus-a-copy\n",
            "  phishing_33_features_df[thirty3_features] = min_scaler.fit_transform(phishing_33_features_df[thirty3_features])\n"
          ]
        },
        {
          "output_type": "stream",
          "name": "stdout",
          "text": [
            "\n",
            "MLP Classification Report:\n",
            "              precision    recall  f1-score   support\n",
            "\n",
            "           0       0.99      0.97      0.98       988\n",
            "           1       0.97      0.99      0.98      1012\n",
            "\n",
            "    accuracy                           0.98      2000\n",
            "   macro avg       0.98      0.98      0.98      2000\n",
            "weighted avg       0.98      0.98      0.98      2000\n",
            "\n",
            "\n",
            "ROC AUC Score: 0.9794070346129843\n",
            "\n",
            "Confusion Matrix:\n",
            "[[960  28]\n",
            " [ 13 999]]\n",
            "test accuracy = 97.95%\n"
          ]
        }
      ]
    },
    {
      "cell_type": "markdown",
      "source": [
        "### **We found the maximum feature #'s!**"
      ],
      "metadata": {
        "id": "Usze8EKoUl6h"
      }
    },
    {
      "cell_type": "code",
      "source": [
        "# Modify the features list\n",
        "thirty4_features = ['PctExtHyperlinks', 'InsecureForms', 'FrequentDomainNameMismatch', 'NumPercent',\n",
        "                 'PctExtResourceUrls','ExtFavicon', 'NumSensitiveWords', 'NoHttps', 'NumDots', 'MissingTitle',\n",
        "                    'SubmitInfoToEmail', 'PopUpWindow', 'DoubleSlashInPath', 'IpAddress', 'NumNumericChars',\n",
        "                   'PctExtNullSelfRedirectHyperlinksRT', 'SubdomainLevelRT', 'NumQueryComponents',\n",
        "                   'NumUnderscore', 'SubdomainLevel', 'DomainInSubdomains', 'NumAmpersand', 'AtSymbol',\n",
        "                    'ExtMetaScriptLinkRT', 'UrlLengthRT', 'IframeOrFrame', 'AbnormalFormAction', 'ExtFormAction',\n",
        "                   'PctExtResourceUrlsRT', 'PctNullSelfRedirectHyperlinks', 'EmbeddedBrandName', 'DomainInPaths',\n",
        "                    'AbnormalExtFormActionR', 'ImagesOnlyInForm']\n",
        "\n",
        "# Label\n",
        "label_column = ['CLASS_LABEL']\n",
        "\n",
        "# Select 34 features\n",
        "phishing_34_features_df = phish_df[thirty4_features]\n",
        "\n",
        "# Label\n",
        "phishing_label_df = phish_df[label_column]\n",
        "\n",
        "# Scale 34 features\n",
        "phishing_34_features_df[thirty4_features] = min_scaler.fit_transform(phishing_34_features_df[thirty4_features])\n",
        "\n",
        "# Split data\n",
        "x34_train, x34_test, y34_train, y34_test = train_test_split(phishing_34_features_df, phishing_label_df, test_size=0.2, random_state=42)\n",
        "\n",
        "# MLP (Multi-Layer Perceptron)\n",
        "mlp34_model = MLPClassifier(hidden_layer_sizes=(100,), max_iter=1000, random_state=42)\n",
        "mlp34_model.fit(x34_train, y34_train.values.ravel())\n",
        "mlp34_predictions = mlp34_model.predict(x34_test)\n",
        "\n",
        "print(\"\\nMLP Classification Report:\")\n",
        "print(classification_report(y34_test, mlp34_predictions))\n",
        "\n",
        "# Calculate ROC AUC score\n",
        "mlp34_roc_auc = roc_auc_score(y34_test, mlp34_predictions)\n",
        "print(\"\\nROC AUC Score:\", mlp34_roc_auc)\n",
        "\n",
        "# Print confusion matrix\n",
        "print(\"\\nConfusion Matrix:\")\n",
        "print(confusion_matrix(y34_test, mlp34_predictions))\n",
        "\n",
        "# Model's prediction 34 features\n",
        "pred34 = mlp34_model.predict(x34_test)\n",
        "\n",
        "# Test accuracy of our model\n",
        "pred34_classes = np.round(pred34)\n",
        "accuracy34 = accuracy_score(y34_test,pred34_classes)\n",
        "accuracy34_perc = accuracy34 * 100\n",
        "print (f\"Test accuracy = {accuracy34_perc:.2f}%\")\n"
      ],
      "metadata": {
        "colab": {
          "base_uri": "https://localhost:8080/"
        },
        "id": "wej-FDPkUJbW",
        "outputId": "8be83bf1-6d91-4873-a01f-d54fc46ac358"
      },
      "execution_count": 34,
      "outputs": [
        {
          "output_type": "stream",
          "name": "stderr",
          "text": [
            "<ipython-input-34-dd989e3a4330>:21: SettingWithCopyWarning: \n",
            "A value is trying to be set on a copy of a slice from a DataFrame.\n",
            "Try using .loc[row_indexer,col_indexer] = value instead\n",
            "\n",
            "See the caveats in the documentation: https://pandas.pydata.org/pandas-docs/stable/user_guide/indexing.html#returning-a-view-versus-a-copy\n",
            "  phishing_34_features_df[thirty4_features] = min_scaler.fit_transform(phishing_34_features_df[thirty4_features])\n"
          ]
        },
        {
          "output_type": "stream",
          "name": "stdout",
          "text": [
            "\n",
            "MLP Classification Report:\n",
            "              precision    recall  f1-score   support\n",
            "\n",
            "           0       0.98      0.98      0.98       988\n",
            "           1       0.98      0.98      0.98      1012\n",
            "\n",
            "    accuracy                           0.98      2000\n",
            "   macro avg       0.98      0.98      0.98      2000\n",
            "weighted avg       0.98      0.98      0.98      2000\n",
            "\n",
            "\n",
            "ROC AUC Score: 0.9779968315437423\n",
            "\n",
            "Confusion Matrix:\n",
            "[[966  22]\n",
            " [ 22 990]]\n",
            "Test accuracy = 97.80%\n"
          ]
        }
      ]
    },
    {
      "cell_type": "code",
      "source": [
        "# Modify the features list\n",
        "thirty5_features = ['PctExtHyperlinks', 'InsecureForms', 'FrequentDomainNameMismatch', 'NumPercent',\n",
        "                 'PctExtResourceUrls','ExtFavicon', 'NumSensitiveWords', 'NoHttps', 'NumDots', 'MissingTitle',\n",
        "                    'SubmitInfoToEmail', 'PopUpWindow', 'DoubleSlashInPath', 'IpAddress', 'NumNumericChars',\n",
        "                   'PctExtNullSelfRedirectHyperlinksRT', 'SubdomainLevelRT', 'NumQueryComponents',\n",
        "                   'NumUnderscore', 'SubdomainLevel', 'DomainInSubdomains', 'NumAmpersand', 'AtSymbol',\n",
        "                    'ExtMetaScriptLinkRT', 'UrlLengthRT', 'IframeOrFrame', 'AbnormalFormAction', 'ExtFormAction',\n",
        "                   'PctExtResourceUrlsRT', 'PctNullSelfRedirectHyperlinks', 'EmbeddedBrandName', 'DomainInPaths',\n",
        "                    'AbnormalExtFormActionR', 'ImagesOnlyInForm', 'RightClickDisabled']\n",
        "\n",
        "# Label\n",
        "label_column = ['CLASS_LABEL']\n",
        "\n",
        "# Select 35 features\n",
        "phishing_35_features_df = phish_df[thirty5_features]\n",
        "\n",
        "# Label\n",
        "phishing_label_df = phish_df[label_column]\n",
        "\n",
        "# Scale 35 features\n",
        "phishing_35_features_df[thirty5_features] = min_scaler.fit_transform(phishing_35_features_df[thirty5_features])\n",
        "\n",
        "# Split data\n",
        "x35_train, x35_test, y35_train, y35_test = train_test_split(phishing_35_features_df, phishing_label_df, test_size=0.2, random_state=42)\n",
        "\n",
        "# MLP (Multi-Layer Perceptron)\n",
        "mlp35_model = MLPClassifier(hidden_layer_sizes=(100,), max_iter=1000, random_state=42)\n",
        "mlp35_model.fit(x35_train, y35_train.values.ravel())\n",
        "mlp35_predictions = mlp35_model.predict(x35_test)\n",
        "\n",
        "print(\"\\nMLP Classification Report:\")\n",
        "print(classification_report(y35_test, mlp35_predictions))\n",
        "\n",
        "# Calculate ROC AUC score\n",
        "mlp35_roc_auc = roc_auc_score(y35_test, mlp35_predictions)\n",
        "print(\"\\nROC AUC Score:\", mlp35_roc_auc)\n",
        "\n",
        "# Print confusion matrix\n",
        "print(\"\\nConfusion Matrix:\")\n",
        "print(confusion_matrix(y35_test, mlp35_predictions))\n",
        "\n",
        "# Model's prediction 35 features\n",
        "pred35 = mlp35_model.predict(x35_test)\n",
        "\n",
        "# Test accuracy of our model\n",
        "pred35_classes = np.round(pred35)\n",
        "accuracy35 = accuracy_score(y35_test,pred35_classes)\n",
        "accuracy35_perc = accuracy35 * 100\n",
        "print (f\"Test accuracy = {accuracy35_perc:.2f}%\")\n"
      ],
      "metadata": {
        "colab": {
          "base_uri": "https://localhost:8080/"
        },
        "id": "MqdNMFD8URxw",
        "outputId": "d754f8c6-7856-4d38-99dc-737e4032a17f"
      },
      "execution_count": 35,
      "outputs": [
        {
          "output_type": "stream",
          "name": "stderr",
          "text": [
            "<ipython-input-35-5971bd171f6e>:21: SettingWithCopyWarning: \n",
            "A value is trying to be set on a copy of a slice from a DataFrame.\n",
            "Try using .loc[row_indexer,col_indexer] = value instead\n",
            "\n",
            "See the caveats in the documentation: https://pandas.pydata.org/pandas-docs/stable/user_guide/indexing.html#returning-a-view-versus-a-copy\n",
            "  phishing_35_features_df[thirty5_features] = min_scaler.fit_transform(phishing_35_features_df[thirty5_features])\n"
          ]
        },
        {
          "output_type": "stream",
          "name": "stdout",
          "text": [
            "\n",
            "MLP Classification Report:\n",
            "              precision    recall  f1-score   support\n",
            "\n",
            "           0       0.97      0.97      0.97       988\n",
            "           1       0.97      0.98      0.97      1012\n",
            "\n",
            "    accuracy                           0.97      2000\n",
            "   macro avg       0.97      0.97      0.97      2000\n",
            "weighted avg       0.97      0.97      0.97      2000\n",
            "\n",
            "\n",
            "ROC AUC Score: 0.9744903266070315\n",
            "\n",
            "Confusion Matrix:\n",
            "[[962  26]\n",
            " [ 25 987]]\n",
            "Test accuracy = 97.45%\n"
          ]
        }
      ]
    },
    {
      "cell_type": "markdown",
      "source": [
        "### **Save best model**\n",
        "\n",
        "- https://colab.research.google.com/drive/1X7W1qUBPVwXzZTaz8xJL4VKzrAVJ0-uU\n",
        "\n",
        "- https://colab.research.google.com/drive/1HEM_HHScnqNRSyct544CcCob-0YraXEN#scrollTo=xrGmJi47GNAs\n",
        "\n"
      ],
      "metadata": {
        "id": "LHurNkrHY-O_"
      }
    },
    {
      "cell_type": "code",
      "source": [
        "# Storing the model\n",
        "import pickle\n",
        "\n",
        "file_to_write = open(\"phishing_model.saved\",\"wb\")\n",
        "pickle.dump(mlp33_model,file_to_write)\n",
        "file_to_write.close()\n",
        "\n",
        "# Let's also store our test data which we may need to use later\n",
        "file_to_write = open(\"test_data.dat\",\"wb\")\n",
        "pickle.dump([x33_test,y33_test],file_to_write)\n",
        "file_to_write.close()"
      ],
      "metadata": {
        "id": "xQjcBeD5ZA-T"
      },
      "execution_count": 36,
      "outputs": []
    },
    {
      "cell_type": "markdown",
      "source": [
        "**load best model & test**"
      ],
      "metadata": {
        "id": "gv6auwY5ZblZ"
      }
    },
    {
      "cell_type": "code",
      "source": [
        "import pickle\n",
        "from sklearn.metrics import accuracy_score\n",
        "from sklearn.linear_model import LogisticRegression\n",
        "\n",
        "model_file = open(\"phishing_model.saved\",\"rb\")\n",
        "model = pickle.load(model_file)\n",
        "model_file.close()\n",
        "\n",
        "test_data_file = open(\"test_data.dat\",\"rb\")\n",
        "x33_test,y33_test = pickle.load(test_data_file)\n",
        "test_data_file.close()\n",
        "\n",
        "# Test accuracy on our test dataset\n",
        "y33_pred_test = model.predict(x33_test)\n",
        "\n",
        "# Compute accuracy on test data\n",
        "accuracy = accuracy_score(y33_pred_test, y33_test)\n",
        "\n",
        "# Print accuracy on the test data\n",
        "\n",
        "print (f\"Accuracy on test data {accuracy}\")"
      ],
      "metadata": {
        "colab": {
          "base_uri": "https://localhost:8080/"
        },
        "id": "gXl9XMn7Zd4q",
        "outputId": "b51453db-7ed6-4225-d8f6-59956d3a2a85"
      },
      "execution_count": 38,
      "outputs": [
        {
          "output_type": "stream",
          "name": "stdout",
          "text": [
            "Accuracy on test data 0.9795\n"
          ]
        }
      ]
    }
  ]
}