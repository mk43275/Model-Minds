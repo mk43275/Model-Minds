{
  "nbformat": 4,
  "nbformat_minor": 0,
  "metadata": {
    "colab": {
      "provenance": []
    },
    "kernelspec": {
      "name": "python3",
      "display_name": "Python 3"
    },
    "language_info": {
      "name": "python"
    }
  },
  "cells": [
    {
      "cell_type": "markdown",
      "source": [
        "# **Phish in the Web**\n",
        "\n",
        "### **Random Forest Testing**\n",
        "\n",
        "Preprocess the data"
      ],
      "metadata": {
        "id": "MMUmL24UXXeU"
      }
    },
    {
      "cell_type": "code",
      "execution_count": null,
      "metadata": {
        "id": "dFnUJxd9XUic"
      },
      "outputs": [],
      "source": [
        "#import libraries only ONCE\n",
        "import pandas as pd\n",
        "from sklearn.preprocessing import MinMaxScaler #no one hot // all columns numeric\n",
        "from sklearn.model_selection import train_test_split #data splitting"
      ]
    },
    {
      "cell_type": "code",
      "source": [
        "#read in data & check for shape\n",
        "phish_df = pd.read_csv(\"Phishing_Legitimate_full.csv\")\n",
        "phish_df.shape"
      ],
      "metadata": {
        "colab": {
          "base_uri": "https://localhost:8080/"
        },
        "id": "zPCNc9VlXaRz",
        "outputId": "48865ffb-1388-4c17-af25-d99120ecd8e4"
      },
      "execution_count": null,
      "outputs": [
        {
          "output_type": "execute_result",
          "data": {
            "text/plain": [
              "(10000, 50)"
            ]
          },
          "metadata": {},
          "execution_count": 53
        }
      ]
    },
    {
      "cell_type": "code",
      "source": [
        "#specifying the columns we want to keep\n",
        "selected_columns = ['NumDots', 'SubdomainLevel', 'PathLevel', 'UrlLength', 'NumDash',\n",
        "    'NumDashInHostname', 'AtSymbol','TildeSymbol', 'NumUnderscore','NumPercent',\n",
        "    'NumQueryComponents','NumAmpersand','NumHash','NumNumericChars','NoHttps',\n",
        "    'RandomString','IpAddress','DomainInSubdomains','DomainInPaths','HttpsInHostname','HostnameLength',\n",
        "    'PathLength','QueryLength','DoubleSlashInPath','NumSensitiveWords','EmbeddedBrandName',\n",
        "    'PctExtHyperlinks','PctExtResourceUrls','ExtFavicon','InsecureForms','RelativeFormAction',\n",
        "    'ExtFormAction','AbnormalFormAction','PctNullSelfRedirectHyperlinks','FrequentDomainNameMismatch',\n",
        "    'FakeLinkInStatusBar','RightClickDisabled','PopUpWindow','SubmitInfoToEmail','IframeOrFrame',\n",
        "    'MissingTitle','ImagesOnlyInForm','SubdomainLevelRT','UrlLengthRT','PctExtResourceUrlsRT',\n",
        "    'AbnormalExtFormActionR','ExtMetaScriptLinkRT','PctExtNullSelfRedirectHyperlinksRT', 'CLASS_LABEL']\n",
        "\n",
        "#split the features into 5 - 10 - 13 - 14 - 15 - 16\n",
        "five_features = ['PctExtNullSelfRedirectHyperlinksRT','PctExtHyperlinks', 'PctExtResourceUrls',\n",
        "                 'FrequentDomainNameMismatch', 'PctNullSelfRedirectHyperlinks']\n",
        "\n",
        "ten_features = ['PctExtNullSelfRedirectHyperlinksRT','PctExtHyperlinks', 'PctExtResourceUrls',\n",
        "                 'FrequentDomainNameMismatch', 'PctNullSelfRedirectHyperlinks', 'NumDash',\n",
        "                'ExtMetaScriptLinkRT', 'InsecureForms', 'NumNumericChars', 'PathLevel']\n",
        "\n",
        "eleven_features = ['PctExtNullSelfRedirectHyperlinksRT','PctExtHyperlinks', 'PctExtResourceUrls',\n",
        "                 'FrequentDomainNameMismatch', 'PctNullSelfRedirectHyperlinks', 'NumDash',\n",
        "                'ExtMetaScriptLinkRT', 'InsecureForms', 'NumNumericChars', 'PathLevel', 'NumDots']\n",
        "\n",
        "twelve_features = ['PctExtNullSelfRedirectHyperlinksRT','PctExtHyperlinks', 'PctExtResourceUrls',\n",
        "                 'FrequentDomainNameMismatch', 'PctNullSelfRedirectHyperlinks', 'NumDash',\n",
        "                'ExtMetaScriptLinkRT', 'InsecureForms', 'NumNumericChars', 'PathLevel', 'NumDots',\n",
        "                'SubmitInfoToEmail']\n",
        "\n",
        "thirteen_features = ['PctExtNullSelfRedirectHyperlinksRT','PctExtHyperlinks', 'PctExtResourceUrls',\n",
        "                 'FrequentDomainNameMismatch', 'PctNullSelfRedirectHyperlinks', 'NumDash',\n",
        "                'ExtMetaScriptLinkRT', 'InsecureForms', 'NumNumericChars', 'PathLevel', 'NumDots',\n",
        "                'SubmitInfoToEmail', 'NumQueryComponents']\n",
        "\n",
        "fourteen_features = ['PctExtNullSelfRedirectHyperlinksRT','PctExtHyperlinks', 'PctExtResourceUrls',\n",
        "                 'FrequentDomainNameMismatch', 'PctNullSelfRedirectHyperlinks', 'NumDash',\n",
        "                'ExtMetaScriptLinkRT', 'InsecureForms', 'NumNumericChars', 'PathLevel', 'NumDots',\n",
        "                'SubmitInfoToEmail', 'NumQueryComponents', 'PathLength']\n",
        "\n",
        "fifteen_features = ['PctExtNullSelfRedirectHyperlinksRT','PctExtHyperlinks', 'PctExtResourceUrls',\n",
        "                 'FrequentDomainNameMismatch', 'PctNullSelfRedirectHyperlinks', 'NumDash',\n",
        "                'ExtMetaScriptLinkRT', 'InsecureForms', 'NumNumericChars', 'PathLevel', 'NumDots',\n",
        "                'SubmitInfoToEmail', 'NumQueryComponents', 'PathLength', 'UrlLength']\n",
        "\n",
        "#label\n",
        "label_column = ['CLASS_LABEL']"
      ],
      "metadata": {
        "id": "vFq7qz6QXbWI"
      },
      "execution_count": null,
      "outputs": []
    },
    {
      "cell_type": "code",
      "source": [
        "#five features\n",
        "phishing_features_five_df = phish_df[five_features]\n",
        "\n",
        "#ten features\n",
        "phishing_features_ten_df = phish_df[ten_features]\n",
        "\n",
        "#eleven features\n",
        "phishing_features_eleven_df = phish_df[eleven_features]\n",
        "\n",
        "#twelve features\n",
        "phishing_features_twelve_df = phish_df[twelve_features]\n",
        "\n",
        "#thirteen features\n",
        "phishing_features_thirteen_df = phish_df[thirteen_features]\n",
        "\n",
        "#fourteen features\n",
        "phishing_features_fourteen_df = phish_df[fourteen_features]\n",
        "\n",
        "#fourteen features\n",
        "phishing_features_fifteen_df = phish_df[fifteen_features]\n",
        "\n",
        "#label df\n",
        "phishing_label_df = phish_df[label_column]"
      ],
      "metadata": {
        "id": "04wT9j2jXelj"
      },
      "execution_count": null,
      "outputs": []
    },
    {
      "cell_type": "code",
      "source": [
        "#initiate scaler\n",
        "min_scaler = MinMaxScaler()\n",
        "\n",
        "######## SCALE #########\n",
        "#scale five features\n",
        "phishing_features_five_df[five_features] = min_scaler.fit_transform(phishing_features_five_df[five_features])\n",
        "\n",
        "#scale ten features\n",
        "phishing_features_ten_df[ten_features] = min_scaler.fit_transform(phishing_features_ten_df[ten_features])\n",
        "\n",
        "#scale eleven features\n",
        "phishing_features_eleven_df[eleven_features] = min_scaler.fit_transform(phishing_features_eleven_df[eleven_features])\n",
        "\n",
        "#scale twelve features\n",
        "phishing_features_twelve_df[twelve_features] = min_scaler.fit_transform(phishing_features_twelve_df[twelve_features])\n",
        "\n",
        "#scale thirteen features\n",
        "phishing_features_thirteen_df[thirteen_features] = min_scaler.fit_transform(phishing_features_thirteen_df[thirteen_features])\n",
        "\n",
        "#scale fourteen features\n",
        "phishing_features_fourteen_df[fourteen_features] = min_scaler.fit_transform(phishing_features_fourteen_df[fourteen_features])\n",
        "\n",
        "#scale fifteen features\n",
        "phishing_features_fifteen_df[fifteen_features] = min_scaler.fit_transform(phishing_features_fifteen_df[fifteen_features])\n"
      ],
      "metadata": {
        "colab": {
          "base_uri": "https://localhost:8080/"
        },
        "id": "iUReI97_XgrF",
        "outputId": "eddb0944-03a4-4102-c91f-915e37ae633e"
      },
      "execution_count": null,
      "outputs": [
        {
          "output_type": "stream",
          "name": "stderr",
          "text": [
            "<ipython-input-56-2bf132fbba96>:6: SettingWithCopyWarning: \n",
            "A value is trying to be set on a copy of a slice from a DataFrame.\n",
            "Try using .loc[row_indexer,col_indexer] = value instead\n",
            "\n",
            "See the caveats in the documentation: https://pandas.pydata.org/pandas-docs/stable/user_guide/indexing.html#returning-a-view-versus-a-copy\n",
            "  phishing_features_five_df[five_features] = min_scaler.fit_transform(phishing_features_five_df[five_features])\n",
            "<ipython-input-56-2bf132fbba96>:9: SettingWithCopyWarning: \n",
            "A value is trying to be set on a copy of a slice from a DataFrame.\n",
            "Try using .loc[row_indexer,col_indexer] = value instead\n",
            "\n",
            "See the caveats in the documentation: https://pandas.pydata.org/pandas-docs/stable/user_guide/indexing.html#returning-a-view-versus-a-copy\n",
            "  phishing_features_ten_df[ten_features] = min_scaler.fit_transform(phishing_features_ten_df[ten_features])\n",
            "<ipython-input-56-2bf132fbba96>:12: SettingWithCopyWarning: \n",
            "A value is trying to be set on a copy of a slice from a DataFrame.\n",
            "Try using .loc[row_indexer,col_indexer] = value instead\n",
            "\n",
            "See the caveats in the documentation: https://pandas.pydata.org/pandas-docs/stable/user_guide/indexing.html#returning-a-view-versus-a-copy\n",
            "  phishing_features_eleven_df[eleven_features] = min_scaler.fit_transform(phishing_features_eleven_df[eleven_features])\n",
            "<ipython-input-56-2bf132fbba96>:15: SettingWithCopyWarning: \n",
            "A value is trying to be set on a copy of a slice from a DataFrame.\n",
            "Try using .loc[row_indexer,col_indexer] = value instead\n",
            "\n",
            "See the caveats in the documentation: https://pandas.pydata.org/pandas-docs/stable/user_guide/indexing.html#returning-a-view-versus-a-copy\n",
            "  phishing_features_twelve_df[twelve_features] = min_scaler.fit_transform(phishing_features_twelve_df[twelve_features])\n",
            "<ipython-input-56-2bf132fbba96>:18: SettingWithCopyWarning: \n",
            "A value is trying to be set on a copy of a slice from a DataFrame.\n",
            "Try using .loc[row_indexer,col_indexer] = value instead\n",
            "\n",
            "See the caveats in the documentation: https://pandas.pydata.org/pandas-docs/stable/user_guide/indexing.html#returning-a-view-versus-a-copy\n",
            "  phishing_features_thirteen_df[thirteen_features] = min_scaler.fit_transform(phishing_features_thirteen_df[thirteen_features])\n",
            "<ipython-input-56-2bf132fbba96>:21: SettingWithCopyWarning: \n",
            "A value is trying to be set on a copy of a slice from a DataFrame.\n",
            "Try using .loc[row_indexer,col_indexer] = value instead\n",
            "\n",
            "See the caveats in the documentation: https://pandas.pydata.org/pandas-docs/stable/user_guide/indexing.html#returning-a-view-versus-a-copy\n",
            "  phishing_features_fourteen_df[fourteen_features] = min_scaler.fit_transform(phishing_features_fourteen_df[fourteen_features])\n",
            "<ipython-input-56-2bf132fbba96>:24: SettingWithCopyWarning: \n",
            "A value is trying to be set on a copy of a slice from a DataFrame.\n",
            "Try using .loc[row_indexer,col_indexer] = value instead\n",
            "\n",
            "See the caveats in the documentation: https://pandas.pydata.org/pandas-docs/stable/user_guide/indexing.html#returning-a-view-versus-a-copy\n",
            "  phishing_features_fifteen_df[fifteen_features] = min_scaler.fit_transform(phishing_features_fifteen_df[fifteen_features])\n"
          ]
        }
      ]
    },
    {
      "cell_type": "code",
      "source": [
        "#split data - 5 features\n",
        "x5_train, x5_temp, y5_train, y5_temp = train_test_split(phishing_features_five_df, phishing_label_df, test_size=0.3, random_state=42)\n",
        "x5_val, x5_test, y5_val, y5_test = train_test_split(x5_temp, y5_temp, test_size=0.67, random_state=42)\n",
        "\n",
        "#split data - 10 features\n",
        "x10_train, x10_temp, y10_train, y10_temp = train_test_split(phishing_features_ten_df, phishing_label_df, test_size=0.3, random_state=42)\n",
        "x10_val, x10_test, y10_val, y10_test = train_test_split(x10_temp, y10_temp, test_size=0.67, random_state=42)\n",
        "\n",
        "#split data - 11 features\n",
        "x11_train, x11_temp, y11_train, y11_temp = train_test_split(phishing_features_eleven_df, phishing_label_df, test_size=0.3, random_state=42)\n",
        "x11_val, x11_test, y11_val, y11_test = train_test_split(x11_temp, y11_temp, test_size=0.67, random_state=42)\n",
        "\n",
        "#split data - 12 features\n",
        "x12_train, x12_temp, y12_train, y12_temp = train_test_split(phishing_features_twelve_df, phishing_label_df, test_size=0.3, random_state=42)\n",
        "x12_val, x12_test, y12_val, y12_test = train_test_split(x12_temp, y12_temp, test_size=0.67, random_state=42)\n",
        "\n",
        "#split data - 13 features\n",
        "x13_train, x13_temp, y13_train, y13_temp = train_test_split(phishing_features_thirteen_df, phishing_label_df, test_size=0.3, random_state=42)\n",
        "x13_val, x13_test, y13_val, y13_test = train_test_split(x13_temp, y13_temp, test_size=0.67, random_state=42)\n",
        "\n",
        "#split data - 14 features\n",
        "x14_train, x14_temp, y14_train, y14_temp = train_test_split(phishing_features_fourteen_df, phishing_label_df, test_size=0.3, random_state=42)\n",
        "x14_val, x14_test, y14_val, y14_test = train_test_split(x14_temp, y14_temp, test_size=0.67, random_state=42)\n",
        "\n",
        "#split data - 15 features\n",
        "x15_train, x15_temp, y15_train, y15_temp = train_test_split(phishing_features_fifteen_df, phishing_label_df, test_size=0.3, random_state=42)\n",
        "x15_val, x15_test, y15_val, y15_test = train_test_split(x15_temp, y15_temp, test_size=0.67, random_state=42)\n"
      ],
      "metadata": {
        "id": "doVLWbSxXsBb"
      },
      "execution_count": null,
      "outputs": []
    },
    {
      "cell_type": "code",
      "source": [
        "from sklearn.ensemble import RandomForestClassifier\n",
        "from sklearn.metrics import classification_report\n",
        "from sklearn.metrics import roc_auc_score, confusion_matrix\n",
        "\n",
        "def print_evaluation_metrics(y_true, y_pred):\n",
        "    print(\"ROC AUC Score:\", roc_auc_score(y_true, y_pred))\n",
        "    print(\"Confusion Matrix:\\n\", confusion_matrix(y_true, y_pred))"
      ],
      "metadata": {
        "id": "eZo4akQ6X0H0"
      },
      "execution_count": null,
      "outputs": []
    },
    {
      "cell_type": "code",
      "source": [
        "#Random Forest - 5 features\n",
        "rf5_model = RandomForestClassifier(n_estimators=100, random_state=42)\n",
        "rf5_model.fit(x5_train, y5_train.values.ravel())\n",
        "rf5_predictions = rf5_model.predict(x5_test)\n",
        "\n",
        "print(\"\\nRandom Forest Classification Report:\")\n",
        "print(classification_report(y5_test, rf5_predictions))"
      ],
      "metadata": {
        "colab": {
          "base_uri": "https://localhost:8080/"
        },
        "id": "fN7RL_mKX0Vb",
        "outputId": "378c0bbb-9f83-4c39-e9f0-f8aef03e31dd"
      },
      "execution_count": null,
      "outputs": [
        {
          "output_type": "stream",
          "name": "stdout",
          "text": [
            "\n",
            "Random Forest Classification Report:\n",
            "              precision    recall  f1-score   support\n",
            "\n",
            "           0       0.98      0.94      0.96       996\n",
            "           1       0.95      0.98      0.96      1015\n",
            "\n",
            "    accuracy                           0.96      2011\n",
            "   macro avg       0.96      0.96      0.96      2011\n",
            "weighted avg       0.96      0.96      0.96      2011\n",
            "\n"
          ]
        }
      ]
    },
    {
      "cell_type": "code",
      "source": [
        "#Random Forest - 10 features\n",
        "rf10_model = RandomForestClassifier(n_estimators=100, random_state=42)\n",
        "rf10_model.fit(x10_train, y10_train.values.ravel())\n",
        "rf10_predictions = rf10_model.predict(x10_test)\n",
        "\n",
        "print(\"\\nRandom Forest Classification Report:\")\n",
        "print(classification_report(y10_test, rf10_predictions))"
      ],
      "metadata": {
        "colab": {
          "base_uri": "https://localhost:8080/"
        },
        "id": "jqSOEsBVX1Ni",
        "outputId": "98be56d7-e1b5-4d7b-9947-dbea9f7e699c"
      },
      "execution_count": null,
      "outputs": [
        {
          "output_type": "stream",
          "name": "stdout",
          "text": [
            "\n",
            "Random Forest Classification Report:\n",
            "              precision    recall  f1-score   support\n",
            "\n",
            "           0       0.97      0.97      0.97       996\n",
            "           1       0.97      0.97      0.97      1015\n",
            "\n",
            "    accuracy                           0.97      2011\n",
            "   macro avg       0.97      0.97      0.97      2011\n",
            "weighted avg       0.97      0.97      0.97      2011\n",
            "\n"
          ]
        }
      ]
    },
    {
      "cell_type": "code",
      "source": [
        "#Random Forest - 11 features\n",
        "rf11_model = RandomForestClassifier(n_estimators=100, random_state=42)\n",
        "rf11_model.fit(x11_train, y11_train.values.ravel())\n",
        "rf11_predictions = rf11_model.predict(x11_test)\n",
        "\n",
        "print(\"\\nRandom Forest Classification Report:\")\n",
        "print(classification_report(y11_test, rf11_predictions))"
      ],
      "metadata": {
        "colab": {
          "base_uri": "https://localhost:8080/"
        },
        "id": "KBXMF-wUX2TA",
        "outputId": "34094809-c177-44d3-e3ae-dbbe4d62def6"
      },
      "execution_count": null,
      "outputs": [
        {
          "output_type": "stream",
          "name": "stdout",
          "text": [
            "\n",
            "Random Forest Classification Report:\n",
            "              precision    recall  f1-score   support\n",
            "\n",
            "           0       0.97      0.97      0.97       996\n",
            "           1       0.98      0.97      0.97      1015\n",
            "\n",
            "    accuracy                           0.97      2011\n",
            "   macro avg       0.97      0.97      0.97      2011\n",
            "weighted avg       0.97      0.97      0.97      2011\n",
            "\n"
          ]
        }
      ]
    },
    {
      "cell_type": "code",
      "source": [
        "#Random Forest - 12 features\n",
        "rf12_model = RandomForestClassifier(n_estimators=100, random_state=42)\n",
        "rf12_model.fit(x12_train, y12_train.values.ravel())\n",
        "rf12_predictions = rf12_model.predict(x12_test)\n",
        "\n",
        "print(\"\\nRandom Forest Classification Report:\")\n",
        "print(classification_report(y12_test, rf12_predictions))"
      ],
      "metadata": {
        "colab": {
          "base_uri": "https://localhost:8080/"
        },
        "id": "b5QEXAW7X3V-",
        "outputId": "d9412402-5623-446b-b253-55ed01218f93"
      },
      "execution_count": null,
      "outputs": [
        {
          "output_type": "stream",
          "name": "stdout",
          "text": [
            "\n",
            "Random Forest Classification Report:\n",
            "              precision    recall  f1-score   support\n",
            "\n",
            "           0       0.97      0.97      0.97       996\n",
            "           1       0.98      0.97      0.97      1015\n",
            "\n",
            "    accuracy                           0.97      2011\n",
            "   macro avg       0.97      0.97      0.97      2011\n",
            "weighted avg       0.97      0.97      0.97      2011\n",
            "\n"
          ]
        }
      ]
    },
    {
      "cell_type": "code",
      "source": [
        "#Random Forest - 13 features\n",
        "rf13_model = RandomForestClassifier(n_estimators=100, random_state=42)\n",
        "rf13_model.fit(x13_train, y13_train.values.ravel())\n",
        "rf13_predictions = rf13_model.predict(x13_test)\n",
        "\n",
        "print(\"\\nRandom Forest Classification Report:\")\n",
        "print(classification_report(y13_test, rf13_predictions))"
      ],
      "metadata": {
        "colab": {
          "base_uri": "https://localhost:8080/"
        },
        "id": "-moUMBlVX4g4",
        "outputId": "ef1fcc72-ab32-4060-8c16-bcb9fc5183f9"
      },
      "execution_count": null,
      "outputs": [
        {
          "output_type": "stream",
          "name": "stdout",
          "text": [
            "\n",
            "Random Forest Classification Report:\n",
            "              precision    recall  f1-score   support\n",
            "\n",
            "           0       0.97      0.98      0.98       996\n",
            "           1       0.98      0.97      0.98      1015\n",
            "\n",
            "    accuracy                           0.98      2011\n",
            "   macro avg       0.98      0.98      0.98      2011\n",
            "weighted avg       0.98      0.98      0.98      2011\n",
            "\n"
          ]
        }
      ]
    },
    {
      "cell_type": "code",
      "source": [
        "#Random Forest - 14 features\n",
        "rf14_model = RandomForestClassifier(n_estimators=100, random_state=42)\n",
        "rf14_model.fit(x14_train, y14_train.values.ravel())\n",
        "rf14_predictions = rf14_model.predict(x14_test)\n",
        "\n",
        "print(\"\\nRandom Forest Classification Report:\")\n",
        "print(classification_report(y14_test, rf14_predictions))"
      ],
      "metadata": {
        "colab": {
          "base_uri": "https://localhost:8080/"
        },
        "id": "xL9k3tR4ZBG9",
        "outputId": "3e31b5e1-a496-44f9-b82f-27911a34e973"
      },
      "execution_count": null,
      "outputs": [
        {
          "output_type": "stream",
          "name": "stdout",
          "text": [
            "\n",
            "Random Forest Classification Report:\n",
            "              precision    recall  f1-score   support\n",
            "\n",
            "           0       0.97      0.98      0.98       996\n",
            "           1       0.98      0.98      0.98      1015\n",
            "\n",
            "    accuracy                           0.98      2011\n",
            "   macro avg       0.98      0.98      0.98      2011\n",
            "weighted avg       0.98      0.98      0.98      2011\n",
            "\n"
          ]
        }
      ]
    },
    {
      "cell_type": "code",
      "source": [
        "# Random Forest - 15 features\n",
        "rf15_model = RandomForestClassifier(n_estimators=100, random_state=42)\n",
        "rf15_model.fit(x15_train, y15_train.values.ravel())\n",
        "rf15_predictions = rf15_model.predict(x15_test)\n",
        "\n",
        "print(\"\\nRandom Forest Classification Report:\")\n",
        "print(classification_report(y15_test, rf15_predictions))"
      ],
      "metadata": {
        "colab": {
          "base_uri": "https://localhost:8080/"
        },
        "id": "WoXFHrfzZd-W",
        "outputId": "79216119-c2c0-4601-f37b-7b59de8ba1ec"
      },
      "execution_count": null,
      "outputs": [
        {
          "output_type": "stream",
          "name": "stdout",
          "text": [
            "\n",
            "Random Forest Classification Report:\n",
            "              precision    recall  f1-score   support\n",
            "\n",
            "           0       0.98      0.97      0.98       996\n",
            "           1       0.98      0.98      0.98      1015\n",
            "\n",
            "    accuracy                           0.98      2011\n",
            "   macro avg       0.98      0.98      0.98      2011\n",
            "weighted avg       0.98      0.98      0.98      2011\n",
            "\n"
          ]
        }
      ]
    },
    {
      "cell_type": "markdown",
      "source": [
        "we chose 13 features as our most optimal # of features, as that is when the odel reaches 98% overall accuracy."
      ],
      "metadata": {
        "id": "8DH1IJOYaAoy"
      }
    },
    {
      "cell_type": "code",
      "source": [
        "#Random Forest model predictions on validation data\n",
        "rf_val_predictions = rf13_model.predict(x13_val)\n",
        "\n",
        "#print classification report on validation data for Random Forest\n",
        "print(\"Random Forest Validation Classification Report:\")\n",
        "print(classification_report(y13_val, rf_val_predictions))\n",
        "\n",
        "#print evaluation metrics for Random Forest on validation data\n",
        "print(\"\\nRandom Forest Validation Evaluation Metrics:\")\n",
        "print_evaluation_metrics(y13_val, rf_val_predictions)"
      ],
      "metadata": {
        "colab": {
          "base_uri": "https://localhost:8080/"
        },
        "id": "5plgS748Z_P_",
        "outputId": "d843f181-6472-4235-b887-dc0e60cbf6bd"
      },
      "execution_count": null,
      "outputs": [
        {
          "output_type": "stream",
          "name": "stdout",
          "text": [
            "Random Forest Validation Classification Report:\n",
            "              precision    recall  f1-score   support\n",
            "\n",
            "           0       0.98      0.97      0.98       467\n",
            "           1       0.98      0.98      0.98       522\n",
            "\n",
            "    accuracy                           0.98       989\n",
            "   macro avg       0.98      0.98      0.98       989\n",
            "weighted avg       0.98      0.98      0.98       989\n",
            "\n",
            "\n",
            "Random Forest Validation Evaluation Metrics:\n",
            "ROC AUC Score: 0.9775734901999392\n",
            "Confusion Matrix:\n",
            " [[455  12]\n",
            " [ 10 512]]\n"
          ]
        }
      ]
    }
  ]
}