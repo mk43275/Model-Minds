{
  "nbformat": 4,
  "nbformat_minor": 0,
  "metadata": {
    "colab": {
      "provenance": []
    },
    "kernelspec": {
      "name": "python3",
      "display_name": "Python 3"
    },
    "language_info": {
      "name": "python"
    }
  },
  "cells": [
    {
      "cell_type": "markdown",
      "source": [
        "# **Phish in the Web**\n",
        "\n",
        "### **Model Testing**\n",
        "\n",
        "**Data Preprocessing**"
      ],
      "metadata": {
        "id": "6yosfERSxz7x"
      }
    },
    {
      "cell_type": "code",
      "execution_count": 1,
      "metadata": {
        "colab": {
          "base_uri": "https://localhost:8080/"
        },
        "id": "yKgE6YezxiEI",
        "outputId": "0a0800f6-b527-466d-a1ea-3070cc283777"
      },
      "outputs": [
        {
          "output_type": "stream",
          "name": "stdout",
          "text": [
            "Training: Features' shape [no. of examples * feature vector size] =  (8000, 48)\n",
            "Training: Label's shape [no. of examples * 1] = (8000, 1)\n",
            "\n",
            "Test: Features' shape [no. of examples * feature vector size] =  (2000, 48)\n",
            "Test: Label's shape [no. of examples * 1] = (2000, 1)\n",
            "\n"
          ]
        },
        {
          "output_type": "stream",
          "name": "stderr",
          "text": [
            "<ipython-input-1-bad53a89a23a>:39: SettingWithCopyWarning: \n",
            "A value is trying to be set on a copy of a slice from a DataFrame.\n",
            "Try using .loc[row_indexer,col_indexer] = value instead\n",
            "\n",
            "See the caveats in the documentation: https://pandas.pydata.org/pandas-docs/stable/user_guide/indexing.html#returning-a-view-versus-a-copy\n",
            "  phishing_features_df[feature_columns] = min_scaler.fit_transform(phishing_features_df[feature_columns])\n"
          ]
        }
      ],
      "source": [
        "#import libraries only ONCE\n",
        "import pandas as pd\n",
        "from sklearn.preprocessing import MinMaxScaler #no one hot // all columns numeric\n",
        "from sklearn.model_selection import train_test_split #data splitting\n",
        "\n",
        "\n",
        "#read in data & check for shape\n",
        "phish_df = pd.read_csv(\"Phishing_Legitimate_full.csv\")\n",
        "phish_df.shape\n",
        "\n",
        "#specifying the columns we want to keep\n",
        "selected_columns = ['NumDots', 'SubdomainLevel', 'PathLevel', 'UrlLength', 'NumDash',\n",
        "    'NumDashInHostname', 'AtSymbol','TildeSymbol', 'NumUnderscore','NumPercent',\n",
        "    'NumQueryComponents','NumAmpersand','NumHash','NumNumericChars','NoHttps',\n",
        "    'RandomString','IpAddress','DomainInSubdomains','DomainInPaths','HttpsInHostname','HostnameLength',\n",
        "    'PathLength','QueryLength','DoubleSlashInPath','NumSensitiveWords','EmbeddedBrandName',\n",
        "    'PctExtHyperlinks','PctExtResourceUrls','ExtFavicon','InsecureForms','RelativeFormAction',\n",
        "    'ExtFormAction','AbnormalFormAction','PctNullSelfRedirectHyperlinks','FrequentDomainNameMismatch',\n",
        "    'FakeLinkInStatusBar','RightClickDisabled','PopUpWindow','SubmitInfoToEmail','IframeOrFrame',\n",
        "    'MissingTitle','ImagesOnlyInForm','SubdomainLevelRT','UrlLengthRT','PctExtResourceUrlsRT',\n",
        "    'AbnormalExtFormActionR','ExtMetaScriptLinkRT','PctExtNullSelfRedirectHyperlinksRT', 'CLASS_LABEL']\n",
        "\n",
        "#features\n",
        "feature_columns = ['NumDots', 'SubdomainLevel', 'PathLevel', 'UrlLength', 'NumDash', 'NumDashInHostname', 'AtSymbol','TildeSymbol', 'NumUnderscore','NumPercent','NumQueryComponents','NumAmpersand','NumHash','NumNumericChars','NoHttps','RandomString','IpAddress','DomainInSubdomains','DomainInPaths','HttpsInHostname','HostnameLength','PathLength','QueryLength','DoubleSlashInPath','NumSensitiveWords','EmbeddedBrandName','PctExtHyperlinks','PctExtResourceUrls','ExtFavicon','InsecureForms','RelativeFormAction', 'ExtFormAction','AbnormalFormAction','PctNullSelfRedirectHyperlinks','FrequentDomainNameMismatch','FakeLinkInStatusBar','RightClickDisabled','PopUpWindow','SubmitInfoToEmail','IframeOrFrame','MissingTitle','ImagesOnlyInForm','SubdomainLevelRT','UrlLengthRT','PctExtResourceUrlsRT','AbnormalExtFormActionR','ExtMetaScriptLinkRT','PctExtNullSelfRedirectHyperlinksRT']\n",
        "    #without class label\n",
        "\n",
        "#label\n",
        "label_columns = ['CLASS_LABEL']\n",
        "\n",
        "phishing_features_df = phish_df[feature_columns]\n",
        "phishing_label_df = phish_df[label_columns]\n",
        "\n",
        "phishing_features_df.head()\n",
        "\n",
        "#initiate scaler\n",
        "min_scaler = MinMaxScaler()\n",
        "\n",
        "#scale features // this includes id (maybe drop later)\n",
        "phishing_features_df[feature_columns] = min_scaler.fit_transform(phishing_features_df[feature_columns])\n",
        "\n",
        "phishing_features_df.head()\n",
        "\n",
        "#data splitting\n",
        "\n",
        "#split data!\n",
        "x_train, x_test, y_train, y_test = train_test_split(phishing_features_df, phishing_label_df, test_size=0.2, random_state=42)\n",
        "\n",
        "#print training data shape and label's shape\n",
        "print (f\"Training: Features' shape [no. of examples * feature vector size] =  {x_train.shape}\")\n",
        "print (f\"Training: Label's shape [no. of examples * 1] = {y_train.shape}\\n\")\n",
        "\n",
        "#print test data shape and label's shape\n",
        "print (f\"Test: Features' shape [no. of examples * feature vector size] =  {x_test.shape}\")\n",
        "print (f\"Test: Label's shape [no. of examples * 1] = {y_test.shape}\\n\")"
      ]
    },
    {
      "cell_type": "markdown",
      "source": [
        "### **Train all Models**\n",
        "\n",
        "- Logistic Regression\n",
        "\n",
        "- Random Forest\n",
        "\n",
        "- SVM\n",
        "\n",
        "- MLP\n",
        "\n",
        "**import necessary files**"
      ],
      "metadata": {
        "id": "Ah8qsWj6x_7z"
      }
    },
    {
      "cell_type": "code",
      "source": [
        "from sklearn.svm import SVC\n",
        "from sklearn.ensemble import RandomForestClassifier\n",
        "from sklearn.neural_network import MLPClassifier\n",
        "from sklearn.linear_model import LogisticRegression\n",
        "from sklearn.metrics import classification_report\n",
        "\n",
        "#do i need this\n",
        "from sklearn.metrics import roc_auc_score, confusion_matrix"
      ],
      "metadata": {
        "id": "9fUUWWG4yFxi"
      },
      "execution_count": 2,
      "outputs": []
    },
    {
      "cell_type": "markdown",
      "source": [
        "**testing all models**"
      ],
      "metadata": {
        "id": "9FDOBuYHyMGe"
      }
    },
    {
      "cell_type": "code",
      "source": [
        "#SVM\n",
        "svm_model = SVC(kernel=\"linear\")\n",
        "svm_model.fit(x_train, y_train.values.ravel())  #ravel() to convert y_train to 1d array\n",
        "svm_predictions = svm_model.predict(x_test)\n",
        "\n",
        "print(\"SVM Classification Report:\")\n",
        "print(classification_report(y_test, svm_predictions))\n",
        "\n",
        "#Random Forest\n",
        "rf_model = RandomForestClassifier(n_estimators=100, random_state=42)\n",
        "rf_model.fit(x_train, y_train.values.ravel())\n",
        "rf_predictions = rf_model.predict(x_test)\n",
        "\n",
        "print(\"\\nRandom Forest Classification Report:\")\n",
        "print(classification_report(y_test, rf_predictions))\n",
        "\n",
        "#MLP (Multi-Layer Perceptron)\n",
        "mlp_model = MLPClassifier(hidden_layer_sizes=(100,), max_iter=1000, random_state=42)\n",
        "mlp_model.fit(x_train, y_train.values.ravel())\n",
        "mlp_predictions = mlp_model.predict(x_test)\n",
        "\n",
        "print(\"\\nMLP Classification Report:\")\n",
        "print(classification_report(y_test, mlp_predictions))\n",
        "\n",
        "# Logistic Regression\n",
        "logistic_model = LogisticRegression(max_iter=1000, random_state=42)\n",
        "logistic_model.fit(x_train, y_train.values.ravel())\n",
        "logistic_predictions = logistic_model.predict(x_test)\n",
        "\n",
        "print(\"\\nLogistic Regression Classification Report:\")\n",
        "print(classification_report(y_test, logistic_predictions))"
      ],
      "metadata": {
        "colab": {
          "base_uri": "https://localhost:8080/"
        },
        "id": "ShkXUOoHyLuz",
        "outputId": "fad7b52a-bc1e-4428-8a4d-cea1c2bbcb80"
      },
      "execution_count": 3,
      "outputs": [
        {
          "output_type": "stream",
          "name": "stdout",
          "text": [
            "SVM Classification Report:\n",
            "              precision    recall  f1-score   support\n",
            "\n",
            "           0       0.95      0.93      0.94       988\n",
            "           1       0.93      0.95      0.94      1012\n",
            "\n",
            "    accuracy                           0.94      2000\n",
            "   macro avg       0.94      0.94      0.94      2000\n",
            "weighted avg       0.94      0.94      0.94      2000\n",
            "\n",
            "\n",
            "Random Forest Classification Report:\n",
            "              precision    recall  f1-score   support\n",
            "\n",
            "           0       0.98      0.98      0.98       988\n",
            "           1       0.98      0.98      0.98      1012\n",
            "\n",
            "    accuracy                           0.98      2000\n",
            "   macro avg       0.98      0.98      0.98      2000\n",
            "weighted avg       0.98      0.98      0.98      2000\n",
            "\n",
            "\n",
            "MLP Classification Report:\n",
            "              precision    recall  f1-score   support\n",
            "\n",
            "           0       0.97      0.98      0.98       988\n",
            "           1       0.98      0.98      0.98      1012\n",
            "\n",
            "    accuracy                           0.98      2000\n",
            "   macro avg       0.98      0.98      0.98      2000\n",
            "weighted avg       0.98      0.98      0.98      2000\n",
            "\n",
            "\n",
            "Logistic Regression Classification Report:\n",
            "              precision    recall  f1-score   support\n",
            "\n",
            "           0       0.95      0.93      0.94       988\n",
            "           1       0.93      0.95      0.94      1012\n",
            "\n",
            "    accuracy                           0.94      2000\n",
            "   macro avg       0.94      0.94      0.94      2000\n",
            "weighted avg       0.94      0.94      0.94      2000\n",
            "\n"
          ]
        }
      ]
    },
    {
      "cell_type": "code",
      "source": [
        "# Function to print evaluation metrics\n",
        "def print_evaluation_metrics(y_true, y_pred):\n",
        "    print(\"ROC AUC Score:\", roc_auc_score(y_true, y_pred))\n",
        "    print(\"Confusion Matrix:\\n\", confusion_matrix(y_true, y_pred))\n",
        "\n",
        "# SVM Evaluation Metrics\n",
        "print(\"\\nSVM Evaluation Metrics:\")\n",
        "print_evaluation_metrics(y_test, svm_predictions)\n",
        "\n",
        "# Random Forest Evaluation Metrics\n",
        "print(\"\\nRandom Forest Evaluation Metrics:\")\n",
        "print_evaluation_metrics(y_test, rf_predictions)\n",
        "\n",
        "# MLP Evaluation Metrics\n",
        "print(\"\\nMLP Evaluation Metrics:\")\n",
        "print_evaluation_metrics(y_test, mlp_predictions)\n",
        "\n",
        "# Logistic Regression Evaluation Metrics\n",
        "print(\"\\nLogistic Regression Evaluation Metrics:\")\n",
        "print_evaluation_metrics(y_test, logistic_predictions)"
      ],
      "metadata": {
        "colab": {
          "base_uri": "https://localhost:8080/"
        },
        "id": "XT5eWHcqygnO",
        "outputId": "8d70e22f-36d9-415b-9dd8-fad3bba6967a"
      },
      "execution_count": 4,
      "outputs": [
        {
          "output_type": "stream",
          "name": "stdout",
          "text": [
            "\n",
            "SVM Evaluation Metrics:\n",
            "ROC AUC Score: 0.940389416075915\n",
            "Confusion Matrix:\n",
            " [[920  68]\n",
            " [ 51 961]]\n",
            "\n",
            "Random Forest Evaluation Metrics:\n",
            "ROC AUC Score: 0.9819974076266982\n",
            "Confusion Matrix:\n",
            " [[970  18]\n",
            " [ 18 994]]\n",
            "\n",
            "MLP Evaluation Metrics:\n",
            "ROC AUC Score: 0.9785389096029828\n",
            "Confusion Matrix:\n",
            " [[970  18]\n",
            " [ 25 987]]\n",
            "\n",
            "Logistic Regression Evaluation Metrics:\n",
            "ROC AUC Score: 0.938389128034437\n",
            "Confusion Matrix:\n",
            " [[918  70]\n",
            " [ 53 959]]\n"
          ]
        }
      ]
    }
  ]
}