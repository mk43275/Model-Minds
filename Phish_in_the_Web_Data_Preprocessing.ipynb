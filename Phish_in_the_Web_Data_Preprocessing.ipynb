{
  "nbformat": 4,
  "nbformat_minor": 0,
  "metadata": {
    "colab": {
      "provenance": []
    },
    "kernelspec": {
      "name": "python3",
      "display_name": "Python 3"
    },
    "language_info": {
      "name": "python"
    }
  },
  "cells": [
    {
      "cell_type": "markdown",
      "source": [
        "# **Phish in the Web**\n",
        "### **Data Preprocessing**"
      ],
      "metadata": {
        "id": "JucKXpohu4PY"
      }
    },
    {
      "cell_type": "code",
      "execution_count": null,
      "metadata": {
        "id": "Pn_nmpUuuoUd"
      },
      "outputs": [],
      "source": [
        "#import libraries only ONCE\n",
        "import pandas as pd\n",
        "from sklearn.preprocessing import MinMaxScaler #no one hot // all columns numeric\n",
        "from sklearn.model_selection import train_test_split #data splitting\n",
        "\n",
        "\n",
        "#read in data & check for shape\n",
        "phish_df = pd.read_csv(\"Phishing_Legitimate_full.csv\")\n",
        "phish_df.shape"
      ]
    },
    {
      "cell_type": "markdown",
      "source": [
        "**selecting columns to work with**"
      ],
      "metadata": {
        "id": "wV39HqAbvAh4"
      }
    },
    {
      "cell_type": "code",
      "source": [
        "#specifying the columns we want to keep\n",
        "selected_columns = ['NumDots', 'SubdomainLevel', 'PathLevel', 'UrlLength', 'NumDash',\n",
        "    'NumDashInHostname', 'AtSymbol','TildeSymbol', 'NumUnderscore','NumPercent',\n",
        "    'NumQueryComponents','NumAmpersand','NumHash','NumNumericChars','NoHttps',\n",
        "    'RandomString','IpAddress','DomainInSubdomains','DomainInPaths','HttpsInHostname','HostnameLength',\n",
        "    'PathLength','QueryLength','DoubleSlashInPath','NumSensitiveWords','EmbeddedBrandName',\n",
        "    'PctExtHyperlinks','PctExtResourceUrls','ExtFavicon','InsecureForms','RelativeFormAction',\n",
        "    'ExtFormAction','AbnormalFormAction','PctNullSelfRedirectHyperlinks','FrequentDomainNameMismatch',\n",
        "    'FakeLinkInStatusBar','RightClickDisabled','PopUpWindow','SubmitInfoToEmail','IframeOrFrame',\n",
        "    'MissingTitle','ImagesOnlyInForm','SubdomainLevelRT','UrlLengthRT','PctExtResourceUrlsRT',\n",
        "    'AbnormalExtFormActionR','ExtMetaScriptLinkRT','PctExtNullSelfRedirectHyperlinksRT', 'CLASS_LABEL']\n",
        "\n",
        "#features\n",
        "feature_columns = ['NumDots', 'SubdomainLevel', 'PathLevel', 'UrlLength', 'NumDash', 'NumDashInHostname', 'AtSymbol','TildeSymbol', 'NumUnderscore','NumPercent','NumQueryComponents','NumAmpersand','NumHash','NumNumericChars','NoHttps','RandomString','IpAddress','DomainInSubdomains','DomainInPaths','HttpsInHostname','HostnameLength','PathLength','QueryLength','DoubleSlashInPath','NumSensitiveWords','EmbeddedBrandName','PctExtHyperlinks','PctExtResourceUrls','ExtFavicon','InsecureForms','RelativeFormAction', 'ExtFormAction','AbnormalFormAction','PctNullSelfRedirectHyperlinks','FrequentDomainNameMismatch','FakeLinkInStatusBar','RightClickDisabled','PopUpWindow','SubmitInfoToEmail','IframeOrFrame','MissingTitle','ImagesOnlyInForm','SubdomainLevelRT','UrlLengthRT','PctExtResourceUrlsRT','AbnormalExtFormActionR','ExtMetaScriptLinkRT','PctExtNullSelfRedirectHyperlinksRT']\n",
        "    #without class label\n",
        "\n",
        "#label\n",
        "label_columns = ['CLASS_LABEL']"
      ],
      "metadata": {
        "id": "_sRMlaeQvAJk"
      },
      "execution_count": null,
      "outputs": []
    },
    {
      "cell_type": "markdown",
      "source": [
        "**creating the feature & label data frames**"
      ],
      "metadata": {
        "id": "q7P4tCZ8vEbX"
      }
    },
    {
      "cell_type": "code",
      "source": [
        "phishing_features_df = phish_df[feature_columns]\n",
        "phishing_label_df = phish_df[label_columns]\n",
        "\n",
        "phishing_features_df.head()"
      ],
      "metadata": {
        "id": "CbAdW4efvGoy"
      },
      "execution_count": null,
      "outputs": []
    },
    {
      "cell_type": "markdown",
      "source": [
        "### **Feature Engineering**"
      ],
      "metadata": {
        "id": "0qnJhit2vOrO"
      }
    },
    {
      "cell_type": "code",
      "source": [
        "#initiate scaler\n",
        "min_scaler = MinMaxScaler()\n",
        "\n",
        "#scale features // this includes id (maybe drop later)\n",
        "phishing_features_df[feature_columns] = min_scaler.fit_transform(phishing_features_df[feature_columns])\n",
        "\n",
        "phishing_features_df.head()"
      ],
      "metadata": {
        "id": "fw6QrN1tvRvh"
      },
      "execution_count": null,
      "outputs": []
    },
    {
      "cell_type": "markdown",
      "source": [
        "### **Data Splitting**\n",
        "\n",
        "splitting data into 80% train and 20% to test"
      ],
      "metadata": {
        "id": "yU_7tprovUuJ"
      }
    },
    {
      "cell_type": "code",
      "source": [
        "#data splitting\n",
        "\n",
        "#split data!\n",
        "x_train, x_test, y_train, y_test = train_test_split(phishing_features_df, phishing_label_df, test_size=0.2, random_state=42)\n",
        "\n",
        "#print training data shape and label's shape\n",
        "print (f\"Training: Features' shape [no. of examples * feature vector size] =  {x_train.shape}\")\n",
        "print (f\"Training: Label's shape [no. of examples * 1] = {y_train.shape}\\n\")\n",
        "\n",
        "#print test data shape and label's shape\n",
        "print (f\"Test: Features' shape [no. of examples * feature vector size] =  {x_test.shape}\")\n",
        "print (f\"Test: Label's shape [no. of examples * 1] = {y_test.shape}\\n\")"
      ],
      "metadata": {
        "id": "GhrtU6qkvWxf"
      },
      "execution_count": null,
      "outputs": []
    },
    {
      "cell_type": "markdown",
      "source": [
        "# **COPY BELOW FOR OTHER FILES**\n",
        "\n"
      ],
      "metadata": {
        "id": "mo57YfaEvYlF"
      }
    },
    {
      "cell_type": "code",
      "source": [
        "#import libraries only ONCE\n",
        "import pandas as pd\n",
        "from sklearn.preprocessing import MinMaxScaler #no one hot // all columns numeric\n",
        "from sklearn.model_selection import train_test_split #data splitting\n",
        "\n",
        "\n",
        "#read in data & check for shape\n",
        "phish_df = pd.read_csv(\"Phishing_Legitimate_full.csv\")\n",
        "phish_df.shape\n",
        "\n",
        "#specifying the columns we want to keep\n",
        "selected_columns = ['NumDots', 'SubdomainLevel', 'PathLevel', 'UrlLength', 'NumDash',\n",
        "    'NumDashInHostname', 'AtSymbol','TildeSymbol', 'NumUnderscore','NumPercent',\n",
        "    'NumQueryComponents','NumAmpersand','NumHash','NumNumericChars','NoHttps',\n",
        "    'RandomString','IpAddress','DomainInSubdomains','DomainInPaths','HttpsInHostname','HostnameLength',\n",
        "    'PathLength','QueryLength','DoubleSlashInPath','NumSensitiveWords','EmbeddedBrandName',\n",
        "    'PctExtHyperlinks','PctExtResourceUrls','ExtFavicon','InsecureForms','RelativeFormAction',\n",
        "    'ExtFormAction','AbnormalFormAction','PctNullSelfRedirectHyperlinks','FrequentDomainNameMismatch',\n",
        "    'FakeLinkInStatusBar','RightClickDisabled','PopUpWindow','SubmitInfoToEmail','IframeOrFrame',\n",
        "    'MissingTitle','ImagesOnlyInForm','SubdomainLevelRT','UrlLengthRT','PctExtResourceUrlsRT',\n",
        "    'AbnormalExtFormActionR','ExtMetaScriptLinkRT','PctExtNullSelfRedirectHyperlinksRT', 'CLASS_LABEL']\n",
        "\n",
        "#features\n",
        "feature_columns = ['NumDots', 'SubdomainLevel', 'PathLevel', 'UrlLength', 'NumDash', 'NumDashInHostname', 'AtSymbol','TildeSymbol', 'NumUnderscore','NumPercent','NumQueryComponents','NumAmpersand','NumHash','NumNumericChars','NoHttps','RandomString','IpAddress','DomainInSubdomains','DomainInPaths','HttpsInHostname','HostnameLength','PathLength','QueryLength','DoubleSlashInPath','NumSensitiveWords','EmbeddedBrandName','PctExtHyperlinks','PctExtResourceUrls','ExtFavicon','InsecureForms','RelativeFormAction', 'ExtFormAction','AbnormalFormAction','PctNullSelfRedirectHyperlinks','FrequentDomainNameMismatch','FakeLinkInStatusBar','RightClickDisabled','PopUpWindow','SubmitInfoToEmail','IframeOrFrame','MissingTitle','ImagesOnlyInForm','SubdomainLevelRT','UrlLengthRT','PctExtResourceUrlsRT','AbnormalExtFormActionR','ExtMetaScriptLinkRT','PctExtNullSelfRedirectHyperlinksRT']\n",
        "    #without class label\n",
        "\n",
        "#label\n",
        "label_columns = ['CLASS_LABEL']\n",
        "\n",
        "phishing_features_df = phish_df[feature_columns]\n",
        "phishing_label_df = phish_df[label_columns]\n",
        "\n",
        "phishing_features_df.head()\n",
        "\n",
        "#initiate scaler\n",
        "min_scaler = MinMaxScaler()\n",
        "\n",
        "#scale features // this includes id (maybe drop later)\n",
        "phishing_features_df[feature_columns] = min_scaler.fit_transform(phishing_features_df[feature_columns])\n",
        "\n",
        "phishing_features_df.head()\n",
        "\n",
        "#data splitting\n",
        "\n",
        "#split data!\n",
        "x_train, x_test, y_train, y_test = train_test_split(phishing_features_df, phishing_label_df, test_size=0.2, random_state=42)\n",
        "\n",
        "#print training data shape and label's shape\n",
        "print (f\"Training: Features' shape [no. of examples * feature vector size] =  {x_train.shape}\")\n",
        "print (f\"Training: Label's shape [no. of examples * 1] = {y_train.shape}\\n\")\n",
        "\n",
        "#print test data shape and label's shape\n",
        "print (f\"Test: Features' shape [no. of examples * feature vector size] =  {x_test.shape}\")\n",
        "print (f\"Test: Label's shape [no. of examples * 1] = {y_test.shape}\\n\")"
      ],
      "metadata": {
        "id": "p28Prjysvhc3"
      },
      "execution_count": null,
      "outputs": []
    }
  ]
}